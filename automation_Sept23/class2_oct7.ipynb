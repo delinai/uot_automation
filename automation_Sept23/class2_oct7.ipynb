{
 "cells": [
  {
   "cell_type": "markdown",
   "metadata": {},
   "source": [
    "### Dictionaries and Sets"
   ]
  },
  {
   "cell_type": "code",
   "execution_count": 1,
   "metadata": {},
   "outputs": [],
   "source": [
    "list1 = [1,2,3,4,5,6]\n",
    "tuple1 = (1,2,3,4,5,6)\n",
    "set1 = {1,2,3,4,5,6}"
   ]
  },
  {
   "cell_type": "code",
   "execution_count": 2,
   "metadata": {},
   "outputs": [],
   "source": [
    "list2 = [2,2,5,5,6,7,8,8,9]"
   ]
  },
  {
   "cell_type": "code",
   "execution_count": 3,
   "metadata": {},
   "outputs": [
    {
     "data": {
      "text/plain": [
       "{2, 5, 6, 7, 8, 9}"
      ]
     },
     "execution_count": 3,
     "metadata": {},
     "output_type": "execute_result"
    }
   ],
   "source": [
    "# we can use the set function to return a set of unique values from another object\n",
    "set(list2)"
   ]
  },
  {
   "cell_type": "code",
   "execution_count": 4,
   "metadata": {},
   "outputs": [],
   "source": [
    "set_unique = set(list2)"
   ]
  },
  {
   "cell_type": "code",
   "execution_count": 5,
   "metadata": {},
   "outputs": [
    {
     "name": "stdout",
     "output_type": "stream",
     "text": [
      "[2, 2, 5, 5, 6, 7, 8, 8, 9]\n",
      "{2, 5, 6, 7, 8, 9}\n"
     ]
    }
   ],
   "source": [
    "print(list2)\n",
    "print(set_unique)"
   ]
  },
  {
   "cell_type": "code",
   "execution_count": 6,
   "metadata": {},
   "outputs": [],
   "source": [
    "customers_shoes = [\"Mike\", \"Ann\", \"Chris\", \"Bob\", \"Marie\"]\n",
    "customers_bags = [\"Mike\", \"Ann\", \"Elvis\", \"Mariah\", \"John\"]"
   ]
  },
  {
   "cell_type": "code",
   "execution_count": 7,
   "metadata": {},
   "outputs": [],
   "source": [
    "shoes_set = set(customers_shoes)\n",
    "bags_set = set(customers_bags)"
   ]
  },
  {
   "cell_type": "code",
   "execution_count": 8,
   "metadata": {},
   "outputs": [
    {
     "data": {
      "text/plain": [
       "{'Ann', 'Mike'}"
      ]
     },
     "execution_count": 8,
     "metadata": {},
     "output_type": "execute_result"
    }
   ],
   "source": [
    "# intersection() method tells us which values fall into both sets\n",
    "shoes_set.intersection(bags_set)"
   ]
  },
  {
   "cell_type": "code",
   "execution_count": 9,
   "metadata": {},
   "outputs": [
    {
     "data": {
      "text/plain": [
       "{'Ann', 'Mike'}"
      ]
     },
     "execution_count": 9,
     "metadata": {},
     "output_type": "execute_result"
    }
   ],
   "source": [
    "bags_set.intersection(shoes_set)"
   ]
  },
  {
   "cell_type": "code",
   "execution_count": 11,
   "metadata": {},
   "outputs": [
    {
     "name": "stdout",
     "output_type": "stream",
     "text": [
      "{'Marie', 'Chris', 'Bob'}\n",
      "{'John', 'Elvis', 'Mariah'}\n"
     ]
    }
   ],
   "source": [
    "# we want users who only bought one item - shoes\n",
    "shoes_only = shoes_set.difference(bags_set)\n",
    "bags_only = bags_set.difference(shoes_set)\n",
    "\n",
    "print(shoes_only)\n",
    "print(bags_only)"
   ]
  },
  {
   "cell_type": "code",
   "execution_count": 12,
   "metadata": {},
   "outputs": [],
   "source": [
    "shoes_set.add(\"Johnny\") # the add() function is similar in sets as the append() function in lists"
   ]
  },
  {
   "cell_type": "code",
   "execution_count": 14,
   "metadata": {},
   "outputs": [],
   "source": [
    "sunglasses = {'Ann', 'Bob'}"
   ]
  },
  {
   "cell_type": "code",
   "execution_count": 15,
   "metadata": {},
   "outputs": [
    {
     "data": {
      "text/plain": [
       "True"
      ]
     },
     "execution_count": 15,
     "metadata": {},
     "output_type": "execute_result"
    }
   ],
   "source": [
    "shoes_set.issuperset(sunglasses) #the customers in the shoes set include the customers in the sunglasses set"
   ]
  },
  {
   "cell_type": "code",
   "execution_count": 16,
   "metadata": {},
   "outputs": [
    {
     "data": {
      "text/plain": [
       "True"
      ]
     },
     "execution_count": 16,
     "metadata": {},
     "output_type": "execute_result"
    }
   ],
   "source": [
    "sunglasses.issubset(shoes_set) # the customers in the sunglasses set are ALSO in the shoes set"
   ]
  },
  {
   "cell_type": "markdown",
   "metadata": {},
   "source": [
    "## Now let's look at dictionaries"
   ]
  },
  {
   "cell_type": "code",
   "execution_count": 17,
   "metadata": {},
   "outputs": [],
   "source": [
    "# in dictionaries, we must put data in PAIRS - which includes a KEY and a VALUE\n",
    "# dictionaries are mapping objects\n",
    "\n",
    "dict1 = {\"House\":\"A place of residence\"}\n",
    "delivery_dict = {\"ON\":[\"Ottawa\", \"Toronto\", \"London\", \"Windsor\"], \"BC\":[\"Vancouver\", \"Victoria\"]}"
   ]
  },
  {
   "cell_type": "code",
   "execution_count": 18,
   "metadata": {},
   "outputs": [],
   "source": [
    "# Nested dictionary, where we have a dictionary inside a dictionary\n",
    "shopping_carts = {\"Customer1\":\n",
    "                  {\n",
    "    \"OrderID\":12356486,\n",
    "    \"OrderItems\":[\"Shoes\", \"T-shirt\", \"Book\"],\n",
    "    \"DeliveryDate\":\"2023-09-30\",\n",
    "    \"ContactEmail\":\"cathy@gmail.com\"\n",
    "}, \n",
    "\"Customer2\":\n",
    "    {\"OrderID\":154658,\n",
    "    \"OrderItems\":[\"Shoes\", \"T-shirt\", \"Book\", \"Apples\", \"Pants\", \"Bag\"],\n",
    "    \"DeliveryDate\":{\"2023-10-30\",\"2023-11-5\"},\n",
    "    \"ContactEmail\":\"john@gmail.com\" }\n",
    "\n",
    "}"
   ]
  },
  {
   "cell_type": "code",
   "execution_count": 21,
   "metadata": {},
   "outputs": [
    {
     "data": {
      "text/plain": [
       "dict_keys(['ON', 'BC'])"
      ]
     },
     "execution_count": 21,
     "metadata": {},
     "output_type": "execute_result"
    }
   ],
   "source": [
    "delivery_dict.keys()"
   ]
  },
  {
   "cell_type": "code",
   "execution_count": 22,
   "metadata": {},
   "outputs": [
    {
     "data": {
      "text/plain": [
       "['Ottawa', 'Toronto', 'London', 'Windsor']"
      ]
     },
     "execution_count": 22,
     "metadata": {},
     "output_type": "execute_result"
    }
   ],
   "source": [
    "delivery_dict[\"ON\"]"
   ]
  },
  {
   "cell_type": "code",
   "execution_count": 23,
   "metadata": {},
   "outputs": [
    {
     "data": {
      "text/plain": [
       "'Ottawa'"
      ]
     },
     "execution_count": 23,
     "metadata": {},
     "output_type": "execute_result"
    }
   ],
   "source": [
    "delivery_dict[\"ON\"][0]"
   ]
  },
  {
   "cell_type": "code",
   "execution_count": 24,
   "metadata": {},
   "outputs": [
    {
     "data": {
      "text/plain": [
       "dict_values([['Ottawa', 'Toronto', 'London', 'Windsor'], ['Vancouver', 'Victoria']])"
      ]
     },
     "execution_count": 24,
     "metadata": {},
     "output_type": "execute_result"
    }
   ],
   "source": [
    "delivery_dict.values()"
   ]
  },
  {
   "cell_type": "code",
   "execution_count": 25,
   "metadata": {},
   "outputs": [
    {
     "data": {
      "text/plain": [
       "dict_items([('ON', ['Ottawa', 'Toronto', 'London', 'Windsor']), ('BC', ['Vancouver', 'Victoria'])])"
      ]
     },
     "execution_count": 25,
     "metadata": {},
     "output_type": "execute_result"
    }
   ],
   "source": [
    "delivery_dict.items()"
   ]
  },
  {
   "cell_type": "code",
   "execution_count": 26,
   "metadata": {},
   "outputs": [],
   "source": [
    "# if you want to add a new key-value pair, create a key that doesn't exist and set it equal to the values\n",
    "\n",
    "delivery_dict[\"AB\"] = [\"Calgary\", \"Edmonton\"]"
   ]
  },
  {
   "cell_type": "code",
   "execution_count": 27,
   "metadata": {},
   "outputs": [
    {
     "data": {
      "text/plain": [
       "{'ON': ['Ottawa', 'Toronto', 'London', 'Windsor'],\n",
       " 'BC': ['Vancouver', 'Victoria'],\n",
       " 'AB': ['Calgary', 'Edmonton']}"
      ]
     },
     "execution_count": 27,
     "metadata": {},
     "output_type": "execute_result"
    }
   ],
   "source": [
    "delivery_dict"
   ]
  },
  {
   "cell_type": "code",
   "execution_count": 29,
   "metadata": {},
   "outputs": [
    {
     "data": {
      "text/plain": [
       "['Shoes', 'T-shirt', 'Book']"
      ]
     },
     "execution_count": 29,
     "metadata": {},
     "output_type": "execute_result"
    }
   ],
   "source": [
    "shopping_carts[\"Customer1\"][\"OrderItems\"]"
   ]
  },
  {
   "cell_type": "code",
   "execution_count": 34,
   "metadata": {},
   "outputs": [],
   "source": [
    "# combine all ordered items from all customers in a single list\n",
    "\n",
    "list_of_all_items = shopping_carts[\"Customer1\"][\"OrderItems\"]\n",
    "list_of_all_items.extend(shopping_carts[\"Customer2\"][\"OrderItems\"])\n"
   ]
  },
  {
   "cell_type": "code",
   "execution_count": 36,
   "metadata": {},
   "outputs": [
    {
     "name": "stdout",
     "output_type": "stream",
     "text": [
      "{'Shoes', 'T-shirt', 'Pants', 'Book', 'Bag', 'Apples'}\n"
     ]
    }
   ],
   "source": [
    "print(set(list_of_all_items)) # create a set of unique ordered items"
   ]
  },
  {
   "cell_type": "markdown",
   "metadata": {},
   "source": [
    "### Iteration"
   ]
  },
  {
   "cell_type": "code",
   "execution_count": 39,
   "metadata": {},
   "outputs": [
    {
     "name": "stdout",
     "output_type": "stream",
     "text": [
      "['Shoes', 'T-shirt', 'Book', 'Shoes', 'T-shirt', 'Book', 'Apples', 'Pants', 'Bag', 'Shoes', 'T-shirt', 'Book', 'Apples', 'Pants', 'Bag']\n"
     ]
    }
   ],
   "source": [
    "print(list_of_all_items)"
   ]
  },
  {
   "cell_type": "code",
   "execution_count": 40,
   "metadata": {},
   "outputs": [
    {
     "name": "stdout",
     "output_type": "stream",
     "text": [
      "Shoes\n",
      "T-shirt\n",
      "Book\n",
      "Shoes\n"
     ]
    }
   ],
   "source": [
    "print(list_of_all_items[0])\n",
    "print(list_of_all_items[1])\n",
    "print(list_of_all_items[2])\n",
    "print(list_of_all_items[3])"
   ]
  },
  {
   "cell_type": "code",
   "execution_count": 43,
   "metadata": {},
   "outputs": [
    {
     "name": "stdout",
     "output_type": "stream",
     "text": [
      "Shoes\n",
      "T-shirt\n",
      "Book\n",
      "Shoes\n",
      "T-shirt\n",
      "Book\n",
      "Apples\n",
      "Pants\n",
      "Bag\n",
      "Shoes\n",
      "T-shirt\n",
      "Book\n",
      "Apples\n",
      "Pants\n",
      "Bag\n"
     ]
    }
   ],
   "source": [
    "# for loop\n",
    "\n",
    "for each_item in list_of_all_items:\n",
    "    print(each_item)"
   ]
  },
  {
   "cell_type": "code",
   "execution_count": 44,
   "metadata": {},
   "outputs": [
    {
     "name": "stdout",
     "output_type": "stream",
     "text": [
      "Shoes\n",
      "T-shirt\n",
      "Book\n",
      "Shoes\n",
      "T-shirt\n",
      "Book\n",
      "Apples\n",
      "Pants\n",
      "Bag\n",
      "Shoes\n",
      "T-shirt\n",
      "Book\n",
      "Apples\n",
      "Pants\n",
      "Bag\n"
     ]
    }
   ],
   "source": [
    "for i in list_of_all_items:\n",
    "    print(i)"
   ]
  },
  {
   "cell_type": "code",
   "execution_count": 45,
   "metadata": {},
   "outputs": [
    {
     "data": {
      "text/plain": [
       "{'Apples', 'Bag', 'Book', 'Pants', 'Shoes', 'T-shirt'}"
      ]
     },
     "execution_count": 45,
     "metadata": {},
     "output_type": "execute_result"
    }
   ],
   "source": [
    "set(list_of_all_items)"
   ]
  },
  {
   "cell_type": "code",
   "execution_count": 46,
   "metadata": {},
   "outputs": [
    {
     "name": "stdout",
     "output_type": "stream",
     "text": [
      "['T-shirt', 'T-shirt', 'Pants', 'T-shirt', 'Pants']\n",
      "['Shoes', 'Shoes', 'Bag', 'Shoes', 'Bag']\n",
      "['Book', 'Book', 'Book']\n",
      "['Apples', 'Apples']\n"
     ]
    }
   ],
   "source": [
    "clothing = []\n",
    "accessories = []\n",
    "books = []\n",
    "food = []\n",
    "\n",
    "for i in list_of_all_items:\n",
    "   if i == 'Pants' or i == 'T-shirt':\n",
    "      clothing.append(i) \n",
    "   elif i == 'Shoes' or i == 'Bag':\n",
    "      accessories.append(i)\n",
    "   elif i == 'Apples':\n",
    "      food.append(i)\n",
    "   elif i == 'Book':\n",
    "      books.append(i)\n",
    "   else:\n",
    "      continue\n",
    "   \n",
    "print(clothing)\n",
    "print(accessories)\n",
    "print(books)\n",
    "print(food)"
   ]
  },
  {
   "cell_type": "code",
   "execution_count": 48,
   "metadata": {},
   "outputs": [],
   "source": [
    "list1.append(5)"
   ]
  },
  {
   "cell_type": "code",
   "execution_count": 49,
   "metadata": {},
   "outputs": [
    {
     "data": {
      "text/plain": [
       "[1, 2, 3, 4, 5, 6, 5, 5]"
      ]
     },
     "execution_count": 49,
     "metadata": {},
     "output_type": "execute_result"
    }
   ],
   "source": [
    "list1"
   ]
  },
  {
   "cell_type": "code",
   "execution_count": 50,
   "metadata": {},
   "outputs": [],
   "source": [
    "total_customer_spend = [100.52, 52.84, 60.89, 250.50, 89.00, 98.25, 315.13, 287.50, 25.45]"
   ]
  },
  {
   "cell_type": "code",
   "execution_count": 51,
   "metadata": {},
   "outputs": [
    {
     "name": "stdout",
     "output_type": "stream",
     "text": [
      "3\n",
      "1\n",
      "5\n"
     ]
    }
   ],
   "source": [
    "high_value = 0\n",
    "med_value = 0\n",
    "low_value = 0\n",
    "\n",
    "for i in total_customer_spend:\n",
    "    if i > 200:\n",
    "        high_value += 1\n",
    "    elif i > 100 and i <= 200:\n",
    "        med_value += 1\n",
    "    elif i <= 100:\n",
    "        low_value += 1\n",
    "    \n",
    "print(high_value)\n",
    "print(med_value)\n",
    "print(low_value)"
   ]
  },
  {
   "cell_type": "markdown",
   "metadata": {},
   "source": [
    "# How to define custom functions"
   ]
  },
  {
   "cell_type": "code",
   "execution_count": 52,
   "metadata": {},
   "outputs": [],
   "source": [
    "total_customer_spend_jan = [50.25, 84.75, 250.50, 600.21, 512.21, 35.25, 350.45, 85.75, 154.21, 167.25, 188.90]"
   ]
  },
  {
   "cell_type": "code",
   "execution_count": 53,
   "metadata": {},
   "outputs": [
    {
     "name": "stdout",
     "output_type": "stream",
     "text": [
      "4\n",
      "3\n",
      "4\n"
     ]
    }
   ],
   "source": [
    "high_value = 0\n",
    "med_value = 0\n",
    "low_value = 0\n",
    "\n",
    "for i in total_customer_spend_jan:\n",
    "    if i > 200:\n",
    "        high_value += 1\n",
    "    elif i > 100 and i <= 200:\n",
    "        med_value += 1\n",
    "    elif i <= 100:\n",
    "        low_value += 1\n",
    "    \n",
    "print(high_value)\n",
    "print(med_value)\n",
    "print(low_value)"
   ]
  },
  {
   "cell_type": "code",
   "execution_count": 77,
   "metadata": {},
   "outputs": [],
   "source": [
    "def customer_value(a):\n",
    "    high_value = 0\n",
    "    high_value_avg_spend = []\n",
    "    med_value = 0\n",
    "    med_value_avg_spend = []\n",
    "    low_value = 0\n",
    "    low_value_avg_spend = []\n",
    "\n",
    "    a.sort()\n",
    "    first_quartile = a[:(len(a)//4)+1][-1]\n",
    "    middle_quartiles = a[(len(a)//4)+1:(len(a)//4) * 4][-1]\n",
    "    top_quartile = a[-1]\n",
    "    \n",
    "    for i in a:\n",
    "        if i > middle_quartiles and i <= top_quartile:\n",
    "            high_value += 1\n",
    "            high_value_avg_spend.append(i)\n",
    "        elif i > first_quartile and i <= middle_quartiles:\n",
    "            med_value += 1\n",
    "            med_value_avg_spend.append(i)\n",
    "        elif i <= first_quartile:\n",
    "            low_value += 1\n",
    "            low_value_avg_spend.append(i)\n",
    "        \n",
    "    print(\"Count of high value users: \", high_value, \" , Average Spend: \", sum(high_value_avg_spend)/len(high_value_avg_spend))\n",
    "    print(\"Count of med value users: \", med_value, \" , Average Spend: \", sum(med_value_avg_spend)/len(med_value_avg_spend))\n",
    "    print(\"Count of low value users: \", low_value, \" , Average Spend: \", sum(low_value_avg_spend)/len(low_value_avg_spend))"
   ]
  },
  {
   "cell_type": "code",
   "execution_count": 78,
   "metadata": {},
   "outputs": [
    {
     "name": "stdout",
     "output_type": "stream",
     "text": [
      "Count of high value users:  3  , Average Spend:  487.6233333333334\n",
      "Count of med value users:  5  , Average Spend:  169.322\n",
      "Count of low value users:  3  , Average Spend:  56.75\n"
     ]
    }
   ],
   "source": [
    "customer_value(total_customer_spend_jan)"
   ]
  },
  {
   "cell_type": "code",
   "execution_count": 79,
   "metadata": {},
   "outputs": [
    {
     "name": "stdout",
     "output_type": "stream",
     "text": [
      "Count of high value users:  1  , Average Spend:  315.13\n",
      "Count of med value users:  5  , Average Spend:  165.154\n",
      "Count of low value users:  3  , Average Spend:  46.39333333333334\n"
     ]
    }
   ],
   "source": [
    "customer_value(total_customer_spend)"
   ]
  },
  {
   "cell_type": "code",
   "execution_count": 57,
   "metadata": {},
   "outputs": [
    {
     "data": {
      "text/plain": [
       "[35.25,\n",
       " 50.25,\n",
       " 84.75,\n",
       " 85.75,\n",
       " 154.21,\n",
       " 167.25,\n",
       " 188.9,\n",
       " 250.5,\n",
       " 350.45,\n",
       " 512.21,\n",
       " 600.21]"
      ]
     },
     "execution_count": 57,
     "metadata": {},
     "output_type": "execute_result"
    }
   ],
   "source": [
    "# how to identify the values in each quartile of a list\n",
    "total_customer_spend_jan.sort()\n",
    "total_customer_spend_jan"
   ]
  },
  {
   "cell_type": "code",
   "execution_count": 62,
   "metadata": {},
   "outputs": [],
   "source": [
    "# find quartile positions in a list\n",
    "first_quartile = total_customer_spend_jan[:(len(total_customer_spend_jan)//4)+1]"
   ]
  },
  {
   "cell_type": "code",
   "execution_count": 64,
   "metadata": {},
   "outputs": [
    {
     "data": {
      "text/plain": [
       "84.75"
      ]
     },
     "execution_count": 64,
     "metadata": {},
     "output_type": "execute_result"
    }
   ],
   "source": [
    "total_customer_spend_jan[:(len(total_customer_spend_jan)//4)+1][-1]"
   ]
  },
  {
   "cell_type": "code",
   "execution_count": 72,
   "metadata": {},
   "outputs": [
    {
     "data": {
      "text/plain": [
       "2"
      ]
     },
     "execution_count": 72,
     "metadata": {},
     "output_type": "execute_result"
    }
   ],
   "source": [
    "(len(total_customer_spend_jan)//4)"
   ]
  },
  {
   "cell_type": "code",
   "execution_count": 74,
   "metadata": {},
   "outputs": [
    {
     "data": {
      "text/plain": [
       "250.5"
      ]
     },
     "execution_count": 74,
     "metadata": {},
     "output_type": "execute_result"
    }
   ],
   "source": [
    "total_customer_spend_jan[(len(total_customer_spend_jan)//4)+1:(len(total_customer_spend_jan)//4) * 4][-1]"
   ]
  },
  {
   "cell_type": "code",
   "execution_count": 69,
   "metadata": {},
   "outputs": [
    {
     "name": "stdout",
     "output_type": "stream",
     "text": [
      "[35.25, 50.25, 84.75, 85.75, 154.21, 167.25, 188.9, 250.5, 350.45, 512.21, 600.21]\n"
     ]
    }
   ],
   "source": [
    "print(total_customer_spend_jan)"
   ]
  },
  {
   "cell_type": "code",
   "execution_count": 55,
   "metadata": {},
   "outputs": [
    {
     "name": "stdout",
     "output_type": "stream",
     "text": [
      "Count of high value users:  4\n",
      "Count of med value users:  3\n",
      "Count of low value users:  4\n"
     ]
    }
   ],
   "source": [
    "customer_value(total_customer_spend_jan)"
   ]
  },
  {
   "cell_type": "code",
   "execution_count": null,
   "metadata": {},
   "outputs": [],
   "source": []
  }
 ],
 "metadata": {
  "kernelspec": {
   "display_name": "Python 3",
   "language": "python",
   "name": "python3"
  },
  "language_info": {
   "codemirror_mode": {
    "name": "ipython",
    "version": 3
   },
   "file_extension": ".py",
   "mimetype": "text/x-python",
   "name": "python",
   "nbconvert_exporter": "python",
   "pygments_lexer": "ipython3",
   "version": "3.11.4"
  },
  "orig_nbformat": 4
 },
 "nbformat": 4,
 "nbformat_minor": 2
}
