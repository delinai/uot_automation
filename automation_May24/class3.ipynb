{
 "cells": [
  {
   "cell_type": "code",
   "execution_count": 1,
   "metadata": {},
   "outputs": [],
   "source": [
    "# define a custom function to find the MEDIAN value of a list"
   ]
  },
  {
   "cell_type": "code",
   "execution_count": 2,
   "metadata": {},
   "outputs": [],
   "source": [
    "list1 = [12, 45, 8, 9, 7, 52]"
   ]
  },
  {
   "cell_type": "code",
   "execution_count": 8,
   "metadata": {},
   "outputs": [
    {
     "name": "stdout",
     "output_type": "stream",
     "text": [
      "[7, 8, 9, 12, 45, 52]\n",
      "6\n",
      "even\n",
      "3\n",
      "10.5\n"
     ]
    }
   ],
   "source": [
    "# logic > what is a median?\n",
    "# median is the middle value of a sorted list \n",
    "# step 1: sort the list\n",
    "\n",
    "list1.sort()\n",
    "print(list1)\n",
    "\n",
    "# step 2: find the length of the list\n",
    "\n",
    "length = len(list1)\n",
    "print(length)\n",
    "# step 3: check if the length is an even or odd number\n",
    "if length % 2 == 0:\n",
    "    print('even')\n",
    "else: \n",
    "    print('odd')\n",
    "\n",
    "# step 4: find the middle position\n",
    "middle_position = length // 2\n",
    "print(middle_position)\n",
    "\n",
    "# step 5: use this to output the middle value\n",
    "if length % 2 == 0:\n",
    "    print((list1[middle_position]+list1[middle_position-1])/2)\n",
    "else:\n",
    "    print(list1[middle_position])\n"
   ]
  },
  {
   "cell_type": "code",
   "execution_count": 6,
   "metadata": {},
   "outputs": [
    {
     "data": {
      "text/plain": [
       "[7, 8, 9, 12, 45, 52]"
      ]
     },
     "execution_count": 6,
     "metadata": {},
     "output_type": "execute_result"
    }
   ],
   "source": [
    "list1"
   ]
  },
  {
   "cell_type": "code",
   "execution_count": 13,
   "metadata": {},
   "outputs": [],
   "source": [
    "def median(x):\n",
    "    # step 1: sort the list\n",
    "    x.sort()\n",
    "\n",
    "    # step 2: find the length of the list\n",
    "\n",
    "    length = len(x)\n",
    "\n",
    "    # step 3: find the middle position\n",
    "    middle_position = length // 2\n",
    "\n",
    "    # step 4: use this to output the middle value\n",
    "    if length % 2 == 0:\n",
    "        print((x[middle_position]+x[middle_position-1])/2)\n",
    "    else:\n",
    "        print(x[middle_position])"
   ]
  },
  {
   "cell_type": "code",
   "execution_count": 10,
   "metadata": {},
   "outputs": [],
   "source": [
    "# test with odd numbered list and even numbered list\n",
    "list2 = [85,89,2,41,65]\n",
    "list1 = [12, 45, 8, 9, 7, 52]"
   ]
  },
  {
   "cell_type": "code",
   "execution_count": 14,
   "metadata": {},
   "outputs": [
    {
     "name": "stdout",
     "output_type": "stream",
     "text": [
      "65\n"
     ]
    }
   ],
   "source": [
    "median(list2)"
   ]
  },
  {
   "cell_type": "code",
   "execution_count": 15,
   "metadata": {},
   "outputs": [
    {
     "name": "stdout",
     "output_type": "stream",
     "text": [
      "10.5\n"
     ]
    }
   ],
   "source": [
    "median(list1)"
   ]
  },
  {
   "cell_type": "code",
   "execution_count": 16,
   "metadata": {},
   "outputs": [],
   "source": [
    "# defining classes\n",
    "class Dog:\n",
    "    def __init__ (self, name, age):\n",
    "        self.name = name\n",
    "        self.age = age\n",
    "    \n",
    "    def speak(self):\n",
    "        return f\"{self.name} say woof!\""
   ]
  },
  {
   "cell_type": "code",
   "execution_count": 17,
   "metadata": {},
   "outputs": [],
   "source": [
    "buddy = Dog(\"Buddy\",4)"
   ]
  },
  {
   "cell_type": "code",
   "execution_count": 18,
   "metadata": {},
   "outputs": [
    {
     "data": {
      "text/plain": [
       "'Buddy'"
      ]
     },
     "execution_count": 18,
     "metadata": {},
     "output_type": "execute_result"
    }
   ],
   "source": [
    "buddy.name"
   ]
  },
  {
   "cell_type": "code",
   "execution_count": 19,
   "metadata": {},
   "outputs": [
    {
     "data": {
      "text/plain": [
       "4"
      ]
     },
     "execution_count": 19,
     "metadata": {},
     "output_type": "execute_result"
    }
   ],
   "source": [
    "buddy.age"
   ]
  },
  {
   "cell_type": "code",
   "execution_count": 20,
   "metadata": {},
   "outputs": [
    {
     "data": {
      "text/plain": [
       "'Buddy say woof!'"
      ]
     },
     "execution_count": 20,
     "metadata": {},
     "output_type": "execute_result"
    }
   ],
   "source": [
    "buddy.speak()"
   ]
  },
  {
   "cell_type": "code",
   "execution_count": 23,
   "metadata": {},
   "outputs": [],
   "source": [
    "# define folder location\n",
    "folder_location = r'/Users/delinaivanova/Desktop/'\n"
   ]
  },
  {
   "cell_type": "code",
   "execution_count": 24,
   "metadata": {},
   "outputs": [
    {
     "data": {
      "text/plain": [
       "'/Users/delinaivanova/Desktop/example.txt'"
      ]
     },
     "execution_count": 24,
     "metadata": {},
     "output_type": "execute_result"
    }
   ],
   "source": [
    "# concatenate file name\n",
    "folder_location + 'example.txt'"
   ]
  },
  {
   "cell_type": "code",
   "execution_count": 25,
   "metadata": {},
   "outputs": [],
   "source": [
    "# file handling - create a dummy file\n",
    "\n",
    "folder_location = r'/Users/delinaivanova/Desktop/'\n",
    "\n",
    "# create a new file with Python - use the \"w\" parameter to write a new file\n",
    "\n",
    "with open(folder_location + 'example.txt', 'w') as f:\n",
    "    f.write('Hello')"
   ]
  },
  {
   "cell_type": "code",
   "execution_count": 26,
   "metadata": {},
   "outputs": [],
   "source": [
    "# let's append a new value to the text file we just created\n",
    "with open(folder_location + 'example.txt', 'a') as f:\n",
    "    f.write('\\nHow are you?') # the \\n indicates that a new line should be created in the text file"
   ]
  },
  {
   "cell_type": "code",
   "execution_count": 27,
   "metadata": {},
   "outputs": [
    {
     "name": "stdout",
     "output_type": "stream",
     "text": [
      "Hello\n",
      "How are you?\n"
     ]
    }
   ],
   "source": [
    "# let's look at a read example, how to read data from an existing into a Python environment\n",
    "with open(folder_location + 'example.txt','r') as f:\n",
    "    content = f.read()\n",
    "    print(content)"
   ]
  },
  {
   "cell_type": "code",
   "execution_count": 28,
   "metadata": {},
   "outputs": [],
   "source": [
    "import csv"
   ]
  },
  {
   "cell_type": "code",
   "execution_count": 29,
   "metadata": {},
   "outputs": [],
   "source": [
    "# create a nested list (a list of lists) to capture customer data that can be translated into a csv\n",
    "# each list indicates a row to be created in the csv file\n",
    "customers = [['ID', 'Name', 'Email']\n",
    "             , [1001, 'John Doe', 'john@email.com']\n",
    "             , [1002, 'Jane Doe', 'jane@email.com']]"
   ]
  },
  {
   "cell_type": "code",
   "execution_count": 31,
   "metadata": {},
   "outputs": [],
   "source": [
    "with open(folder_location + 'customers.csv', 'w',newline='') as f:\n",
    "    writer = csv.writer(f)\n",
    "    writer.writerows(customers) "
   ]
  },
  {
   "cell_type": "code",
   "execution_count": 32,
   "metadata": {},
   "outputs": [
    {
     "name": "stdout",
     "output_type": "stream",
     "text": [
      "ID, Name, Email\n",
      "1001, John Doe, john@email.com\n",
      "1002, Jane Doe, jane@email.com\n"
     ]
    }
   ],
   "source": [
    "# reading files from csv means we need to read each row and separate each value with a comma\n",
    "with open(folder_location + 'customers.csv', 'r') as f:\n",
    "    reader = csv.reader(f)\n",
    "    for row in reader:\n",
    "        print(', '. join(row))"
   ]
  },
  {
   "cell_type": "code",
   "execution_count": null,
   "metadata": {},
   "outputs": [],
   "source": [
    "# create two files > one txt file and one csv using the techniques we covered, and then read them back into your Python notebook\n",
    "# try to convert the output of the csv back into a list or dictionary format"
   ]
  },
  {
   "cell_type": "code",
   "execution_count": 34,
   "metadata": {},
   "outputs": [
    {
     "name": "stdout",
     "output_type": "stream",
     "text": [
      "[['ID', 'Name', 'Email'], ['1001', 'John Doe', 'john@email.com'], ['1002', 'Jane Doe', 'jane@email.com']]\n"
     ]
    }
   ],
   "source": [
    "# reading files from csv means we need to read each row and separate each value with a comma\n",
    "output_list = []\n",
    "with open(folder_location + 'customers.csv', 'r') as f:\n",
    "    reader = csv.reader(f)\n",
    "    for row in reader:\n",
    "        output_list.append(row)\n",
    "print(output_list)"
   ]
  },
  {
   "cell_type": "code",
   "execution_count": null,
   "metadata": {},
   "outputs": [],
   "source": [
    "# how would we organize a dictionary?\n",
    "dict1 = {{'ID':['1001','1002'],\n",
    "          'Name':['John Doe','Jane Doe'],\n",
    "          'Email':['john@email.com','jane@email.com']},}"
   ]
  },
  {
   "cell_type": "code",
   "execution_count": 50,
   "metadata": {},
   "outputs": [
    {
     "name": "stdout",
     "output_type": "stream",
     "text": [
      "{'ID': 0}\n",
      "{'ID': 0, 'Name': 0}\n",
      "{'ID': 0, 'Name': 0, 'Email': 0}\n",
      "['1001']\n",
      "{'ID': ['1001'], 'Name': 0, 'Email': 0}\n",
      "['John Doe']\n",
      "{'ID': ['1001'], 'Name': ['John Doe'], 'Email': 0}\n",
      "['john@email.com']\n",
      "{'ID': ['1001'], 'Name': ['John Doe'], 'Email': ['john@email.com']}\n",
      "['1001', '1002']\n",
      "{'ID': ['1001', '1002'], 'Name': ['John Doe'], 'Email': ['john@email.com']}\n",
      "['John Doe', 'Jane Doe']\n",
      "{'ID': ['1001', '1002'], 'Name': ['John Doe', 'Jane Doe'], 'Email': ['john@email.com']}\n",
      "['john@email.com', 'jane@email.com']\n",
      "{'ID': ['1001', '1002'], 'Name': ['John Doe', 'Jane Doe'], 'Email': ['john@email.com', 'jane@email.com']}\n"
     ]
    }
   ],
   "source": [
    "# create placeholder objects that we'll need\n",
    "dictionary = {}\n",
    "ids = []\n",
    "names = []\n",
    "emails = []\n",
    "# loop through the nested list\n",
    "for i in output_list:\n",
    "    if output_list.index(i) == 0: # for the first nested list in the loop, use this to create keys with 0 as placeholder\n",
    "        for a in i:\n",
    "            dictionary[a] = 0\n",
    "            print(dictionary)\n",
    "    else: # for each subsequent list\n",
    "        for a in i: # isolate each value\n",
    "            if i.index(a) == 0: # if it's the first value\n",
    "                ids.append(a) # append to the ids empty list\n",
    "                dictionary['ID'] = ids # then update the value for the \"ID\" key in the dictionary\n",
    "                print(ids)\n",
    "                print(dictionary)\n",
    "                \n",
    "            elif i.index(a) == 1: # if it's the second value\n",
    "                names.append(a) # update the names list\n",
    "                dictionary['Name'] = names # then update the value for the \"Name\" key in the dictionary\n",
    "                print(names)\n",
    "                print(dictionary)\n",
    "            else:\n",
    "                emails.append(a) #otherwise, update the emails list\n",
    "                dictionary['Email'] = emails # update the value to the key \"Email\" in the dictionary\n",
    "                print(emails)\n",
    "                print(dictionary)\n",
    "\n",
    "    "
   ]
  },
  {
   "cell_type": "code",
   "execution_count": 48,
   "metadata": {},
   "outputs": [
    {
     "data": {
      "text/plain": [
       "{'ID': ['1001', '1002'],\n",
       " 'Name': ['John Doe', 'Jane Doe'],\n",
       " 'Email': ['john@email.com', 'jane@email.com']}"
      ]
     },
     "execution_count": 48,
     "metadata": {},
     "output_type": "execute_result"
    }
   ],
   "source": [
    "dictionary"
   ]
  },
  {
   "cell_type": "code",
   "execution_count": 46,
   "metadata": {},
   "outputs": [
    {
     "name": "stdout",
     "output_type": "stream",
     "text": [
      "['John Doe', 'Jane Doe']\n",
      "['1001', '1002']\n",
      "['john@email.com', 'jane@email.com']\n"
     ]
    }
   ],
   "source": [
    "print(names)\n",
    "print(ids)\n",
    "print(emails)\n"
   ]
  },
  {
   "cell_type": "code",
   "execution_count": 43,
   "metadata": {},
   "outputs": [
    {
     "name": "stdout",
     "output_type": "stream",
     "text": [
      "['ID', 'Name', 'Email'] True\n",
      "['1001', 'John Doe', 'john@email.com'] False\n",
      "['1002', 'Jane Doe', 'jane@email.com'] False\n"
     ]
    }
   ],
   "source": [
    "for i in output_list:\n",
    "    if output_list.index(i) == 0:\n",
    "        print(i, True)\n",
    "    else:\n",
    "        print(i, False)"
   ]
  },
  {
   "cell_type": "code",
   "execution_count": null,
   "metadata": {},
   "outputs": [],
   "source": []
  }
 ],
 "metadata": {
  "kernelspec": {
   "display_name": "Python 3",
   "language": "python",
   "name": "python3"
  },
  "language_info": {
   "codemirror_mode": {
    "name": "ipython",
    "version": 3
   },
   "file_extension": ".py",
   "mimetype": "text/x-python",
   "name": "python",
   "nbconvert_exporter": "python",
   "pygments_lexer": "ipython3",
   "version": "3.9.6"
  }
 },
 "nbformat": 4,
 "nbformat_minor": 2
}
