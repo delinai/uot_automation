{
  "nbformat": 4,
  "nbformat_minor": 0,
  "metadata": {
    "colab": {
      "provenance": []
    },
    "kernelspec": {
      "name": "python3",
      "display_name": "Python 3"
    },
    "language_info": {
      "name": "python"
    }
  },
  "cells": [
    {
      "cell_type": "code",
      "execution_count": 1,
      "metadata": {
        "id": "DJlH3H4OQffd"
      },
      "outputs": [],
      "source": [
        "import csv"
      ]
    },
    {
      "cell_type": "code",
      "source": [
        "# create a class that can store the data from the file\n",
        "# focus on the attributes only\n",
        "class Shipments:\n",
        "    def __init__(self, date_received, ingredient_name, supplier, number_of_cases, units_per_case,\n",
        "                 sample_case_count1, sample_case_count2, sample_case_count3,\n",
        "                 sample_case_rejections1, sample_case_rejections2, sample_case_rejections3):\n",
        "        self.date_received = date_received\n",
        "        self.ingredient_name = ingredient_name\n",
        "        self.supplier = supplier\n",
        "        self.number_of_cases = int(number_of_cases)\n",
        "        self.units_per_case = int(units_per_case)\n",
        "        self.sample_case_count1 = int(sample_case_count1)\n",
        "        self.sample_case_count2 = int(sample_case_count2)\n",
        "        self.sample_case_count3 = int(sample_case_count3)\n",
        "        self.sample_case_rejections1 = int(sample_case_rejections1)\n",
        "        self.sample_case_rejections2 = int(sample_case_rejections2)\n",
        "        self.sample_case_rejections3 = int(sample_case_rejections3)\n",
        "        self.amount_expected = int(int(self.number_of_cases) * int(units_per_case))\n",
        "        self.amount_received = int((int(self.sample_case_count1) + int(self.sample_case_count2) + int(self.sample_case_count3))/3*int(self.number_of_cases))\n",
        "        self.over_under_received = int(self.amount_received) - int(self.amount_expected)\n",
        "        self.total_rejections = float((int(self.sample_case_rejections1) + int(self.sample_case_rejections2) + int(self.sample_case_rejections3))/3*int(self.number_of_cases))\n",
        "        self.rejected_proportion = float(int(self.total_rejections) / int(self.amount_received))"
      ],
      "metadata": {
        "id": "UamkJ6XHQj_J"
      },
      "execution_count": 47,
      "outputs": []
    },
    {
      "cell_type": "code",
      "source": [
        "# bring in the data from the shipments file\n",
        "def read_shipments(file_name):\n",
        "    global shipments\n",
        "    shipments = []\n",
        "    with open(file_name, 'r') as f:\n",
        "        reader = csv.reader(f)\n",
        "        next(reader) # skip headers\n",
        "        for row in reader:\n",
        "            date_received, ingredient_name, supplier, number_of_cases, units_per_case, \\\n",
        "                 sample_case_count1, sample_case_count2, sample_case_count3, \\\n",
        "                 sample_case_rejections1, sample_case_rejections2, sample_case_rejections3 = row[0],row[1],\\\n",
        "            row[2], row[3], row[4], row[5], row[6], row[7], row[8], row[9], row[10]\n",
        "\n",
        "            shipments.append(Shipments(date_received, ingredient_name, supplier, number_of_cases, units_per_case, \\\n",
        "                 sample_case_count1, sample_case_count2, sample_case_count3, \\\n",
        "                 sample_case_rejections1, sample_case_rejections2, sample_case_rejections3))\n",
        "    return shipments"
      ],
      "metadata": {
        "id": "vwlEbGWpQlru"
      },
      "execution_count": 48,
      "outputs": []
    },
    {
      "cell_type": "code",
      "source": [
        "read_shipments('/content/3967_Module 5_Data File_rejections.csv')"
      ],
      "metadata": {
        "colab": {
          "base_uri": "https://localhost:8080/"
        },
        "id": "qLD-V1nTQn3v",
        "outputId": "6999a9b3-f245-417e-b9f1-c763f861db30"
      },
      "execution_count": 49,
      "outputs": [
        {
          "output_type": "execute_result",
          "data": {
            "text/plain": [
              "[<__main__.Shipments at 0x7f80a33b0700>,\n",
              " <__main__.Shipments at 0x7f80a1e995d0>,\n",
              " <__main__.Shipments at 0x7f80a1f4e380>,\n",
              " <__main__.Shipments at 0x7f80a1f4ff70>,\n",
              " <__main__.Shipments at 0x7f80a1f4f6d0>,\n",
              " <__main__.Shipments at 0x7f80a1f4f340>,\n",
              " <__main__.Shipments at 0x7f80a1f4fa90>,\n",
              " <__main__.Shipments at 0x7f80a1f4e7d0>,\n",
              " <__main__.Shipments at 0x7f80a1f4f1f0>,\n",
              " <__main__.Shipments at 0x7f80a1f4eb00>,\n",
              " <__main__.Shipments at 0x7f80a1f4fc40>,\n",
              " <__main__.Shipments at 0x7f80a1f4e170>,\n",
              " <__main__.Shipments at 0x7f80a1f4f7f0>,\n",
              " <__main__.Shipments at 0x7f80a1f4eaa0>,\n",
              " <__main__.Shipments at 0x7f80a1f4e5f0>,\n",
              " <__main__.Shipments at 0x7f80a1f4eb90>,\n",
              " <__main__.Shipments at 0x7f80a1f4dc90>]"
            ]
          },
          "metadata": {},
          "execution_count": 49
        }
      ]
    },
    {
      "cell_type": "code",
      "source": [
        "len(shipments)"
      ],
      "metadata": {
        "colab": {
          "base_uri": "https://localhost:8080/"
        },
        "id": "r2Po8R3pQs26",
        "outputId": "0f5ff278-4d09-4ab4-f4fb-18122d02b71b"
      },
      "execution_count": 50,
      "outputs": [
        {
          "output_type": "execute_result",
          "data": {
            "text/plain": [
              "17"
            ]
          },
          "metadata": {},
          "execution_count": 50
        }
      ]
    },
    {
      "cell_type": "code",
      "source": [
        "# identify values that are greater than acceptable range"
      ],
      "metadata": {
        "id": "4vg2OighSOld"
      },
      "execution_count": 51,
      "outputs": []
    },
    {
      "cell_type": "code",
      "source": [
        "for i in range(17):\n",
        "  print(shipments[i].amount_received)"
      ],
      "metadata": {
        "colab": {
          "base_uri": "https://localhost:8080/"
        },
        "id": "DcsPCIlDSaj_",
        "outputId": "7971c5de-5ab5-477e-fd44-f8b075598ec1"
      },
      "execution_count": 52,
      "outputs": [
        {
          "output_type": "stream",
          "name": "stdout",
          "text": [
            "1016\n",
            "9466\n",
            "2500\n",
            "996\n",
            "709\n",
            "750\n",
            "960\n",
            "754\n",
            "600\n",
            "1826\n",
            "450\n",
            "80\n",
            "1800\n",
            "1800\n",
            "4040\n",
            "633\n",
            "333\n"
          ]
        }
      ]
    },
    {
      "cell_type": "code",
      "source": [
        "for i in range(17):\n",
        "  print(shipments[i].amount_expected)"
      ],
      "metadata": {
        "colab": {
          "base_uri": "https://localhost:8080/"
        },
        "id": "HthGXLy4StXq",
        "outputId": "d4788c15-5b0c-4831-fbe7-9c1bd91b8fb1"
      },
      "execution_count": 53,
      "outputs": [
        {
          "output_type": "stream",
          "name": "stdout",
          "text": [
            "1000\n",
            "10000\n",
            "2500\n",
            "1000\n",
            "700\n",
            "750\n",
            "960\n",
            "780\n",
            "600\n",
            "1800\n",
            "450\n",
            "80\n",
            "1800\n",
            "1800\n",
            "4000\n",
            "700\n",
            "350\n"
          ]
        }
      ]
    },
    {
      "cell_type": "code",
      "source": [
        "for i in range(17):\n",
        "  if ((shipments[i].over_under_received - shipments[i].total_rejections)/shipments[i].amount_expected) < -0.05:\n",
        "    print(shipments[i].date_received, shipments[i].ingredient_name, shipments[i].supplier)\n",
        "  #print((shipments[i].over_under_received - shipments[i].total_rejections)/shipments[i].amount_expected)"
      ],
      "metadata": {
        "colab": {
          "base_uri": "https://localhost:8080/"
        },
        "id": "QWLIXof6Ta9j",
        "outputId": "0b62f72f-0892-4ff8-ba91-3e23022f84ba"
      },
      "execution_count": 60,
      "outputs": [
        {
          "output_type": "stream",
          "name": "stdout",
          "text": [
            "10-Jun-21 tomato_cherry Tomato Land\n",
            "10-Jun-21 cucumber_english ABC Vegetables\n",
            "11-Jun-21 bananas_organic ABC Vegetables\n",
            "13-Jun-21 grapes_red Cali Fruits\n",
            "13-Jun-21 grapes_green Cali Fruits\n"
          ]
        }
      ]
    },
    {
      "cell_type": "code",
      "source": [
        "def calculate_total_shortage(i):\n",
        "  if i.over_under_received:\n",
        "    total_shortage = 1 - (i.amount_received - i.total_rejections) / i.amount_expected\n",
        "    return total_shortage * 100\n",
        "  else:\n",
        "    return 0"
      ],
      "metadata": {
        "id": "NoyH8TGCVqs1"
      },
      "execution_count": 82,
      "outputs": []
    },
    {
      "cell_type": "code",
      "source": [
        "calculate_total_shortage(shipments[0])"
      ],
      "metadata": {
        "colab": {
          "base_uri": "https://localhost:8080/"
        },
        "id": "ZNdIVF-4WeuY",
        "outputId": "da9a675d-bca0-4247-b28e-2f0362313e53"
      },
      "execution_count": 76,
      "outputs": [
        {
          "output_type": "execute_result",
          "data": {
            "text/plain": [
              "2.733333333333332"
            ]
          },
          "metadata": {},
          "execution_count": 76
        }
      ]
    },
    {
      "cell_type": "code",
      "source": [
        "print(shipments[0].ingredient_name, shipments[0].supplier, shipments[0].total_rejections, shipments[0].over_under_received, shipments[0].amount_expected, shipments[0].amount_received)"
      ],
      "metadata": {
        "colab": {
          "base_uri": "https://localhost:8080/"
        },
        "id": "i7nZWuBhWiFd",
        "outputId": "a6d0f2cd-390c-44a6-9f98-5fe592df8cd8"
      },
      "execution_count": 65,
      "outputs": [
        {
          "output_type": "stream",
          "name": "stdout",
          "text": [
            "tomato_cherry ABC Vegetables 43.33333333333333 16 1000 1016\n"
          ]
        }
      ]
    },
    {
      "cell_type": "code",
      "source": [
        "43/1000"
      ],
      "metadata": {
        "colab": {
          "base_uri": "https://localhost:8080/"
        },
        "id": "vhRSsWJXW1la",
        "outputId": "0f1e45d6-c8b3-4876-d29c-22d8bc3623c7"
      },
      "execution_count": 66,
      "outputs": [
        {
          "output_type": "execute_result",
          "data": {
            "text/plain": [
              "0.043"
            ]
          },
          "metadata": {},
          "execution_count": 66
        }
      ]
    },
    {
      "cell_type": "code",
      "source": [
        "43/1016"
      ],
      "metadata": {
        "colab": {
          "base_uri": "https://localhost:8080/"
        },
        "id": "UOYgdkwTW3MA",
        "outputId": "549ad713-6c6b-4d26-f279-df0f55610fe9"
      },
      "execution_count": 67,
      "outputs": [
        {
          "output_type": "execute_result",
          "data": {
            "text/plain": [
              "0.04232283464566929"
            ]
          },
          "metadata": {},
          "execution_count": 67
        }
      ]
    },
    {
      "cell_type": "code",
      "source": [
        "1 - (1016 - 43)/1000"
      ],
      "metadata": {
        "colab": {
          "base_uri": "https://localhost:8080/"
        },
        "id": "P7yv4jjRW8BZ",
        "outputId": "6db52621-d1cb-4bda-b876-550c046aaaa0"
      },
      "execution_count": 74,
      "outputs": [
        {
          "output_type": "execute_result",
          "data": {
            "text/plain": [
              "0.027000000000000024"
            ]
          },
          "metadata": {},
          "execution_count": 74
        }
      ]
    },
    {
      "cell_type": "code",
      "source": [
        "shortages = {}\n",
        "\n",
        "for i in shipments:\n",
        "  if calculate_total_shortage(i) > 5:\n",
        "    key = (i.date_received, i.supplier)\n",
        "\n",
        "    if key not in shortages:\n",
        "      shortages[key] = []\n",
        "\n",
        "    shortages[key].append((i.ingredient_name, calculate_total_shortage(i)))"
      ],
      "metadata": {
        "id": "Qz5JaAO8T6-P"
      },
      "execution_count": 88,
      "outputs": []
    },
    {
      "cell_type": "code",
      "source": [
        "shortages"
      ],
      "metadata": {
        "colab": {
          "base_uri": "https://localhost:8080/"
        },
        "id": "Gj9k-c1GXxSw",
        "outputId": "2a4fccaa-2d4b-485d-c16d-50a71f99887b"
      },
      "execution_count": 89,
      "outputs": [
        {
          "output_type": "execute_result",
          "data": {
            "text/plain": [
              "{('10-Jun-21', 'Tomato Land'): [('tomato_cherry', 7.673333333333343)],\n",
              " ('10-Jun-21', 'ABC Vegetables'): [('cucumber_english', 5.380952380952375)],\n",
              " ('11-Jun-21', 'ABC Vegetables'): [('bananas_organic', 6.666666666666665)],\n",
              " ('13-Jun-21', 'Cali Fruits'): [('grapes_red', 13.38095238095237),\n",
              "  ('grapes_green', 17.23809523809523)]}"
            ]
          },
          "metadata": {},
          "execution_count": 89
        }
      ]
    },
    {
      "cell_type": "code",
      "source": [
        "for (date, supplier), value in shortages.items():\n",
        "  print(date)\n",
        "  print(supplier)\n",
        "  print(value)"
      ],
      "metadata": {
        "colab": {
          "base_uri": "https://localhost:8080/"
        },
        "id": "E-GQHRsrZKum",
        "outputId": "4edbe3fe-a544-4b49-cf80-534af648cc4a"
      },
      "execution_count": 91,
      "outputs": [
        {
          "output_type": "stream",
          "name": "stdout",
          "text": [
            "10-Jun-21\n",
            "Tomato Land\n",
            "[('tomato_cherry', 7.673333333333343)]\n",
            "10-Jun-21\n",
            "ABC Vegetables\n",
            "[('cucumber_english', 5.380952380952375)]\n",
            "11-Jun-21\n",
            "ABC Vegetables\n",
            "[('bananas_organic', 6.666666666666665)]\n",
            "13-Jun-21\n",
            "Cali Fruits\n",
            "[('grapes_red', 13.38095238095237), ('grapes_green', 17.23809523809523)]\n"
          ]
        }
      ]
    },
    {
      "cell_type": "code",
      "source": [
        "for i in shipments:\n",
        "  print(i.supplier)"
      ],
      "metadata": {
        "colab": {
          "base_uri": "https://localhost:8080/"
        },
        "id": "iQggI0ygaCkp",
        "outputId": "5f23606b-af2a-47f9-8570-5a88f2a0222b"
      },
      "execution_count": 92,
      "outputs": [
        {
          "output_type": "stream",
          "name": "stdout",
          "text": [
            "ABC Vegetables\n",
            "Tomato Land\n",
            "Tomato Land\n",
            "ABC Vegetables\n",
            "ABC Vegetables\n",
            "Dill Farms\n",
            "Banana Farms Inc\n",
            "ABC Vegetables\n",
            "Banana Farms Inc\n",
            "Orchard Inc\n",
            "Orchard Inc\n",
            "Orchard Inc\n",
            "Apple Farm\n",
            "Cali Fruits\n",
            "ABC Vegetables\n",
            "Cali Fruits\n",
            "Cali Fruits\n"
          ]
        }
      ]
    },
    {
      "cell_type": "code",
      "source": [
        "output_folder = '/content/output'\n",
        "for (date, supplier), shorts in shortages.items():\n",
        "  supplier_clean = supplier.replace(' ', '_')\n",
        "  date_clean = date.replace('-','_')\n",
        "\n",
        "  file_name = f\"{supplier_clean}_{date_clean}.txt\"\n",
        "  file_path = f\"{output_folder}/{file_name}\"\n",
        "\n",
        "  # add content the file\n",
        "\n",
        "  email_lines = [\n",
        "      f\"Summary of short products for {supplier} regarding shipment on date {date}\\n\",\n",
        "      f\"{'Product Name':<20}{'Short Percentage':<20}\\n\",\n",
        "      f\"{'-'*40}\\n\"] + [f'{product_name:<20}{shorts:<20}\\n' for product_name, shorts in shorts]\n",
        "\n",
        "\n",
        "  with open(file_path, 'w') as f:\n",
        "    f.writelines(email_lines)\n",
        "\n",
        "  print(f\"written_file: {file_path}\")"
      ],
      "metadata": {
        "colab": {
          "base_uri": "https://localhost:8080/"
        },
        "id": "vazv-nV7ZrdS",
        "outputId": "6e0a1b17-1574-4eb8-eb19-ae4b98ce3f13"
      },
      "execution_count": 100,
      "outputs": [
        {
          "output_type": "stream",
          "name": "stdout",
          "text": [
            "written_file: /content/output/Tomato_Land_10_Jun_21.txt\n",
            "written_file: /content/output/ABC_Vegetables_10_Jun_21.txt\n",
            "written_file: /content/output/ABC_Vegetables_11_Jun_21.txt\n",
            "written_file: /content/output/Cali_Fruits_13_Jun_21.txt\n"
          ]
        }
      ]
    },
    {
      "cell_type": "code",
      "source": [],
      "metadata": {
        "id": "IlNscP1maI8t"
      },
      "execution_count": null,
      "outputs": []
    }
  ]
}