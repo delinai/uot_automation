{
 "cells": [
  {
   "cell_type": "code",
   "execution_count": 1,
   "metadata": {},
   "outputs": [
    {
     "data": {
      "text/plain": [
       "6"
      ]
     },
     "execution_count": 1,
     "metadata": {},
     "output_type": "execute_result"
    }
   ],
   "source": [
    "sum([1,2,3])"
   ]
  },
  {
   "cell_type": "code",
   "execution_count": 2,
   "metadata": {},
   "outputs": [],
   "source": [
    "# unit test example\n",
    "assert sum([1,2,3]) == 6"
   ]
  },
  {
   "cell_type": "code",
   "execution_count": 3,
   "metadata": {},
   "outputs": [
    {
     "ename": "AssertionError",
     "evalue": "",
     "output_type": "error",
     "traceback": [
      "\u001b[0;31m---------------------------------------------------------------------------\u001b[0m",
      "\u001b[0;31mAssertionError\u001b[0m                            Traceback (most recent call last)",
      "Cell \u001b[0;32mIn[3], line 1\u001b[0m\n\u001b[0;32m----> 1\u001b[0m \u001b[38;5;28;01massert\u001b[39;00m \u001b[38;5;28msum\u001b[39m([\u001b[38;5;241m1\u001b[39m,\u001b[38;5;241m2\u001b[39m,\u001b[38;5;241m3\u001b[39m]) \u001b[38;5;241m==\u001b[39m \u001b[38;5;241m7\u001b[39m\n",
      "\u001b[0;31mAssertionError\u001b[0m: "
     ]
    }
   ],
   "source": [
    "# if there is a logical flaw in your function, the assert function will return an error\n",
    "assert sum([1,2,3]) == 7"
   ]
  },
  {
   "cell_type": "code",
   "execution_count": 4,
   "metadata": {},
   "outputs": [],
   "source": [
    "# we can correct our function to make sure it works properly \n",
    "assert sum([1,2,4]) == 7"
   ]
  },
  {
   "cell_type": "code",
   "execution_count": 5,
   "metadata": {},
   "outputs": [],
   "source": [
    "# recreate the MEDIAN function from last week and use assert to check that it works correctly for both a even and odd list\n",
    "\n",
    "def median(x):\n",
    "    x.sort()\n",
    "    length = len(x)\n",
    "    middle_position = length // 2\n",
    "    if length % 2 == 0:\n",
    "        return (x[middle_position] + x[middle_position - 1]) / 2\n",
    "    else:\n",
    "        return x[middle_position]\n"
   ]
  },
  {
   "cell_type": "code",
   "execution_count": 6,
   "metadata": {},
   "outputs": [],
   "source": [
    "list1 = [1, 4, 6, 12, 8]\n",
    "list2 = [5, 2, 6, 12, 8, 10]\n"
   ]
  },
  {
   "cell_type": "code",
   "execution_count": 7,
   "metadata": {},
   "outputs": [],
   "source": [
    "assert median(list1) == 6\n",
    "assert median(list2)==7"
   ]
  },
  {
   "cell_type": "code",
   "execution_count": 8,
   "metadata": {},
   "outputs": [],
   "source": [
    "# End to end example of classes and file manipulation\n",
    "# Q1 - Let's take the example of inventory management: what is the specific information/attributes that we would need to collect\n",
    "# regarding inventory? \n",
    "\n",
    "# Q2 - what are the functions that we would expect an inventory management program to be able to do?"
   ]
  },
  {
   "cell_type": "code",
   "execution_count": 9,
   "metadata": {},
   "outputs": [],
   "source": [
    "# product categories - knowing which product sits in what category\n",
    "# product name, quantity, unit price, expiration date, location of stock, low-levels or overstock\n",
    "# stock status (low level, overstock, expired, expiring soon)\n",
    "\n",
    "# adding / removing / updating items\n",
    "# end of month reporting > overview of product status and what's remaining\n",
    "# forecast quantity levels so company doesn't run out"
   ]
  },
  {
   "cell_type": "code",
   "execution_count": null,
   "metadata": {},
   "outputs": [],
   "source": [
    "# class - attributes \n",
    "# class functions that add/remove/update"
   ]
  },
  {
   "cell_type": "code",
   "execution_count": 45,
   "metadata": {},
   "outputs": [],
   "source": [
    "from datetime import datetime, date, timedelta\n"
   ]
  },
  {
   "cell_type": "code",
   "execution_count": 46,
   "metadata": {},
   "outputs": [],
   "source": [
    "class Product:\n",
    "     def __init__(self, name, product_id, product_category, product_price,date_delivered, shelf_life, stocking_loc, quantity):\n",
    "        self.product_id = product_id\n",
    "        self.name = name\n",
    "        self.product_category = product_category\n",
    "        self.product_price = float(product_price)\n",
    "        self.date_delivered = datetime.strptime(date_delivered,\"%Y-%m-%d\") \n",
    "        self.shelf_life = int(shelf_life) # days\n",
    "        self.stocking_loc = stocking_loc\n",
    "        self.quantity = int(quantity)\n",
    "     \n",
    "     def add_inventory(self, amount):\n",
    "         self.quantity += amount\n",
    "\n",
    "     def sell_product(self, amount):\n",
    "         # if the amount requested is MORE than the available quantity\n",
    "         if amount <= self.quantity:\n",
    "            self.quantity -= amount\n",
    "         else:\n",
    "            print(f'Not enough stock of {self.name}')\n",
    "     \n",
    "     def inventory_value(self):\n",
    "         return self.quantity * self.product_price\n",
    "     \n",
    "     def quantity_remaining(self):\n",
    "         return self.quantity\n",
    "     \n",
    "     def expired_inventory(self):\n",
    "         if date.today() > (datetime.date(self.date_delivered) + timedelta(days = int(self.shelf_life))):\n",
    "             return f\"{self.name} is expired\"\n",
    "         else:\n",
    "             return f\"{self.name} is still valid\""
   ]
  },
  {
   "cell_type": "code",
   "execution_count": 47,
   "metadata": {},
   "outputs": [],
   "source": [
    "bananas = Product(name=\"Banana\", product_id=\"BAN4166\", product_category=\"Fruit\", product_price=0.10, \\\n",
    "                  date_delivered=\"2024-5-31\", shelf_life=4, stocking_loc=\"Fresh Fruit - A101\", quantity=1000)"
   ]
  },
  {
   "cell_type": "code",
   "execution_count": 26,
   "metadata": {},
   "outputs": [
    {
     "data": {
      "text/plain": [
       "'Banana'"
      ]
     },
     "execution_count": 26,
     "metadata": {},
     "output_type": "execute_result"
    }
   ],
   "source": [
    "# What functions would we use to return various attributes?\n",
    "# Try returning the product name for the object bananas, and the quantity\n",
    "# example of using an attribute\n",
    "bananas.name\n"
   ]
  },
  {
   "cell_type": "code",
   "execution_count": 27,
   "metadata": {},
   "outputs": [
    {
     "data": {
      "text/plain": [
       "1000"
      ]
     },
     "execution_count": 27,
     "metadata": {},
     "output_type": "execute_result"
    }
   ],
   "source": [
    "# example of attribute\n",
    "bananas.quantity"
   ]
  },
  {
   "cell_type": "code",
   "execution_count": 37,
   "metadata": {},
   "outputs": [
    {
     "data": {
      "text/plain": [
       "0.1"
      ]
     },
     "execution_count": 37,
     "metadata": {},
     "output_type": "execute_result"
    }
   ],
   "source": [
    "bananas.product_price"
   ]
  },
  {
   "cell_type": "code",
   "execution_count": 38,
   "metadata": {},
   "outputs": [
    {
     "data": {
      "text/plain": [
       "100.0"
      ]
     },
     "execution_count": 38,
     "metadata": {},
     "output_type": "execute_result"
    }
   ],
   "source": [
    "# calculate inventory value\n",
    "\n",
    "bananas.inventory_value()"
   ]
  },
  {
   "cell_type": "code",
   "execution_count": 48,
   "metadata": {},
   "outputs": [
    {
     "data": {
      "text/plain": [
       "'Banana is still valid'"
      ]
     },
     "execution_count": 48,
     "metadata": {},
     "output_type": "execute_result"
    }
   ],
   "source": [
    "bananas.expired_inventory()"
   ]
  },
  {
   "cell_type": "code",
   "execution_count": 49,
   "metadata": {},
   "outputs": [],
   "source": [
    "cherries = Product(name=\"Cherry\", product_id=\"CHER4857\", product_category=\"Fruit\", product_price=0.20, \\\n",
    "                  date_delivered=\"2024-5-23\", shelf_life=4, stocking_loc=\"Fresh Fruit - A101\", quantity=1000)"
   ]
  },
  {
   "cell_type": "code",
   "execution_count": 28,
   "metadata": {},
   "outputs": [],
   "source": [
    "list1 = [1,2,3,6]"
   ]
  },
  {
   "cell_type": "code",
   "execution_count": 29,
   "metadata": {},
   "outputs": [],
   "source": [
    "list1.sort()"
   ]
  },
  {
   "cell_type": "code",
   "execution_count": 50,
   "metadata": {},
   "outputs": [
    {
     "data": {
      "text/plain": [
       "'Cherry is expired'"
      ]
     },
     "execution_count": 50,
     "metadata": {},
     "output_type": "execute_result"
    }
   ],
   "source": [
    "cherries.expired_inventory()"
   ]
  },
  {
   "cell_type": "code",
   "execution_count": 51,
   "metadata": {},
   "outputs": [
    {
     "data": {
      "text/plain": [
       "1000"
      ]
     },
     "execution_count": 51,
     "metadata": {},
     "output_type": "execute_result"
    }
   ],
   "source": [
    "cherries.quantity_remaining()"
   ]
  },
  {
   "cell_type": "code",
   "execution_count": 52,
   "metadata": {},
   "outputs": [
    {
     "data": {
      "text/plain": [
       "1000"
      ]
     },
     "execution_count": 52,
     "metadata": {},
     "output_type": "execute_result"
    }
   ],
   "source": [
    "bananas.quantity_remaining()"
   ]
  },
  {
   "cell_type": "code",
   "execution_count": 53,
   "metadata": {},
   "outputs": [],
   "source": [
    "bananas.add_inventory(1000)"
   ]
  },
  {
   "cell_type": "code",
   "execution_count": 54,
   "metadata": {},
   "outputs": [
    {
     "data": {
      "text/plain": [
       "2000"
      ]
     },
     "execution_count": 54,
     "metadata": {},
     "output_type": "execute_result"
    }
   ],
   "source": [
    "bananas.quantity"
   ]
  },
  {
   "cell_type": "code",
   "execution_count": 55,
   "metadata": {},
   "outputs": [],
   "source": [
    "bananas.sell_product(1500)"
   ]
  },
  {
   "cell_type": "code",
   "execution_count": 57,
   "metadata": {},
   "outputs": [
    {
     "data": {
      "text/plain": [
       "500"
      ]
     },
     "execution_count": 57,
     "metadata": {},
     "output_type": "execute_result"
    }
   ],
   "source": [
    "bananas.quantity"
   ]
  },
  {
   "cell_type": "code",
   "execution_count": 58,
   "metadata": {},
   "outputs": [
    {
     "data": {
      "text/plain": [
       "50.0"
      ]
     },
     "execution_count": 58,
     "metadata": {},
     "output_type": "execute_result"
    }
   ],
   "source": [
    "bananas.inventory_value()"
   ]
  },
  {
   "cell_type": "code",
   "execution_count": 59,
   "metadata": {},
   "outputs": [],
   "source": [
    "# let's create an inventory file that has several rows of data for different products\n",
    "# each row should have all the attributes required by the class\n",
    "products = [['name', 'product_id', 'product_category', 'product_price','date_delivered', 'shelf_life', 'stocking_loc', 'quantity']\n",
    "             , [\"Banana\", \"BAN4166\", \"Fruit\", 0.10, \"2024-5-31\", 4, \"Fresh Fruit - A101\", 1000]\n",
    "             , [\"Cherries\", \"CHER1542\", \"Fruit\", 0.20, \"2024-5-27\", 7, \"Fresh Fruit - A101\", 1000]\n",
    "             , [\"Tomatoes\", \"TOM4585\", \"Fruit\", 0.15, \"2024-5-30\", 5, \"Fresh Fruit - A102\", 500]]"
   ]
  },
  {
   "cell_type": "code",
   "execution_count": 60,
   "metadata": {},
   "outputs": [],
   "source": [
    "import csv"
   ]
  },
  {
   "cell_type": "code",
   "execution_count": 62,
   "metadata": {},
   "outputs": [],
   "source": [
    "folder_location = '/Users/delinaivanova/Desktop/'\n",
    "with open(folder_location + 'products.csv', 'w',newline='') as f:\n",
    "    writer = csv.writer(f)\n",
    "    writer.writerows(products) "
   ]
  },
  {
   "cell_type": "code",
   "execution_count": 64,
   "metadata": {},
   "outputs": [],
   "source": [
    "# inventory reading function\n",
    "def read_inventory(file_name):\n",
    "    global products # global variable that we can reference anytime\n",
    "    products = []\n",
    "    with open(file_name, 'r') as f:\n",
    "        reader = csv.reader(f)\n",
    "        next(reader) # skip the first row\n",
    "        for row in reader:\n",
    "            name, product_id, product_category, product_price,date_delivered, shelf_life, stocking_loc, quantity = row[0],row[1],\\\n",
    "            row[2], row[3], row[4], row[5], row[6], row[7]\n",
    "            products.append(Product(name, product_id, product_category, product_price,date_delivered, shelf_life, stocking_loc, quantity))\n",
    "    return products\n"
   ]
  },
  {
   "cell_type": "code",
   "execution_count": 65,
   "metadata": {},
   "outputs": [
    {
     "data": {
      "text/plain": [
       "[<__main__.Product at 0x108945310>,\n",
       " <__main__.Product at 0x1089b3d90>,\n",
       " <__main__.Product at 0x1089b3820>]"
      ]
     },
     "execution_count": 65,
     "metadata": {},
     "output_type": "execute_result"
    }
   ],
   "source": [
    "file_name = '/Users/delinaivanova/Desktop/products.csv'\n",
    "read_inventory(file_name)"
   ]
  },
  {
   "cell_type": "code",
   "execution_count": 67,
   "metadata": {},
   "outputs": [
    {
     "data": {
      "text/plain": [
       "'Banana'"
      ]
     },
     "execution_count": 67,
     "metadata": {},
     "output_type": "execute_result"
    }
   ],
   "source": [
    "products[0].name"
   ]
  },
  {
   "cell_type": "code",
   "execution_count": 68,
   "metadata": {},
   "outputs": [
    {
     "data": {
      "text/plain": [
       "1000"
      ]
     },
     "execution_count": 68,
     "metadata": {},
     "output_type": "execute_result"
    }
   ],
   "source": [
    "products[1].quantity"
   ]
  },
  {
   "cell_type": "code",
   "execution_count": 69,
   "metadata": {},
   "outputs": [
    {
     "data": {
      "text/plain": [
       "75.0"
      ]
     },
     "execution_count": 69,
     "metadata": {},
     "output_type": "execute_result"
    }
   ],
   "source": [
    "products[2].inventory_value()"
   ]
  },
  {
   "cell_type": "code",
   "execution_count": 70,
   "metadata": {},
   "outputs": [
    {
     "data": {
      "text/plain": [
       "'Tomatoes is still valid'"
      ]
     },
     "execution_count": 70,
     "metadata": {},
     "output_type": "execute_result"
    }
   ],
   "source": [
    "products[2].expired_inventory()"
   ]
  },
  {
   "cell_type": "code",
   "execution_count": 73,
   "metadata": {},
   "outputs": [
    {
     "name": "stdout",
     "output_type": "stream",
     "text": [
      "Banana 1000\n",
      "Cherries 1000\n"
     ]
    }
   ],
   "source": [
    "for i in range(2):\n",
    "    print(products[i].name, products[i].quantity)"
   ]
  },
  {
   "cell_type": "code",
   "execution_count": 74,
   "metadata": {},
   "outputs": [],
   "source": [
    "products[0].add_inventory(100)\n",
    "products[1].sell_product(50)"
   ]
  },
  {
   "cell_type": "code",
   "execution_count": 77,
   "metadata": {},
   "outputs": [],
   "source": [
    "def write_inventory(file_name, products):\n",
    "    with open(file_name, 'w',newline='') as f:\n",
    "        writer = csv.writer(f)\n",
    "        writer.writerow(['name', 'product_id', 'product_category', 'product_price','date_delivered', 'shelf_life', 'stocking_loc', 'quantity'])\n",
    "        for product in products:\n",
    "            writer.writerow([product.name, product.product_id, product.product_category, product.product_price, product.date_delivered, \\\n",
    "                            product.shelf_life, product.stocking_loc, product.quantity]) "
   ]
  },
  {
   "cell_type": "code",
   "execution_count": 78,
   "metadata": {},
   "outputs": [],
   "source": [
    "write_inventory(file_name, products)"
   ]
  },
  {
   "cell_type": "code",
   "execution_count": null,
   "metadata": {},
   "outputs": [],
   "source": []
  }
 ],
 "metadata": {
  "kernelspec": {
   "display_name": "Python 3",
   "language": "python",
   "name": "python3"
  },
  "language_info": {
   "codemirror_mode": {
    "name": "ipython",
    "version": 3
   },
   "file_extension": ".py",
   "mimetype": "text/x-python",
   "name": "python",
   "nbconvert_exporter": "python",
   "pygments_lexer": "ipython3",
   "version": "3.9.6"
  }
 },
 "nbformat": 4,
 "nbformat_minor": 2
}
