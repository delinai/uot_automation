{
 "cells": [
  {
   "cell_type": "code",
   "execution_count": 1,
   "metadata": {},
   "outputs": [],
   "source": [
    "## Topics for the day\n",
    "# Slicing\n",
    "# Sets and Dictionaries\n",
    "# String operations\n",
    "# Loops (for loops)\n",
    "# Conditional statements (if / else)\n",
    "# Custom functions"
   ]
  },
  {
   "cell_type": "code",
   "execution_count": 2,
   "metadata": {},
   "outputs": [],
   "source": [
    "# Slicing\n",
    "list1 = [45, 35, 89, 15, 25, 89, 14, 56, 15, 68]"
   ]
  },
  {
   "cell_type": "code",
   "execution_count": 4,
   "metadata": {},
   "outputs": [
    {
     "data": {
      "text/plain": [
       "25"
      ]
     },
     "execution_count": 4,
     "metadata": {},
     "output_type": "execute_result"
    }
   ],
   "source": [
    "# Slicing individual values\n",
    "list1[4]"
   ]
  },
  {
   "cell_type": "code",
   "execution_count": 5,
   "metadata": {},
   "outputs": [
    {
     "data": {
      "text/plain": [
       "[45, 35, 89, 15, 25]"
      ]
     },
     "execution_count": 5,
     "metadata": {},
     "output_type": "execute_result"
    }
   ],
   "source": [
    "# Slicing a range of values\n",
    "# Slicing everything starting at position 0 up to, but not including position 5 (6th position)\n",
    "list1[0:5]"
   ]
  },
  {
   "cell_type": "code",
   "execution_count": 6,
   "metadata": {},
   "outputs": [
    {
     "data": {
      "text/plain": [
       "[89, 14, 56]"
      ]
     },
     "execution_count": 6,
     "metadata": {},
     "output_type": "execute_result"
    }
   ],
   "source": [
    "list1[5:8]"
   ]
  },
  {
   "cell_type": "code",
   "execution_count": 8,
   "metadata": {},
   "outputs": [
    {
     "name": "stdout",
     "output_type": "stream",
     "text": [
      "[45, 35, 89, 15, 25, 89, 14, 56, 15, 68]\n",
      "[45, 89, 25, 14, 15]\n"
     ]
    }
   ],
   "source": [
    "# Slicing with a step - let's try every other value\n",
    "print(list1)\n",
    "print(list1[0:10:2])\n"
   ]
  },
  {
   "cell_type": "code",
   "execution_count": 10,
   "metadata": {},
   "outputs": [
    {
     "data": {
      "text/plain": [
       "[45, 89, 25, 14, 15]"
      ]
     },
     "execution_count": 10,
     "metadata": {},
     "output_type": "execute_result"
    }
   ],
   "source": [
    "# If I want every other value, regardless of the length of the list, I can not specify the starting/ending positions\n",
    "# The first colon symbolizes the need to return the FULL list, the second colon specifies the step value\n",
    "list1[::2]"
   ]
  },
  {
   "cell_type": "code",
   "execution_count": 11,
   "metadata": {},
   "outputs": [
    {
     "data": {
      "text/plain": [
       "68"
      ]
     },
     "execution_count": 11,
     "metadata": {},
     "output_type": "execute_result"
    }
   ],
   "source": [
    "# Slicing in reverse\n",
    "# Starting at the back of the list, the first position is -1\n",
    "list1[-1]"
   ]
  },
  {
   "cell_type": "code",
   "execution_count": 13,
   "metadata": {},
   "outputs": [
    {
     "data": {
      "text/plain": [
       "[14, 56, 15, 68]"
      ]
     },
     "execution_count": 13,
     "metadata": {},
     "output_type": "execute_result"
    }
   ],
   "source": [
    "# If you're slicing a range of the values you want starting from the back, the notation is still left to right\n",
    "# E.g., if we want the last 4 values, we need to return values -4 onwards (don't specify ending value)\n",
    "list1[-4:]"
   ]
  },
  {
   "cell_type": "code",
   "execution_count": 14,
   "metadata": {},
   "outputs": [],
   "source": [
    "# When you slice, you can assign any new value to replace the values in your slice\n",
    "list1[0] = 100"
   ]
  },
  {
   "cell_type": "code",
   "execution_count": 17,
   "metadata": {},
   "outputs": [],
   "source": [
    "list1[-1] = 300"
   ]
  },
  {
   "cell_type": "code",
   "execution_count": 18,
   "metadata": {},
   "outputs": [
    {
     "data": {
      "text/plain": [
       "[100, 35, 89, 15, 25, 89, 14, 56, 15, 300]"
      ]
     },
     "execution_count": 18,
     "metadata": {},
     "output_type": "execute_result"
    }
   ],
   "source": [
    "list1"
   ]
  },
  {
   "cell_type": "code",
   "execution_count": 19,
   "metadata": {},
   "outputs": [],
   "source": [
    "# Using Sets\n",
    "# Sets can only hold unique values\n",
    "\n",
    "set1 = {100, 35, 89, 15, 25, 89, 14, 56, 15, 300}\n"
   ]
  },
  {
   "cell_type": "code",
   "execution_count": 20,
   "metadata": {},
   "outputs": [
    {
     "data": {
      "text/plain": [
       "{14, 15, 25, 35, 56, 89, 100, 300}"
      ]
     },
     "execution_count": 20,
     "metadata": {},
     "output_type": "execute_result"
    }
   ],
   "source": [
    "# Once I define a set, it will be sorted and any duplicates will be removed\n",
    "set1"
   ]
  },
  {
   "cell_type": "code",
   "execution_count": 21,
   "metadata": {},
   "outputs": [],
   "source": [
    "# we can add a value to a set using add(); this is similar to the append() function for a list\n",
    "set1.add(46)"
   ]
  },
  {
   "cell_type": "code",
   "execution_count": 23,
   "metadata": {},
   "outputs": [
    {
     "data": {
      "text/plain": [
       "35"
      ]
     },
     "execution_count": 23,
     "metadata": {},
     "output_type": "execute_result"
    }
   ],
   "source": [
    "# pop() removes a random value from the set\n",
    "set1.pop()"
   ]
  },
  {
   "cell_type": "code",
   "execution_count": 24,
   "metadata": {},
   "outputs": [],
   "source": [
    "# remove() removes a specific value from a set\n",
    "set1.remove(14)"
   ]
  },
  {
   "cell_type": "code",
   "execution_count": 25,
   "metadata": {},
   "outputs": [
    {
     "data": {
      "text/plain": [
       "{15, 25, 46, 56, 89, 100, 300}"
      ]
     },
     "execution_count": 25,
     "metadata": {},
     "output_type": "execute_result"
    }
   ],
   "source": [
    "set1"
   ]
  },
  {
   "cell_type": "code",
   "execution_count": 26,
   "metadata": {},
   "outputs": [],
   "source": [
    "set2 = {46,56,85,523,17,452}"
   ]
  },
  {
   "cell_type": "code",
   "execution_count": 27,
   "metadata": {},
   "outputs": [
    {
     "data": {
      "text/plain": [
       "{46, 56}"
      ]
     },
     "execution_count": 27,
     "metadata": {},
     "output_type": "execute_result"
    }
   ],
   "source": [
    "# Which elements exist in set1 which also exist in set2? We can use intersection() for this\n",
    "set1.intersection(set2)"
   ]
  },
  {
   "cell_type": "code",
   "execution_count": 28,
   "metadata": {},
   "outputs": [
    {
     "data": {
      "text/plain": [
       "{46, 56}"
      ]
     },
     "execution_count": 28,
     "metadata": {},
     "output_type": "execute_result"
    }
   ],
   "source": [
    "set2.intersection(set1)"
   ]
  },
  {
   "cell_type": "code",
   "execution_count": 29,
   "metadata": {},
   "outputs": [
    {
     "data": {
      "text/plain": [
       "{15, 25, 89, 100, 300}"
      ]
     },
     "execution_count": 29,
     "metadata": {},
     "output_type": "execute_result"
    }
   ],
   "source": [
    "# we can use the difference() function to find which elements are different - for example, what exists in set1 that does NOT exist in set2?\n",
    "set1.difference(set2)"
   ]
  },
  {
   "cell_type": "code",
   "execution_count": 30,
   "metadata": {},
   "outputs": [
    {
     "data": {
      "text/plain": [
       "{17, 85, 452, 523}"
      ]
     },
     "execution_count": 30,
     "metadata": {},
     "output_type": "execute_result"
    }
   ],
   "source": [
    "set2.difference(set1)"
   ]
  },
  {
   "cell_type": "code",
   "execution_count": 31,
   "metadata": {},
   "outputs": [
    {
     "data": {
      "text/plain": [
       "{46, 56}"
      ]
     },
     "execution_count": 31,
     "metadata": {},
     "output_type": "execute_result"
    }
   ],
   "source": [
    "# if you use intersection_update() it will overwrite the original set with just the items that are common\n",
    "set1.intersection_update(set2)\n",
    "set1"
   ]
  },
  {
   "cell_type": "code",
   "execution_count": 32,
   "metadata": {},
   "outputs": [
    {
     "data": {
      "text/plain": [
       "True"
      ]
     },
     "execution_count": 32,
     "metadata": {},
     "output_type": "execute_result"
    }
   ],
   "source": [
    "# superset() and subset() > these functions will tell us if a full set exists in another\n",
    "set1.issubset(set2)"
   ]
  },
  {
   "cell_type": "code",
   "execution_count": 33,
   "metadata": {},
   "outputs": [
    {
     "name": "stdout",
     "output_type": "stream",
     "text": [
      "{56, 46}\n",
      "{17, 452, 85, 56, 523, 46}\n"
     ]
    }
   ],
   "source": [
    "print(set1)\n",
    "print(set2)"
   ]
  },
  {
   "cell_type": "code",
   "execution_count": 34,
   "metadata": {},
   "outputs": [
    {
     "data": {
      "text/plain": [
       "True"
      ]
     },
     "execution_count": 34,
     "metadata": {},
     "output_type": "execute_result"
    }
   ],
   "source": [
    "# issuperset() helps identify if a set contains another set\n",
    "set2.issuperset(set1)"
   ]
  },
  {
   "cell_type": "code",
   "execution_count": 36,
   "metadata": {},
   "outputs": [
    {
     "data": {
      "text/plain": [
       "{14, 15, 25, 35, 56, 89, 100, 300}"
      ]
     },
     "execution_count": 36,
     "metadata": {},
     "output_type": "execute_result"
    }
   ],
   "source": [
    "# You can other sequential objects into a set\n",
    "# for example, we can use the set() function to convert a list into a set\n",
    "# this will remove duplicates\n",
    "set(list1)"
   ]
  },
  {
   "cell_type": "code",
   "execution_count": 37,
   "metadata": {},
   "outputs": [],
   "source": [
    "tuple1 = (15,15, 18, 19, 25)"
   ]
  },
  {
   "cell_type": "code",
   "execution_count": 38,
   "metadata": {},
   "outputs": [
    {
     "data": {
      "text/plain": [
       "{15, 18, 19, 25}"
      ]
     },
     "execution_count": 38,
     "metadata": {},
     "output_type": "execute_result"
    }
   ],
   "source": [
    "# we can convert a tuple into a set also\n",
    "set(tuple1)"
   ]
  },
  {
   "cell_type": "code",
   "execution_count": 39,
   "metadata": {},
   "outputs": [
    {
     "data": {
      "text/plain": [
       "[56, 46]"
      ]
     },
     "execution_count": 39,
     "metadata": {},
     "output_type": "execute_result"
    }
   ],
   "source": [
    "# you can also use list() or tuple() functions to convert an object into those types\n",
    "list(set1)"
   ]
  },
  {
   "cell_type": "code",
   "execution_count": 40,
   "metadata": {},
   "outputs": [
    {
     "data": {
      "text/plain": [
       "[15, 15, 18, 19, 25]"
      ]
     },
     "execution_count": 40,
     "metadata": {},
     "output_type": "execute_result"
    }
   ],
   "source": [
    "list(tuple1)"
   ]
  },
  {
   "cell_type": "code",
   "execution_count": 41,
   "metadata": {},
   "outputs": [
    {
     "data": {
      "text/plain": [
       "(17, 452, 85, 56, 523, 46)"
      ]
     },
     "execution_count": 41,
     "metadata": {},
     "output_type": "execute_result"
    }
   ],
   "source": [
    "tuple(set2)"
   ]
  },
  {
   "cell_type": "code",
   "execution_count": 42,
   "metadata": {},
   "outputs": [],
   "source": [
    "# You should not use function names (like set()) to define variables, bc this will overwrite the function in Python\n",
    "set = {15,45}"
   ]
  },
  {
   "cell_type": "code",
   "execution_count": 43,
   "metadata": {},
   "outputs": [
    {
     "ename": "TypeError",
     "evalue": "'set' object is not callable",
     "output_type": "error",
     "traceback": [
      "\u001b[0;31m---------------------------------------------------------------------------\u001b[0m",
      "\u001b[0;31mTypeError\u001b[0m                                 Traceback (most recent call last)",
      "Cell \u001b[0;32mIn[43], line 1\u001b[0m\n\u001b[0;32m----> 1\u001b[0m \u001b[38;5;28;43mset\u001b[39;49m\u001b[43m(\u001b[49m\u001b[43mtuple1\u001b[49m\u001b[43m)\u001b[49m\n",
      "\u001b[0;31mTypeError\u001b[0m: 'set' object is not callable"
     ]
    }
   ],
   "source": [
    "set(tuple1)"
   ]
  },
  {
   "cell_type": "code",
   "execution_count": 44,
   "metadata": {},
   "outputs": [],
   "source": [
    "# if you do this by accident, you can use the del statement to delete the variable\n",
    "del set"
   ]
  },
  {
   "cell_type": "code",
   "execution_count": 45,
   "metadata": {},
   "outputs": [
    {
     "data": {
      "text/plain": [
       "{15, 18, 19, 25}"
      ]
     },
     "execution_count": 45,
     "metadata": {},
     "output_type": "execute_result"
    }
   ],
   "source": [
    "set(tuple1)"
   ]
  },
  {
   "cell_type": "code",
   "execution_count": 46,
   "metadata": {},
   "outputs": [],
   "source": [
    "# String Operations\n",
    "string1 = \"This weekend is sunny. I'm excited to sit outside in the sun later!\""
   ]
  },
  {
   "cell_type": "code",
   "execution_count": 47,
   "metadata": {},
   "outputs": [
    {
     "data": {
      "text/plain": [
       "'T'"
      ]
     },
     "execution_count": 47,
     "metadata": {},
     "output_type": "execute_result"
    }
   ],
   "source": [
    "# we can slice strings the same way that we can lists\n",
    "string1[0]"
   ]
  },
  {
   "cell_type": "code",
   "execution_count": 48,
   "metadata": {},
   "outputs": [
    {
     "data": {
      "text/plain": [
       "'This weekend is'"
      ]
     },
     "execution_count": 48,
     "metadata": {},
     "output_type": "execute_result"
    }
   ],
   "source": [
    "# slice a range of letters - this is called a substring\n",
    "string1[0:15]"
   ]
  },
  {
   "cell_type": "code",
   "execution_count": 49,
   "metadata": {},
   "outputs": [
    {
     "data": {
      "text/plain": [
       "\"Tsee  n.'eidoiosenhs t!\""
      ]
     },
     "execution_count": 49,
     "metadata": {},
     "output_type": "execute_result"
    }
   ],
   "source": [
    "# slice letters with a step parameter\n",
    "string1[::3]"
   ]
  },
  {
   "cell_type": "code",
   "execution_count": 50,
   "metadata": {},
   "outputs": [
    {
     "ename": "TypeError",
     "evalue": "'str' object does not support item assignment",
     "output_type": "error",
     "traceback": [
      "\u001b[0;31m---------------------------------------------------------------------------\u001b[0m",
      "\u001b[0;31mTypeError\u001b[0m                                 Traceback (most recent call last)",
      "Cell \u001b[0;32mIn[50], line 1\u001b[0m\n\u001b[0;32m----> 1\u001b[0m \u001b[43mstring1\u001b[49m\u001b[43m[\u001b[49m\u001b[38;5;241;43m0\u001b[39;49m\u001b[43m]\u001b[49m \u001b[38;5;241m=\u001b[39m \u001b[38;5;124m'\u001b[39m\u001b[38;5;124mt\u001b[39m\u001b[38;5;124m'\u001b[39m\n",
      "\u001b[0;31mTypeError\u001b[0m: 'str' object does not support item assignment"
     ]
    }
   ],
   "source": [
    "# We cannot do item assignment in strings, like we can in lists\n",
    "string1[0] = 't'"
   ]
  },
  {
   "cell_type": "code",
   "execution_count": 51,
   "metadata": {},
   "outputs": [],
   "source": [
    "# Even if a value is stored as a string, if it's a number we can use the isnumeric() function to check\n",
    "test_value = \"5\""
   ]
  },
  {
   "cell_type": "code",
   "execution_count": 52,
   "metadata": {},
   "outputs": [
    {
     "data": {
      "text/plain": [
       "True"
      ]
     },
     "execution_count": 52,
     "metadata": {},
     "output_type": "execute_result"
    }
   ],
   "source": [
    "test_value.isnumeric()"
   ]
  },
  {
   "cell_type": "code",
   "execution_count": 53,
   "metadata": {},
   "outputs": [],
   "source": [
    "product_code = \"AB1234\""
   ]
  },
  {
   "cell_type": "code",
   "execution_count": 54,
   "metadata": {},
   "outputs": [
    {
     "data": {
      "text/plain": [
       "True"
      ]
     },
     "execution_count": 54,
     "metadata": {},
     "output_type": "execute_result"
    }
   ],
   "source": [
    "# you can use isalnum() to check if a value is alphanumeric (both numbers and letters)\n",
    "product_code.isalnum()"
   ]
  },
  {
   "cell_type": "code",
   "execution_count": 55,
   "metadata": {},
   "outputs": [
    {
     "data": {
      "text/plain": [
       "False"
      ]
     },
     "execution_count": 55,
     "metadata": {},
     "output_type": "execute_result"
    }
   ],
   "source": [
    "# False, because I have special characters \".\" and \"!\"\n",
    "string1.isalpha()"
   ]
  },
  {
   "cell_type": "code",
   "execution_count": 56,
   "metadata": {},
   "outputs": [
    {
     "data": {
      "text/plain": [
       "\"This weekend is sunny. I'm excited to sit outside in the sun later!\""
      ]
     },
     "execution_count": 56,
     "metadata": {},
     "output_type": "execute_result"
    }
   ],
   "source": [
    "string1"
   ]
  },
  {
   "cell_type": "code",
   "execution_count": 57,
   "metadata": {},
   "outputs": [
    {
     "data": {
      "text/plain": [
       "False"
      ]
     },
     "execution_count": 57,
     "metadata": {},
     "output_type": "execute_result"
    }
   ],
   "source": [
    "# check if every 1st letter is capitalized\n",
    "string1.istitle()"
   ]
  },
  {
   "cell_type": "code",
   "execution_count": 58,
   "metadata": {},
   "outputs": [
    {
     "data": {
      "text/plain": [
       "False"
      ]
     },
     "execution_count": 58,
     "metadata": {},
     "output_type": "execute_result"
    }
   ],
   "source": [
    "# isupper() and islower() will check if all letters are upper or lower case\n",
    "string1.isupper()"
   ]
  },
  {
   "cell_type": "code",
   "execution_count": 59,
   "metadata": {},
   "outputs": [
    {
     "data": {
      "text/plain": [
       "False"
      ]
     },
     "execution_count": 59,
     "metadata": {},
     "output_type": "execute_result"
    }
   ],
   "source": [
    "string1.islower()"
   ]
  },
  {
   "cell_type": "code",
   "execution_count": 60,
   "metadata": {},
   "outputs": [
    {
     "data": {
      "text/plain": [
       "\"This weekend is sunny. i'm excited to sit outside in the sun later!\""
      ]
     },
     "execution_count": 60,
     "metadata": {},
     "output_type": "execute_result"
    }
   ],
   "source": [
    "# You can use upper(), lower(), capitalize()\n",
    "string1.capitalize()"
   ]
  },
  {
   "cell_type": "code",
   "execution_count": 61,
   "metadata": {},
   "outputs": [
    {
     "data": {
      "text/plain": [
       "\"THIS WEEKEND IS SUNNY. I'M EXCITED TO SIT OUTSIDE IN THE SUN LATER!\""
      ]
     },
     "execution_count": 61,
     "metadata": {},
     "output_type": "execute_result"
    }
   ],
   "source": [
    "string1.upper()"
   ]
  },
  {
   "cell_type": "code",
   "execution_count": 62,
   "metadata": {},
   "outputs": [
    {
     "data": {
      "text/plain": [
       "\"this weekend is sunny. i'm excited to sit outside in the sun later!\""
      ]
     },
     "execution_count": 62,
     "metadata": {},
     "output_type": "execute_result"
    }
   ],
   "source": [
    "string1.lower()"
   ]
  },
  {
   "cell_type": "code",
   "execution_count": 63,
   "metadata": {},
   "outputs": [],
   "source": [
    "productA = \"ABC123\"\n",
    "productB = \"abc456\""
   ]
  },
  {
   "cell_type": "code",
   "execution_count": 68,
   "metadata": {},
   "outputs": [
    {
     "name": "stdout",
     "output_type": "stream",
     "text": [
      "True\n",
      "True\n"
     ]
    }
   ],
   "source": [
    "# we can check for a substring using the \"in\" parameter\n",
    "for i in [productA, productB]:\n",
    "    print(\"abc\" in i.lower())"
   ]
  },
  {
   "cell_type": "code",
   "execution_count": 69,
   "metadata": {},
   "outputs": [
    {
     "name": "stdout",
     "output_type": "stream",
     "text": [
      "False\n",
      "True\n"
     ]
    }
   ],
   "source": [
    "# here we can see that if we don't make both product codes lowercase, Python won't recognize the uppercase ABC\n",
    "for i in [productA, productB]:\n",
    "    print(\"abc\" in i)"
   ]
  },
  {
   "cell_type": "code",
   "execution_count": 70,
   "metadata": {},
   "outputs": [
    {
     "data": {
      "text/plain": [
       "\"This weekend is sunny! I'm excited to sit outside in the sun later!\""
      ]
     },
     "execution_count": 70,
     "metadata": {},
     "output_type": "execute_result"
    }
   ],
   "source": [
    "# we can use replace() to change a substring\n",
    "string1.replace(\".\", \"!\")"
   ]
  },
  {
   "cell_type": "code",
   "execution_count": 71,
   "metadata": {},
   "outputs": [
    {
     "data": {
      "text/plain": [
       "\"This weekend is warm. I'm excited to sit outside in the sun later!\""
      ]
     },
     "execution_count": 71,
     "metadata": {},
     "output_type": "execute_result"
    }
   ],
   "source": [
    "# You will notice that replace() is not natively an inplace change. So if you want to store the change permanently you need to overwrie the variable\n",
    "string1.replace('sunny', 'warm')"
   ]
  },
  {
   "cell_type": "code",
   "execution_count": 72,
   "metadata": {},
   "outputs": [
    {
     "data": {
      "text/plain": [
       "16"
      ]
     },
     "execution_count": 72,
     "metadata": {},
     "output_type": "execute_result"
    }
   ],
   "source": [
    "# the find() function will find the starting position of a particular value\n",
    "string1.find('sunny')"
   ]
  },
  {
   "cell_type": "code",
   "execution_count": 73,
   "metadata": {},
   "outputs": [],
   "source": [
    "productC = \"123ON_12\"\n",
    "productD = \"ON_1234_13\""
   ]
  },
  {
   "cell_type": "code",
   "execution_count": 76,
   "metadata": {},
   "outputs": [
    {
     "name": "stdout",
     "output_type": "stream",
     "text": [
      "ON\n",
      "ON\n"
     ]
    }
   ],
   "source": [
    "# let's say we have an operation where we want to isolate the province that the product comes from\n",
    "# manual slicing would require a different function for every product name, if they are not consistently named\n",
    "print(productC[3:5])\n",
    "print(productD[0:2])"
   ]
  },
  {
   "cell_type": "code",
   "execution_count": 83,
   "metadata": {},
   "outputs": [
    {
     "data": {
      "text/plain": [
       "3"
      ]
     },
     "execution_count": 83,
     "metadata": {},
     "output_type": "execute_result"
    }
   ],
   "source": [
    "productC.find('ON')"
   ]
  },
  {
   "cell_type": "code",
   "execution_count": 81,
   "metadata": {},
   "outputs": [
    {
     "name": "stdout",
     "output_type": "stream",
     "text": [
      "ON\n",
      "ON\n"
     ]
    }
   ],
   "source": [
    "# the way we can automate this with a few function is using a combination of find() and slicing\n",
    "# instead of hardcoding the starting and ending positions, I can make them dynamic\n",
    "print(productC[productC.find('ON'):productC.find('ON')+2])\n",
    "print(productD[productD.find('ON'):productD.find('ON')+2])"
   ]
  },
  {
   "cell_type": "code",
   "execution_count": 82,
   "metadata": {},
   "outputs": [
    {
     "name": "stdout",
     "output_type": "stream",
     "text": [
      "ON\n",
      "ON\n"
     ]
    }
   ],
   "source": [
    "for i in [productC, productD]:\n",
    "    print(i[i.find('ON'):i.find('ON')+2])"
   ]
  },
  {
   "cell_type": "code",
   "execution_count": null,
   "metadata": {},
   "outputs": [],
   "source": [
    "# Dictionaries\n",
    "# Conditionals\n",
    "# Loops"
   ]
  },
  {
   "cell_type": "code",
   "execution_count": 84,
   "metadata": {},
   "outputs": [],
   "source": [
    "# Dictionaries are a type of sequential object which stores KEY:VALUE pairs; they are also defined with curly brackets like sets\n",
    "\n",
    "dict1 = {\"Customer1\":\"book\", \"Customer2\":\"shoes\", \"Customer3\":'tshirt'}\n"
   ]
  },
  {
   "cell_type": "code",
   "execution_count": 101,
   "metadata": {},
   "outputs": [],
   "source": [
    "# let's build a more complex dictionary where customers purchased multiple items\n",
    "dict2 = {\"Customer1\":['book','shoes','tshirt'], 'Customer2':['book','cleaning supplies'],'Customer3':['tshirt','shoes','TV']}"
   ]
  },
  {
   "cell_type": "code",
   "execution_count": 86,
   "metadata": {},
   "outputs": [
    {
     "data": {
      "text/plain": [
       "dict_keys(['Customer1', 'Customer2', 'Customer3'])"
      ]
     },
     "execution_count": 86,
     "metadata": {},
     "output_type": "execute_result"
    }
   ],
   "source": [
    "# to find all the keys of your dictionary, you can use the keys() function\n",
    "dict1.keys()"
   ]
  },
  {
   "cell_type": "code",
   "execution_count": 87,
   "metadata": {},
   "outputs": [
    {
     "data": {
      "text/plain": [
       "dict_values(['book', 'shoes', 'tshirt'])"
      ]
     },
     "execution_count": 87,
     "metadata": {},
     "output_type": "execute_result"
    }
   ],
   "source": [
    "# to find all the items purchased, use the values() function\n",
    "dict1.values()"
   ]
  },
  {
   "cell_type": "code",
   "execution_count": 88,
   "metadata": {},
   "outputs": [
    {
     "data": {
      "text/plain": [
       "dict_values([['book', 'shoes', 'tshirt'], ['book', 'cleaning supplies'], ['tshirt', 'shoes', 'TV']])"
      ]
     },
     "execution_count": 88,
     "metadata": {},
     "output_type": "execute_result"
    }
   ],
   "source": [
    "# the output of dict2 will be a list of lists (since the values are lists themselves)\n",
    "dict2.values()"
   ]
  },
  {
   "cell_type": "code",
   "execution_count": 89,
   "metadata": {},
   "outputs": [
    {
     "data": {
      "text/plain": [
       "dict_items([('Customer1', ['book', 'shoes', 'tshirt']), ('Customer2', ['book', 'cleaning supplies']), ('Customer3', ['tshirt', 'shoes', 'TV'])])"
      ]
     },
     "execution_count": 89,
     "metadata": {},
     "output_type": "execute_result"
    }
   ],
   "source": [
    "# the items() function returns a list of tuples which contain the key and the value\n",
    "dict2.items()"
   ]
  },
  {
   "cell_type": "code",
   "execution_count": 90,
   "metadata": {},
   "outputs": [
    {
     "data": {
      "text/plain": [
       "['book', 'shoes', 'tshirt']"
      ]
     },
     "execution_count": 90,
     "metadata": {},
     "output_type": "execute_result"
    }
   ],
   "source": [
    "# you can return the values of a specific key using either slicing brackets [] or the get() function\n",
    "dict2['Customer1']"
   ]
  },
  {
   "cell_type": "code",
   "execution_count": 91,
   "metadata": {},
   "outputs": [
    {
     "data": {
      "text/plain": [
       "['book', 'shoes', 'tshirt']"
      ]
     },
     "execution_count": 91,
     "metadata": {},
     "output_type": "execute_result"
    }
   ],
   "source": [
    "dict2.get('Customer1')"
   ]
  },
  {
   "cell_type": "code",
   "execution_count": 92,
   "metadata": {},
   "outputs": [],
   "source": [
    "# How can you combine all items that all customers purchased in dict2 into a single list?\n",
    "all_items = [item for sublist in dict2.values() for item in sublist]"
   ]
  },
  {
   "cell_type": "code",
   "execution_count": 93,
   "metadata": {},
   "outputs": [
    {
     "data": {
      "text/plain": [
       "['book',\n",
       " 'shoes',\n",
       " 'tshirt',\n",
       " 'book',\n",
       " 'cleaning supplies',\n",
       " 'tshirt',\n",
       " 'shoes',\n",
       " 'TV']"
      ]
     },
     "execution_count": 93,
     "metadata": {},
     "output_type": "execute_result"
    }
   ],
   "source": [
    "all_items"
   ]
  },
  {
   "cell_type": "code",
   "execution_count": 103,
   "metadata": {},
   "outputs": [],
   "source": [
    "full_list = list(dict2['Customer1'])"
   ]
  },
  {
   "cell_type": "code",
   "execution_count": 105,
   "metadata": {},
   "outputs": [],
   "source": [
    "full_list.extend(list(dict2['Customer2']))"
   ]
  },
  {
   "cell_type": "code",
   "execution_count": 106,
   "metadata": {},
   "outputs": [
    {
     "data": {
      "text/plain": [
       "['book', 'shoes', 'tshirt', 'book', 'cleaning supplies']"
      ]
     },
     "execution_count": 106,
     "metadata": {},
     "output_type": "execute_result"
    }
   ],
   "source": [
    "full_list"
   ]
  },
  {
   "cell_type": "code",
   "execution_count": 107,
   "metadata": {},
   "outputs": [],
   "source": [
    "full_list.extend(list(dict2['Customer3']))"
   ]
  },
  {
   "cell_type": "code",
   "execution_count": 108,
   "metadata": {},
   "outputs": [
    {
     "data": {
      "text/plain": [
       "['book',\n",
       " 'shoes',\n",
       " 'tshirt',\n",
       " 'book',\n",
       " 'cleaning supplies',\n",
       " 'tshirt',\n",
       " 'shoes',\n",
       " 'TV']"
      ]
     },
     "execution_count": 108,
     "metadata": {},
     "output_type": "execute_result"
    }
   ],
   "source": [
    "full_list"
   ]
  },
  {
   "cell_type": "code",
   "execution_count": 109,
   "metadata": {},
   "outputs": [
    {
     "data": {
      "text/plain": [
       "{'Customer1': ['book', 'shoes', 'tshirt'],\n",
       " 'Customer2': ['book', 'cleaning supplies'],\n",
       " 'Customer3': ['tshirt', 'shoes', 'TV']}"
      ]
     },
     "execution_count": 109,
     "metadata": {},
     "output_type": "execute_result"
    }
   ],
   "source": [
    "dict2"
   ]
  },
  {
   "cell_type": "code",
   "execution_count": 111,
   "metadata": {},
   "outputs": [
    {
     "name": "stdout",
     "output_type": "stream",
     "text": [
      "200\n",
      "70\n",
      "178\n"
     ]
    }
   ],
   "source": [
    "# Loops - for loops\n",
    "# simple example - let's multiply each value in a list by 2\n",
    "print(list1[0]*2)\n",
    "print(list1[1]*2)\n",
    "print(list1[2]*2)\n"
   ]
  },
  {
   "cell_type": "code",
   "execution_count": 113,
   "metadata": {},
   "outputs": [
    {
     "data": {
      "text/plain": [
       "[100, 35, 89, 15, 25, 89, 14, 56, 15, 300]"
      ]
     },
     "execution_count": 113,
     "metadata": {},
     "output_type": "execute_result"
    }
   ],
   "source": [
    "list1"
   ]
  },
  {
   "cell_type": "code",
   "execution_count": 112,
   "metadata": {},
   "outputs": [
    {
     "name": "stdout",
     "output_type": "stream",
     "text": [
      "200\n",
      "70\n",
      "178\n",
      "30\n",
      "50\n",
      "178\n",
      "28\n",
      "112\n",
      "30\n",
      "600\n"
     ]
    }
   ],
   "source": [
    "# \"i\" is a placeholder representing \"each item\"\n",
    "# the logic says \"for each item in list1, print the product of the item multiplied by 2\"\n",
    "for i in list1:\n",
    "    print(i*2)"
   ]
  },
  {
   "cell_type": "code",
   "execution_count": 114,
   "metadata": {},
   "outputs": [
    {
     "data": {
      "text/plain": [
       "10"
      ]
     },
     "execution_count": 114,
     "metadata": {},
     "output_type": "execute_result"
    }
   ],
   "source": [
    "# the len() function tells us the length of the list\n",
    "len(list1)"
   ]
  },
  {
   "cell_type": "code",
   "execution_count": 116,
   "metadata": {},
   "outputs": [
    {
     "name": "stdout",
     "output_type": "stream",
     "text": [
      "0\n",
      "1\n",
      "2\n",
      "3\n",
      "4\n",
      "5\n",
      "6\n",
      "7\n",
      "8\n",
      "9\n"
     ]
    }
   ],
   "source": [
    "# we also have a range() function, this is a generator function which can generate a set of values that fall within a certain range\n",
    "for i in range(10):\n",
    "    print(i)"
   ]
  },
  {
   "cell_type": "code",
   "execution_count": 117,
   "metadata": {},
   "outputs": [
    {
     "name": "stdout",
     "output_type": "stream",
     "text": [
      "200\n",
      "70\n",
      "178\n",
      "30\n",
      "50\n",
      "178\n",
      "28\n",
      "112\n",
      "30\n",
      "600\n"
     ]
    }
   ],
   "source": [
    "# an example of changing only the position of the list1[position]*2 logic we saw earlier, using the range() function\n",
    "for i in range(len(list1)):\n",
    "    print(list1[i]*2)"
   ]
  },
  {
   "cell_type": "code",
   "execution_count": 118,
   "metadata": {},
   "outputs": [
    {
     "data": {
      "text/plain": [
       "[100, 35, 89, 15, 25, 89, 14, 56, 15, 300]"
      ]
     },
     "execution_count": 118,
     "metadata": {},
     "output_type": "execute_result"
    }
   ],
   "source": [
    "# if I simply multiply values by 2 from a list, i'm not permanently changing the values\n",
    "list1"
   ]
  },
  {
   "cell_type": "code",
   "execution_count": 121,
   "metadata": {},
   "outputs": [],
   "source": [
    "# i could store the values*2 in a new list\n",
    "new_list = []\n",
    "for i in list1:\n",
    "    new_list.append(i*2)"
   ]
  },
  {
   "cell_type": "code",
   "execution_count": 122,
   "metadata": {},
   "outputs": [
    {
     "data": {
      "text/plain": [
       "[200, 70, 178, 30, 50, 178, 28, 112, 30, 600]"
      ]
     },
     "execution_count": 122,
     "metadata": {},
     "output_type": "execute_result"
    }
   ],
   "source": [
    "new_list"
   ]
  },
  {
   "cell_type": "code",
   "execution_count": 123,
   "metadata": {},
   "outputs": [],
   "source": [
    "# what would be the solution to replace each value, multiplied by 2, in the list directly?\n",
    "# using the range() and len() combination, we can use positional arguments and change the value in the list directly\n",
    "for i in range(len(list1)):\n",
    "    list1[i] = list1[i]*2"
   ]
  },
  {
   "cell_type": "code",
   "execution_count": 124,
   "metadata": {},
   "outputs": [
    {
     "data": {
      "text/plain": [
       "[200, 70, 178, 30, 50, 178, 28, 112, 30, 600]"
      ]
     },
     "execution_count": 124,
     "metadata": {},
     "output_type": "execute_result"
    }
   ],
   "source": [
    "list1"
   ]
  },
  {
   "cell_type": "code",
   "execution_count": 125,
   "metadata": {},
   "outputs": [],
   "source": [
    "# another option, if you have unique values in your list, is to use the index() function\n",
    "for i in list1:\n",
    "    list1[list1.index(i)] = i*2"
   ]
  },
  {
   "cell_type": "code",
   "execution_count": 126,
   "metadata": {},
   "outputs": [
    {
     "data": {
      "text/plain": [
       "[400, 140, 356, 60, 100, 356, 56, 224, 60, 1200]"
      ]
     },
     "execution_count": 126,
     "metadata": {},
     "output_type": "execute_result"
    }
   ],
   "source": [
    "list1"
   ]
  },
  {
   "cell_type": "code",
   "execution_count": 131,
   "metadata": {},
   "outputs": [],
   "source": [
    "# let's review loops and how to use them with dictionaries\n",
    "all_items = []\n",
    "for i in dict2.values():\n",
    "    all_items.extend(i)"
   ]
  },
  {
   "cell_type": "code",
   "execution_count": 132,
   "metadata": {},
   "outputs": [
    {
     "data": {
      "text/plain": [
       "['book',\n",
       " 'shoes',\n",
       " 'tshirt',\n",
       " 'book',\n",
       " 'cleaning supplies',\n",
       " 'tshirt',\n",
       " 'shoes',\n",
       " 'TV']"
      ]
     },
     "execution_count": 132,
     "metadata": {},
     "output_type": "execute_result"
    }
   ],
   "source": [
    "all_items"
   ]
  },
  {
   "cell_type": "code",
   "execution_count": 133,
   "metadata": {},
   "outputs": [
    {
     "name": "stdout",
     "output_type": "stream",
     "text": [
      "['book', 'shoes', 'tshirt']\n",
      "['book', 'cleaning supplies']\n",
      "['tshirt', 'shoes', 'TV']\n"
     ]
    }
   ],
   "source": [
    "for i in dict2.values():\n",
    "    print(i)"
   ]
  },
  {
   "cell_type": "code",
   "execution_count": 136,
   "metadata": {},
   "outputs": [],
   "source": [
    "# let's review loops and how to use them with dictionaries\n",
    "all_items_test = []\n",
    "for i in dict2.values():\n",
    "    all_items_test.append(i)"
   ]
  },
  {
   "cell_type": "code",
   "execution_count": 137,
   "metadata": {},
   "outputs": [
    {
     "data": {
      "text/plain": [
       "[['book', 'shoes', 'tshirt'],\n",
       " ['book', 'cleaning supplies'],\n",
       " ['tshirt', 'shoes', 'TV']]"
      ]
     },
     "execution_count": 137,
     "metadata": {},
     "output_type": "execute_result"
    }
   ],
   "source": [
    "# if i use append() instead of extend(), my list will return a list of lists\n",
    "all_items_test"
   ]
  },
  {
   "cell_type": "code",
   "execution_count": 138,
   "metadata": {},
   "outputs": [
    {
     "name": "stdout",
     "output_type": "stream",
     "text": [
      "('Customer1', ['book', 'shoes', 'tshirt'])\n",
      "('Customer2', ['book', 'cleaning supplies'])\n",
      "('Customer3', ['tshirt', 'shoes', 'TV'])\n"
     ]
    }
   ],
   "source": [
    "# using the items() function, we can return tuples of both the keys and the values\n",
    "for i in dict2.items():\n",
    "    print(i)"
   ]
  },
  {
   "cell_type": "code",
   "execution_count": 139,
   "metadata": {},
   "outputs": [],
   "source": [
    "# you can reference with a variable each item in a sequenced object\n",
    "# this is how you can decouple an object of multiple items\n",
    "a,b = (15,25)"
   ]
  },
  {
   "cell_type": "code",
   "execution_count": 140,
   "metadata": {},
   "outputs": [
    {
     "data": {
      "text/plain": [
       "15"
      ]
     },
     "execution_count": 140,
     "metadata": {},
     "output_type": "execute_result"
    }
   ],
   "source": [
    "a"
   ]
  },
  {
   "cell_type": "code",
   "execution_count": 141,
   "metadata": {},
   "outputs": [
    {
     "data": {
      "text/plain": [
       "25"
      ]
     },
     "execution_count": 141,
     "metadata": {},
     "output_type": "execute_result"
    }
   ],
   "source": [
    "b"
   ]
  },
  {
   "cell_type": "code",
   "execution_count": 142,
   "metadata": {},
   "outputs": [
    {
     "name": "stdout",
     "output_type": "stream",
     "text": [
      "Customer1\n",
      "['book', 'shoes', 'tshirt']\n",
      "Customer2\n",
      "['book', 'cleaning supplies']\n",
      "Customer3\n",
      "['tshirt', 'shoes', 'TV']\n"
     ]
    }
   ],
   "source": [
    "# using this logic, we can create references in our loops for each of the keys and values separately\n",
    "# for each combination, this loop returns the key separately (a) and the value separately (b)\n",
    "for a,b in dict2.items():\n",
    "    print(a)\n",
    "    print(b)"
   ]
  },
  {
   "cell_type": "code",
   "execution_count": 143,
   "metadata": {},
   "outputs": [
    {
     "name": "stdout",
     "output_type": "stream",
     "text": [
      "['Customer1', 'Customer2', 'Customer3']\n",
      "['book', 'shoes', 'tshirt', 'book', 'cleaning supplies', 'tshirt', 'shoes', 'TV']\n"
     ]
    }
   ],
   "source": [
    "# now let's say we have a use case where we want to put all the purchasing customers in a list, and separately all the items purchased\n",
    "\n",
    "customers_list = []\n",
    "items_list = []\n",
    "for a,b in dict2.items():\n",
    "    customers_list.append(a)\n",
    "    items_list.extend(b)\n",
    "\n",
    "print(customers_list)\n",
    "print(items_list)"
   ]
  },
  {
   "cell_type": "code",
   "execution_count": 144,
   "metadata": {},
   "outputs": [],
   "source": [
    "# Conditional Statements"
   ]
  },
  {
   "cell_type": "code",
   "execution_count": 145,
   "metadata": {},
   "outputs": [
    {
     "data": {
      "text/plain": [
       "[400, 140, 356, 60, 100, 356, 56, 224, 60, 1200]"
      ]
     },
     "execution_count": 145,
     "metadata": {},
     "output_type": "execute_result"
    }
   ],
   "source": [
    "list1"
   ]
  },
  {
   "cell_type": "code",
   "execution_count": 146,
   "metadata": {},
   "outputs": [
    {
     "name": "stdout",
     "output_type": "stream",
     "text": [
      "100 is greater than 50\n"
     ]
    }
   ],
   "source": [
    "# in this operation we are using a conditional statement to check if x is greater than 50 or less than/equal to 50, and printing a dynamic sentence \n",
    "x = 100\n",
    "\n",
    "if x > 50:\n",
    "    print(f'{x} is greater than 50')\n",
    "else:\n",
    "    print(f'{x} is less than or equal to 50')"
   ]
  },
  {
   "cell_type": "code",
   "execution_count": 150,
   "metadata": {},
   "outputs": [
    {
     "name": "stdout",
     "output_type": "stream",
     "text": [
      "75.75757575757576 is greater than 50\n"
     ]
    }
   ],
   "source": [
    "x = 1000/13.2\n",
    "\n",
    "if x > 50:\n",
    "    print(f'{x} is greater than 50')\n",
    "else:\n",
    "    print(f'{x} is less than or equal to 50')"
   ]
  },
  {
   "cell_type": "code",
   "execution_count": 152,
   "metadata": {},
   "outputs": [],
   "source": [
    "# we can combine loops and conditional operations\n",
    "list2 = [15, 18, 12, 50, 100, 65, 14, 2, 7]"
   ]
  },
  {
   "cell_type": "code",
   "execution_count": 153,
   "metadata": {},
   "outputs": [
    {
     "name": "stdout",
     "output_type": "stream",
     "text": [
      "15\n",
      "33\n",
      "45\n",
      "59\n",
      "61\n",
      "68\n"
     ]
    }
   ],
   "source": [
    "# let's sum all the values in our list2 object which are less than 50\n",
    "total = 0\n",
    "\n",
    "# step 1: we need to iterate through the list\n",
    "for i in list2:\n",
    "    # step 2: we need to add our conditional statement\n",
    "    if i < 50:\n",
    "        # step 2: add the action if the condition is met\n",
    "        total += i\n",
    "        print(total)\n",
    "    else:\n",
    "        continue\n",
    "\n"
   ]
  },
  {
   "cell_type": "code",
   "execution_count": 154,
   "metadata": {},
   "outputs": [],
   "source": [
    "# let's sum all the values in our list2 object which are less than 50\n",
    "total = 0\n",
    "\n",
    "# step 1: we need to iterate through the list\n",
    "for i in list2:\n",
    "    # step 2: we need to add our conditional statement\n",
    "    if i < 50:\n",
    "        # step 2: add the action if the condition is met\n",
    "        total += i\n",
    "    else:\n",
    "        continue"
   ]
  },
  {
   "cell_type": "code",
   "execution_count": 155,
   "metadata": {},
   "outputs": [
    {
     "data": {
      "text/plain": [
       "68"
      ]
     },
     "execution_count": 155,
     "metadata": {},
     "output_type": "execute_result"
    }
   ],
   "source": [
    "total"
   ]
  },
  {
   "cell_type": "code",
   "execution_count": 156,
   "metadata": {},
   "outputs": [
    {
     "name": "stdout",
     "output_type": "stream",
     "text": [
      "15\n",
      "33\n",
      "45\n",
      "50 is skipped because it's greater than 50\n",
      "100 is skipped because it's greater than 50\n",
      "65 is skipped because it's greater than 50\n",
      "59\n",
      "61\n",
      "68\n"
     ]
    }
   ],
   "source": [
    "# let's sum all the values in our list2 object which are less than 50\n",
    "total = 0\n",
    "\n",
    "# step 1: we need to iterate through the list\n",
    "for i in list2:\n",
    "    # step 2: we need to add our conditional statement\n",
    "    if i < 50:\n",
    "        # step 2: add the action if the condition is met\n",
    "        total += i\n",
    "        print(total)\n",
    "    else:\n",
    "        print(f\"{i} is skipped because it's greater than 50\")"
   ]
  },
  {
   "cell_type": "code",
   "execution_count": 160,
   "metadata": {},
   "outputs": [
    {
     "data": {
      "text/plain": [
       "'65 is greater than 50'"
      ]
     },
     "execution_count": 160,
     "metadata": {},
     "output_type": "execute_result"
    }
   ],
   "source": [
    "# an \"f-string\" allows us to dynamically update values inside the string. Just put an \"f\" infront of the string quotations, and any dynamic variables in curly brackets\n",
    "x = 65\n",
    "f\"{x} is greater than 50\""
   ]
  },
  {
   "cell_type": "code",
   "execution_count": 161,
   "metadata": {},
   "outputs": [
    {
     "data": {
      "text/plain": [
       "['Customer1', 'Customer2']"
      ]
     },
     "execution_count": 161,
     "metadata": {},
     "output_type": "execute_result"
    }
   ],
   "source": [
    "# let's go back to our dict2 object\n",
    "# let's only identify customers who bought books\n",
    "\n",
    "customers_with_books = []\n",
    "\n",
    "for a,b in dict2.items():\n",
    "    if 'book' in b:\n",
    "        customers_with_books.append(a)\n",
    "    else:\n",
    "        continue\n",
    "\n",
    "customers_with_books"
   ]
  },
  {
   "cell_type": "code",
   "execution_count": 163,
   "metadata": {},
   "outputs": [
    {
     "data": {
      "text/plain": [
       "{'Customer1': ['book', 'shoes', 'tshirt'],\n",
       " 'Customer2': ['book', 'cleaning supplies'],\n",
       " 'Customer3': ['tshirt', 'shoes', 'TV']}"
      ]
     },
     "execution_count": 163,
     "metadata": {},
     "output_type": "execute_result"
    }
   ],
   "source": [
    "dict2"
   ]
  },
  {
   "cell_type": "code",
   "execution_count": 185,
   "metadata": {},
   "outputs": [
    {
     "data": {
      "text/plain": [
       "{'book': 2, 'shoes': 2, 'tshirt': 2, 'cleaning supplies': 1, 'TV': 1}"
      ]
     },
     "execution_count": 185,
     "metadata": {},
     "output_type": "execute_result"
    }
   ],
   "source": [
    "# of all the customers with purchases, how many of each item were purchased? e.g., how many books, shoes, tshirts\n",
    "\n",
    "all_items = []\n",
    "\n",
    "for a,b in dict2.items():\n",
    "    all_items.extend(b)\n",
    "\n",
    "# to count the number of items that people bought, I can use use a dictionary\n",
    "# the desired output would be something like {\"book\":2, \"TV\":1, \"tshirt\":2}\n",
    "\n",
    "counts = {}\n",
    "\n",
    "for i in all_items:\n",
    "    if i not in counts.keys():\n",
    "        counts[i] = 1\n",
    "        # print(counts)\n",
    "    else:\n",
    "        counts[i] = counts[i] + 1\n",
    "        # print(counts)\n",
    "counts"
   ]
  },
  {
   "cell_type": "code",
   "execution_count": 181,
   "metadata": {},
   "outputs": [],
   "source": [
    "counts['book'] = counts['book'] + 1"
   ]
  },
  {
   "cell_type": "code",
   "execution_count": 182,
   "metadata": {},
   "outputs": [
    {
     "data": {
      "text/plain": [
       "2"
      ]
     },
     "execution_count": 182,
     "metadata": {},
     "output_type": "execute_result"
    }
   ],
   "source": [
    "counts['book']"
   ]
  },
  {
   "cell_type": "code",
   "execution_count": 176,
   "metadata": {},
   "outputs": [
    {
     "data": {
      "text/plain": [
       "['book',\n",
       " 'shoes',\n",
       " 'tshirt',\n",
       " 'book',\n",
       " 'cleaning supplies',\n",
       " 'tshirt',\n",
       " 'shoes',\n",
       " 'TV']"
      ]
     },
     "execution_count": 176,
     "metadata": {},
     "output_type": "execute_result"
    }
   ],
   "source": [
    "all_items"
   ]
  },
  {
   "cell_type": "code",
   "execution_count": 170,
   "metadata": {},
   "outputs": [
    {
     "data": {
      "text/plain": [
       "'book'"
      ]
     },
     "execution_count": 170,
     "metadata": {},
     "output_type": "execute_result"
    }
   ],
   "source": [
    "dict1['Customer1']"
   ]
  },
  {
   "cell_type": "code",
   "execution_count": 171,
   "metadata": {},
   "outputs": [],
   "source": [
    "# if we want to add a new key value combination to a dictionary, we can reference a key that doesn't exist and set it equal to something new\n",
    "dict1['Customer4'] = 'shoes'"
   ]
  },
  {
   "cell_type": "code",
   "execution_count": 172,
   "metadata": {},
   "outputs": [
    {
     "data": {
      "text/plain": [
       "{'Customer1': 'book',\n",
       " 'Customer2': 'shoes',\n",
       " 'Customer3': 'tshirt',\n",
       " 'Customer4': 'shoes'}"
      ]
     },
     "execution_count": 172,
     "metadata": {},
     "output_type": "execute_result"
    }
   ],
   "source": [
    "dict1"
   ]
  },
  {
   "cell_type": "code",
   "execution_count": 186,
   "metadata": {},
   "outputs": [],
   "source": [
    "# Custom Functions"
   ]
  },
  {
   "cell_type": "code",
   "execution_count": 187,
   "metadata": {},
   "outputs": [],
   "source": [
    "dict4 = {'Customer5':['book','shoes','banana'], 'Customer6':['apple','banana','tshirt'], 'Customer7':['book','shoes','apple']}"
   ]
  },
  {
   "cell_type": "code",
   "execution_count": 188,
   "metadata": {},
   "outputs": [
    {
     "data": {
      "text/plain": [
       "{'book': 2, 'shoes': 2, 'banana': 2, 'apple': 2, 'tshirt': 1}"
      ]
     },
     "execution_count": 188,
     "metadata": {},
     "output_type": "execute_result"
    }
   ],
   "source": [
    "# If i wanted to count the number items, i'd have to repeat my code from above but apply it to dict4\n",
    "# this is a bit unscalable, because you may have many dictionaries\n",
    "\n",
    "all_items = []\n",
    "\n",
    "for a,b in dict4.items():\n",
    "    all_items.extend(b)\n",
    "\n",
    "# to count the number of items that people bought, I can use use a dictionary\n",
    "# the desired output would be something like {\"book\":2, \"TV\":1, \"tshirt\":2}\n",
    "\n",
    "counts = {}\n",
    "\n",
    "for i in all_items:\n",
    "    if i not in counts.keys():\n",
    "        counts[i] = 1\n",
    "        # print(counts)\n",
    "    else:\n",
    "        counts[i] = counts[i] + 1\n",
    "        # print(counts)\n",
    "counts"
   ]
  },
  {
   "cell_type": "code",
   "execution_count": 189,
   "metadata": {},
   "outputs": [],
   "source": [
    "# instead of building repetitive code, we can define a custom function\n",
    "\n",
    "def item_counter(x): # this function takes into account a dictionary, so I'm using \"x\" as a placeholder to represent a dictionary\n",
    "    all_items = []\n",
    "\n",
    "    for a,b in x.items(): # the only place I reference x is here, when i'm identifying the items\n",
    "        all_items.extend(b)\n",
    "\n",
    "\n",
    "    counts = {}\n",
    "\n",
    "    for i in all_items:\n",
    "        if i not in counts.keys():\n",
    "            counts[i] = 1\n",
    "        else:\n",
    "            counts[i] = counts[i] + 1\n",
    "    return counts # we need to explicitly tell the function to display the output; this is done using return"
   ]
  },
  {
   "cell_type": "code",
   "execution_count": 190,
   "metadata": {},
   "outputs": [
    {
     "data": {
      "text/plain": [
       "{'book': 2, 'shoes': 2, 'banana': 2, 'apple': 2, 'tshirt': 1}"
      ]
     },
     "execution_count": 190,
     "metadata": {},
     "output_type": "execute_result"
    }
   ],
   "source": [
    "item_counter(dict4)"
   ]
  },
  {
   "cell_type": "code",
   "execution_count": 192,
   "metadata": {},
   "outputs": [
    {
     "data": {
      "text/plain": [
       "{'book': 2, 'shoes': 2, 'tshirt': 2, 'cleaning supplies': 1, 'TV': 1}"
      ]
     },
     "execution_count": 192,
     "metadata": {},
     "output_type": "execute_result"
    }
   ],
   "source": [
    "item_counter(dict2)"
   ]
  },
  {
   "cell_type": "code",
   "execution_count": 195,
   "metadata": {},
   "outputs": [
    {
     "data": {
      "text/plain": [
       "(2952, 10)"
      ]
     },
     "execution_count": 195,
     "metadata": {},
     "output_type": "execute_result"
    }
   ],
   "source": [
    "# another simple example - let's say we wanted to calculate the average of a list\n",
    "\n",
    "sum(list1), len(list1)"
   ]
  },
  {
   "cell_type": "code",
   "execution_count": 197,
   "metadata": {},
   "outputs": [
    {
     "data": {
      "text/plain": [
       "295.2"
      ]
     },
     "execution_count": 197,
     "metadata": {},
     "output_type": "execute_result"
    }
   ],
   "source": [
    "sum(list1)/len(list1)"
   ]
  },
  {
   "cell_type": "code",
   "execution_count": 198,
   "metadata": {},
   "outputs": [],
   "source": [
    "def average(x):\n",
    "    return sum(x)/len(x)"
   ]
  },
  {
   "cell_type": "code",
   "execution_count": 199,
   "metadata": {},
   "outputs": [
    {
     "data": {
      "text/plain": [
       "295.2"
      ]
     },
     "execution_count": 199,
     "metadata": {},
     "output_type": "execute_result"
    }
   ],
   "source": [
    "average(list1)"
   ]
  },
  {
   "cell_type": "code",
   "execution_count": null,
   "metadata": {},
   "outputs": [],
   "source": []
  }
 ],
 "metadata": {
  "kernelspec": {
   "display_name": "Python 3",
   "language": "python",
   "name": "python3"
  },
  "language_info": {
   "codemirror_mode": {
    "name": "ipython",
    "version": 3
   },
   "file_extension": ".py",
   "mimetype": "text/x-python",
   "name": "python",
   "nbconvert_exporter": "python",
   "pygments_lexer": "ipython3",
   "version": "3.9.6"
  }
 },
 "nbformat": 4,
 "nbformat_minor": 2
}
