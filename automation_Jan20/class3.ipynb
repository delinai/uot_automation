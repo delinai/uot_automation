{
 "cells": [
  {
   "cell_type": "code",
   "execution_count": 1,
   "metadata": {},
   "outputs": [],
   "source": [
    "# Topics for today\n",
    "# dictionaries and dictionary manipulation\n",
    "# conditional programming\n",
    "# loops\n",
    "# defining custom functions\n",
    "# manipulation of data files with Python's open / read / write mechanisms > without any external libraries"
   ]
  },
  {
   "cell_type": "markdown",
   "metadata": {},
   "source": [
    "### Dictionaries"
   ]
  },
  {
   "cell_type": "code",
   "execution_count": 2,
   "metadata": {},
   "outputs": [],
   "source": [
    "# key - value pairs\n",
    "dict1 = {\"ON\":\"Toronto\", \"MB\":\"Winnipeg\", \"SK\":\"Regina\", \"BC\":\"Victoria\", \"QB\":\"Quebec City\"}"
   ]
  },
  {
   "cell_type": "code",
   "execution_count": 3,
   "metadata": {},
   "outputs": [],
   "source": [
    "purchases = {\"Adam\":[\"shoes\", \"book\", \"shirt\"], \"Mary\":[\"book\", 'shampoo'], \"Joe\":[\"book\", \"shirt\", 'coat', 'shoes','kindle','etc']}"
   ]
  },
  {
   "cell_type": "code",
   "execution_count": 4,
   "metadata": {},
   "outputs": [],
   "source": [
    "purchases_nested = {\"Customer_Orders\":\n",
    "                    {\"Adam\":[\"shoes\", \"book\", \"shirt\"],\n",
    "                      \"Mary\":[\"book\", 'shampoo'], \n",
    "                      \"Joe\":[\"book\", \"shirt\", 'coat', 'shoes','kindle','etc']},\n",
    "                    \"Delivery_Schedule\":{\"Adam\":\"Monday\", \"Mary\":\"Tuesday\",'Joe':'Wednesday'}}"
   ]
  },
  {
   "cell_type": "code",
   "execution_count": 5,
   "metadata": {},
   "outputs": [
    {
     "data": {
      "text/plain": [
       "dict_items([('ON', 'Toronto'), ('MB', 'Winnipeg'), ('SK', 'Regina'), ('BC', 'Victoria'), ('QB', 'Quebec City')])"
      ]
     },
     "execution_count": 5,
     "metadata": {},
     "output_type": "execute_result"
    }
   ],
   "source": [
    "# returns all the combinations of key value pairs\n",
    "dict1.items()"
   ]
  },
  {
   "cell_type": "code",
   "execution_count": 6,
   "metadata": {},
   "outputs": [
    {
     "data": {
      "text/plain": [
       "dict_keys(['ON', 'MB', 'SK', 'BC', 'QB'])"
      ]
     },
     "execution_count": 6,
     "metadata": {},
     "output_type": "execute_result"
    }
   ],
   "source": [
    "# returns all the keys of the dictionary\n",
    "dict1.keys()"
   ]
  },
  {
   "cell_type": "code",
   "execution_count": 7,
   "metadata": {},
   "outputs": [
    {
     "data": {
      "text/plain": [
       "dict_values(['Toronto', 'Winnipeg', 'Regina', 'Victoria', 'Quebec City'])"
      ]
     },
     "execution_count": 7,
     "metadata": {},
     "output_type": "execute_result"
    }
   ],
   "source": [
    "# return all the values of the dictionary\n",
    "dict1.values()"
   ]
  },
  {
   "cell_type": "code",
   "execution_count": 8,
   "metadata": {},
   "outputs": [
    {
     "ename": "KeyError",
     "evalue": "0",
     "output_type": "error",
     "traceback": [
      "\u001b[0;31m---------------------------------------------------------------------------\u001b[0m",
      "\u001b[0;31mKeyError\u001b[0m                                  Traceback (most recent call last)",
      "Cell \u001b[0;32mIn[8], line 1\u001b[0m\n\u001b[0;32m----> 1\u001b[0m \u001b[43mdict1\u001b[49m\u001b[43m[\u001b[49m\u001b[38;5;241;43m0\u001b[39;49m\u001b[43m]\u001b[49m\n",
      "\u001b[0;31mKeyError\u001b[0m: 0"
     ]
    }
   ],
   "source": [
    "# dictionaries do not support slicing\n",
    "dict1[0]"
   ]
  },
  {
   "cell_type": "code",
   "execution_count": 9,
   "metadata": {},
   "outputs": [],
   "source": [
    "# the square bracked immediately beside the object name is used for Item Assignment in dictionaries\n",
    "# with item assignment in dictionaries, we are adding a NEW key:value pair\n",
    "dict1[\"PEI\"] = \"Charlottetown\""
   ]
  },
  {
   "cell_type": "code",
   "execution_count": 10,
   "metadata": {},
   "outputs": [
    {
     "data": {
      "text/plain": [
       "{'ON': 'Toronto',\n",
       " 'MB': 'Winnipeg',\n",
       " 'SK': 'Regina',\n",
       " 'BC': 'Victoria',\n",
       " 'QB': 'Quebec City',\n",
       " 'PEI': 'Charlottetown'}"
      ]
     },
     "execution_count": 10,
     "metadata": {},
     "output_type": "execute_result"
    }
   ],
   "source": [
    "dict1"
   ]
  },
  {
   "cell_type": "code",
   "execution_count": 11,
   "metadata": {},
   "outputs": [
    {
     "data": {
      "text/plain": [
       "'Toronto'"
      ]
     },
     "execution_count": 11,
     "metadata": {},
     "output_type": "execute_result"
    }
   ],
   "source": [
    "# if you reference an existing key in the square brackets, the code will return the corresponding value\n",
    "dict1[\"ON\"]"
   ]
  },
  {
   "cell_type": "code",
   "execution_count": 14,
   "metadata": {},
   "outputs": [],
   "source": [
    "# Add a new customer and their purchases to the purchases dictionary\n",
    "purchases[\"Bob\"] = [\"vitamix\", \"comb\", \"vaccuum\"]"
   ]
  },
  {
   "cell_type": "code",
   "execution_count": 15,
   "metadata": {},
   "outputs": [
    {
     "data": {
      "text/plain": [
       "{'Adam': ['shoes', 'book', 'shirt'],\n",
       " 'Mary': ['book', 'shampoo'],\n",
       " 'Joe': ['book', 'shirt', 'coat', 'shoes', 'kindle', 'etc'],\n",
       " 'Bob': ['vitamix', 'comb', 'vaccuum']}"
      ]
     },
     "execution_count": 15,
     "metadata": {},
     "output_type": "execute_result"
    }
   ],
   "source": [
    "purchases"
   ]
  },
  {
   "cell_type": "code",
   "execution_count": 16,
   "metadata": {},
   "outputs": [],
   "source": [
    "purchases[\"Ana\"] = [\"book\"]"
   ]
  },
  {
   "cell_type": "code",
   "execution_count": 17,
   "metadata": {},
   "outputs": [
    {
     "data": {
      "text/plain": [
       "{'Adam': ['shoes', 'book', 'shirt'],\n",
       " 'Mary': ['book', 'shampoo'],\n",
       " 'Joe': ['book', 'shirt', 'coat', 'shoes', 'kindle', 'etc'],\n",
       " 'Bob': ['vitamix', 'comb', 'vaccuum'],\n",
       " 'Ana': ['book']}"
      ]
     },
     "execution_count": 17,
     "metadata": {},
     "output_type": "execute_result"
    }
   ],
   "source": [
    "purchases"
   ]
  },
  {
   "cell_type": "code",
   "execution_count": 20,
   "metadata": {},
   "outputs": [
    {
     "data": {
      "text/plain": [
       "['shoes', 'book', 'shirt']"
      ]
     },
     "execution_count": 20,
     "metadata": {},
     "output_type": "execute_result"
    }
   ],
   "source": [
    "# with a nested dictionary, we need TWO levels of slicing\n",
    "purchases_nested['Customer_Orders'][\"Adam\"]"
   ]
  },
  {
   "cell_type": "code",
   "execution_count": 21,
   "metadata": {},
   "outputs": [
    {
     "data": {
      "text/plain": [
       "{'Customer_Orders': {'Adam': ['shoes', 'book', 'shirt'],\n",
       "  'Mary': ['book', 'shampoo'],\n",
       "  'Joe': ['book', 'shirt', 'coat', 'shoes', 'kindle', 'etc'],\n",
       "  'Anm': ['bag', 'socks']},\n",
       " 'Delivery_Schedule': {'Adam': 'Monday',\n",
       "  'Mary': 'Tuesday',\n",
       "  'Joe': 'Wednesday',\n",
       "  'Anm': 'thursday'}}"
      ]
     },
     "execution_count": 21,
     "metadata": {},
     "output_type": "execute_result"
    }
   ],
   "source": [
    "# in the nested purchases dictionary, how can we add a new customer order? hint: remember that we also have to add the delivery date\n",
    "\n",
    "purchases_nested['Customer_Orders'][\"Anm\"] = [\"bag\",\"socks\"]\n",
    "purchases_nested['Delivery_Schedule'][\"Anm\"] = \"thursday\"\n",
    "purchases_nested"
   ]
  },
  {
   "cell_type": "code",
   "execution_count": 22,
   "metadata": {},
   "outputs": [],
   "source": [
    "purchases_nested['Delivery_Schedule'][\"Anm\"] = {\"bag\":\"Thursday\", \"socks\":\"friday\"}"
   ]
  },
  {
   "cell_type": "code",
   "execution_count": 23,
   "metadata": {},
   "outputs": [
    {
     "data": {
      "text/plain": [
       "{'Customer_Orders': {'Adam': ['shoes', 'book', 'shirt'],\n",
       "  'Mary': ['book', 'shampoo'],\n",
       "  'Joe': ['book', 'shirt', 'coat', 'shoes', 'kindle', 'etc'],\n",
       "  'Anm': ['bag', 'socks']},\n",
       " 'Delivery_Schedule': {'Adam': 'Monday',\n",
       "  'Mary': 'Tuesday',\n",
       "  'Joe': 'Wednesday',\n",
       "  'Anm': {'bag': 'Thursday', 'socks': 'friday'}}}"
      ]
     },
     "execution_count": 23,
     "metadata": {},
     "output_type": "execute_result"
    }
   ],
   "source": [
    "purchases_nested"
   ]
  },
  {
   "cell_type": "markdown",
   "metadata": {},
   "source": [
    "### Looping through data "
   ]
  },
  {
   "cell_type": "code",
   "execution_count": 24,
   "metadata": {},
   "outputs": [],
   "source": [
    "# collection objects include Lists, Tuples, Sets, Dictionaries, Strings\n",
    "# For loop\n",
    "# While Loop"
   ]
  },
  {
   "cell_type": "code",
   "execution_count": 33,
   "metadata": {},
   "outputs": [],
   "source": [
    "# Iteration means that we are mechanically isolating each value one by one and making a change to the value\n",
    "customer_purchase_amounts = [100.50, 48.67, 34.78, 51.90, 56.98, 34.23] "
   ]
  },
  {
   "cell_type": "code",
   "execution_count": 32,
   "metadata": {},
   "outputs": [],
   "source": [
    "# Let's say we want to round each value, a manual solution requires a lot of human intervention\n",
    "customer_purchase_amounts[0] = round(100.50)\n",
    "customer_purchase_amounts[1] = round(48.67)\n",
    "customer_purchase_amounts[2] = round(34.78)\n",
    "customer_purchase_amounts[3] = round(51.90)\n",
    "customer_purchase_amounts[4] = round(56.98)\n",
    "customer_purchase_amounts[5] = round(34.23)\n"
   ]
  },
  {
   "cell_type": "code",
   "execution_count": 34,
   "metadata": {},
   "outputs": [
    {
     "name": "stdout",
     "output_type": "stream",
     "text": [
      "100\n",
      "49\n",
      "35\n",
      "52\n",
      "57\n",
      "34\n"
     ]
    }
   ],
   "source": [
    "# the logic says \"for each item in the iterable object, take some action\"\n",
    "for item in customer_purchase_amounts:\n",
    "    print(round(item))"
   ]
  },
  {
   "cell_type": "code",
   "execution_count": 38,
   "metadata": {},
   "outputs": [
    {
     "name": "stdout",
     "output_type": "stream",
     "text": [
      "100\n",
      "49\n",
      "35\n",
      "52\n",
      "57\n",
      "34\n"
     ]
    }
   ],
   "source": [
    "# most of the time we use \"for i in ___\" as the syntax\n",
    "for i in customer_purchase_amounts:\n",
    "    print(round(i))"
   ]
  },
  {
   "cell_type": "code",
   "execution_count": 39,
   "metadata": {},
   "outputs": [
    {
     "data": {
      "text/plain": [
       "[100.5, 48.67, 34.78, 51.9, 56.98, 34.23]"
      ]
     },
     "execution_count": 39,
     "metadata": {},
     "output_type": "execute_result"
    }
   ],
   "source": [
    "customer_purchase_amounts"
   ]
  },
  {
   "cell_type": "code",
   "execution_count": 42,
   "metadata": {},
   "outputs": [],
   "source": [
    "rounded_values = []\n",
    "for i in customer_purchase_amounts:\n",
    "    rounded_values.append(round(i))"
   ]
  },
  {
   "cell_type": "code",
   "execution_count": 43,
   "metadata": {},
   "outputs": [
    {
     "data": {
      "text/plain": [
       "[100, 49, 35, 52, 57, 34]"
      ]
     },
     "execution_count": 43,
     "metadata": {},
     "output_type": "execute_result"
    }
   ],
   "source": [
    "rounded_values"
   ]
  },
  {
   "cell_type": "code",
   "execution_count": 44,
   "metadata": {},
   "outputs": [
    {
     "data": {
      "text/plain": [
       "[100.5, 48.67, 34.78, 51.9, 56.98, 34.23]"
      ]
     },
     "execution_count": 44,
     "metadata": {},
     "output_type": "execute_result"
    }
   ],
   "source": [
    "customer_purchase_amounts"
   ]
  },
  {
   "cell_type": "code",
   "execution_count": 48,
   "metadata": {},
   "outputs": [
    {
     "data": {
      "text/plain": [
       "[100, 49, 35, 52, 57, 34]"
      ]
     },
     "execution_count": 48,
     "metadata": {},
     "output_type": "execute_result"
    }
   ],
   "source": [
    "# how can we use the loop, to replace the list values with the ROUNDED values IN PLACE?\n",
    "customer_purchase_amounts = [100.50, 48.67, 34.78, 51.90, 56.98, 34.23]\n",
    "\n",
    "count = 0\n",
    "for i in customer_purchase_amounts:\n",
    "    customer_purchase_amounts[count]= round(i)\n",
    "    count+=1\n",
    "customer_purchase_amounts"
   ]
  },
  {
   "cell_type": "code",
   "execution_count": 47,
   "metadata": {},
   "outputs": [
    {
     "name": "stdout",
     "output_type": "stream",
     "text": [
      "[100, 49, 35, 52, 57, 34]\n"
     ]
    }
   ],
   "source": [
    "customer_purchase_amounts = [100.50, 48.67, 34.78, 51.90, 56.98, 34.23]\n",
    "\n",
    "for i in range(len(customer_purchase_amounts)):\n",
    "    customer_purchase_amounts[i] = round(customer_purchase_amounts[i])\n",
    "\n",
    "print(customer_purchase_amounts)"
   ]
  },
  {
   "cell_type": "code",
   "execution_count": 51,
   "metadata": {},
   "outputs": [
    {
     "name": "stdout",
     "output_type": "stream",
     "text": [
      "0\n",
      "1\n",
      "2\n",
      "3\n",
      "4\n",
      "5\n"
     ]
    }
   ],
   "source": [
    "customer_purchase_amounts = [100.50, 48.67, 34.78, 51.90, 56.98, 34.23]\n",
    "\n",
    "for i in range(len(customer_purchase_amounts)):\n",
    "    print(i)\n"
   ]
  },
  {
   "cell_type": "code",
   "execution_count": 54,
   "metadata": {},
   "outputs": [
    {
     "data": {
      "text/plain": [
       "[100, 49, 35, 52, 57, 34.23]"
      ]
     },
     "execution_count": 54,
     "metadata": {},
     "output_type": "execute_result"
    }
   ],
   "source": [
    "customer_purchase_amounts = [100.50, 48.67, 34.78, 51.90, 56.98, 34.23]\n",
    "\n",
    "for i in range(0,len(customer_purchase_amounts)-1):\n",
    "    customer_purchase_amounts[i] = round(customer_purchase_amounts[i])\n",
    "\n",
    "customer_purchase_amounts"
   ]
  },
  {
   "cell_type": "code",
   "execution_count": 56,
   "metadata": {},
   "outputs": [
    {
     "name": "stdout",
     "output_type": "stream",
     "text": [
      "0\n",
      "1\n",
      "2\n",
      "3\n",
      "4\n"
     ]
    }
   ],
   "source": [
    "for i in range(0,len(customer_purchase_amounts)-1):\n",
    "    print(i)"
   ]
  },
  {
   "cell_type": "code",
   "execution_count": 58,
   "metadata": {},
   "outputs": [
    {
     "data": {
      "text/plain": [
       "0"
      ]
     },
     "execution_count": 58,
     "metadata": {},
     "output_type": "execute_result"
    }
   ],
   "source": [
    "customer_purchase_amounts.index(100)"
   ]
  },
  {
   "cell_type": "code",
   "execution_count": 60,
   "metadata": {},
   "outputs": [
    {
     "data": {
      "text/plain": [
       "2"
      ]
     },
     "execution_count": 60,
     "metadata": {},
     "output_type": "execute_result"
    }
   ],
   "source": [
    "customer_purchase_amounts.index(35)"
   ]
  },
  {
   "cell_type": "code",
   "execution_count": 59,
   "metadata": {},
   "outputs": [
    {
     "data": {
      "text/plain": [
       "[100, 49, 35, 52, 57, 34]"
      ]
     },
     "execution_count": 59,
     "metadata": {},
     "output_type": "execute_result"
    }
   ],
   "source": [
    "# NOTE: this method will NOT work if you don't have unique values, because index() always finds the first vaue\n",
    "\n",
    "customer_purchase_amounts = [100.50, 48.67, 34.78, 51.90, 56.98, 34.23]\n",
    "\n",
    "for i in customer_purchase_amounts:\n",
    "    customer_purchase_amounts[customer_purchase_amounts.index(i)] = round(i)\n",
    "\n",
    "customer_purchase_amounts"
   ]
  },
  {
   "cell_type": "code",
   "execution_count": null,
   "metadata": {},
   "outputs": [],
   "source": []
  },
  {
   "cell_type": "code",
   "execution_count": null,
   "metadata": {},
   "outputs": [],
   "source": []
  }
 ],
 "metadata": {
  "kernelspec": {
   "display_name": "Python 3",
   "language": "python",
   "name": "python3"
  },
  "language_info": {
   "codemirror_mode": {
    "name": "ipython",
    "version": 3
   },
   "file_extension": ".py",
   "mimetype": "text/x-python",
   "name": "python",
   "nbconvert_exporter": "python",
   "pygments_lexer": "ipython3",
   "version": "3.11.4"
  }
 },
 "nbformat": 4,
 "nbformat_minor": 2
}
