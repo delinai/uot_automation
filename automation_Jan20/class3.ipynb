{
 "cells": [
  {
   "cell_type": "code",
   "execution_count": 1,
   "metadata": {},
   "outputs": [],
   "source": [
    "# Topics for today\n",
    "# dictionaries and dictionary manipulation\n",
    "# conditional programming\n",
    "# loops\n",
    "# defining custom functions\n",
    "# manipulation of data files with Python's open / read / write mechanisms > without any external libraries"
   ]
  },
  {
   "cell_type": "markdown",
   "metadata": {},
   "source": [
    "### Dictionaries"
   ]
  },
  {
   "cell_type": "code",
   "execution_count": 2,
   "metadata": {},
   "outputs": [],
   "source": [
    "# key - value pairs\n",
    "dict1 = {\"ON\":\"Toronto\", \"MB\":\"Winnipeg\", \"SK\":\"Regina\", \"BC\":\"Victoria\", \"QB\":\"Quebec City\"}"
   ]
  },
  {
   "cell_type": "code",
   "execution_count": 3,
   "metadata": {},
   "outputs": [],
   "source": [
    "purchases = {\"Adam\":[\"shoes\", \"book\", \"shirt\"], \"Mary\":[\"book\", 'shampoo'], \"Joe\":[\"book\", \"shirt\", 'coat', 'shoes','kindle','etc']}"
   ]
  },
  {
   "cell_type": "code",
   "execution_count": 4,
   "metadata": {},
   "outputs": [],
   "source": [
    "purchases_nested = {\"Customer_Orders\":\n",
    "                    {\"Adam\":[\"shoes\", \"book\", \"shirt\"],\n",
    "                      \"Mary\":[\"book\", 'shampoo'], \n",
    "                      \"Joe\":[\"book\", \"shirt\", 'coat', 'shoes','kindle','etc']},\n",
    "                    \"Delivery_Schedule\":{\"Adam\":\"Monday\", \"Mary\":\"Tuesday\",'Joe':'Wednesday'}}"
   ]
  },
  {
   "cell_type": "code",
   "execution_count": 127,
   "metadata": {},
   "outputs": [
    {
     "data": {
      "text/plain": [
       "['shoes', 'book', 'shirt']"
      ]
     },
     "execution_count": 127,
     "metadata": {},
     "output_type": "execute_result"
    }
   ],
   "source": [
    "purchases_nested['Customer_Orders']['Adam']"
   ]
  },
  {
   "cell_type": "code",
   "execution_count": 5,
   "metadata": {},
   "outputs": [
    {
     "data": {
      "text/plain": [
       "dict_items([('ON', 'Toronto'), ('MB', 'Winnipeg'), ('SK', 'Regina'), ('BC', 'Victoria'), ('QB', 'Quebec City')])"
      ]
     },
     "execution_count": 5,
     "metadata": {},
     "output_type": "execute_result"
    }
   ],
   "source": [
    "# returns all the combinations of key value pairs\n",
    "dict1.items()"
   ]
  },
  {
   "cell_type": "code",
   "execution_count": 6,
   "metadata": {},
   "outputs": [
    {
     "data": {
      "text/plain": [
       "dict_keys(['ON', 'MB', 'SK', 'BC', 'QB'])"
      ]
     },
     "execution_count": 6,
     "metadata": {},
     "output_type": "execute_result"
    }
   ],
   "source": [
    "# returns all the keys of the dictionary\n",
    "dict1.keys()"
   ]
  },
  {
   "cell_type": "code",
   "execution_count": 7,
   "metadata": {},
   "outputs": [
    {
     "data": {
      "text/plain": [
       "dict_values(['Toronto', 'Winnipeg', 'Regina', 'Victoria', 'Quebec City'])"
      ]
     },
     "execution_count": 7,
     "metadata": {},
     "output_type": "execute_result"
    }
   ],
   "source": [
    "# return all the values of the dictionary\n",
    "dict1.values()"
   ]
  },
  {
   "cell_type": "code",
   "execution_count": 8,
   "metadata": {},
   "outputs": [
    {
     "ename": "KeyError",
     "evalue": "0",
     "output_type": "error",
     "traceback": [
      "\u001b[0;31m---------------------------------------------------------------------------\u001b[0m",
      "\u001b[0;31mKeyError\u001b[0m                                  Traceback (most recent call last)",
      "Cell \u001b[0;32mIn[8], line 1\u001b[0m\n\u001b[0;32m----> 1\u001b[0m \u001b[43mdict1\u001b[49m\u001b[43m[\u001b[49m\u001b[38;5;241;43m0\u001b[39;49m\u001b[43m]\u001b[49m\n",
      "\u001b[0;31mKeyError\u001b[0m: 0"
     ]
    }
   ],
   "source": [
    "# dictionaries do not support slicing\n",
    "dict1[0]"
   ]
  },
  {
   "cell_type": "code",
   "execution_count": 9,
   "metadata": {},
   "outputs": [],
   "source": [
    "# the square bracked immediately beside the object name is used for Item Assignment in dictionaries\n",
    "# with item assignment in dictionaries, we are adding a NEW key:value pair\n",
    "dict1[\"PEI\"] = \"Charlottetown\""
   ]
  },
  {
   "cell_type": "code",
   "execution_count": 10,
   "metadata": {},
   "outputs": [
    {
     "data": {
      "text/plain": [
       "{'ON': 'Toronto',\n",
       " 'MB': 'Winnipeg',\n",
       " 'SK': 'Regina',\n",
       " 'BC': 'Victoria',\n",
       " 'QB': 'Quebec City',\n",
       " 'PEI': 'Charlottetown'}"
      ]
     },
     "execution_count": 10,
     "metadata": {},
     "output_type": "execute_result"
    }
   ],
   "source": [
    "dict1"
   ]
  },
  {
   "cell_type": "code",
   "execution_count": 11,
   "metadata": {},
   "outputs": [
    {
     "data": {
      "text/plain": [
       "'Toronto'"
      ]
     },
     "execution_count": 11,
     "metadata": {},
     "output_type": "execute_result"
    }
   ],
   "source": [
    "# if you reference an existing key in the square brackets, the code will return the corresponding value\n",
    "dict1[\"ON\"]"
   ]
  },
  {
   "cell_type": "code",
   "execution_count": 14,
   "metadata": {},
   "outputs": [],
   "source": [
    "# Add a new customer and their purchases to the purchases dictionary\n",
    "purchases[\"Bob\"] = [\"vitamix\", \"comb\", \"vaccuum\"]"
   ]
  },
  {
   "cell_type": "code",
   "execution_count": 15,
   "metadata": {},
   "outputs": [
    {
     "data": {
      "text/plain": [
       "{'Adam': ['shoes', 'book', 'shirt'],\n",
       " 'Mary': ['book', 'shampoo'],\n",
       " 'Joe': ['book', 'shirt', 'coat', 'shoes', 'kindle', 'etc'],\n",
       " 'Bob': ['vitamix', 'comb', 'vaccuum']}"
      ]
     },
     "execution_count": 15,
     "metadata": {},
     "output_type": "execute_result"
    }
   ],
   "source": [
    "purchases"
   ]
  },
  {
   "cell_type": "code",
   "execution_count": 16,
   "metadata": {},
   "outputs": [],
   "source": [
    "purchases[\"Ana\"] = [\"book\"]"
   ]
  },
  {
   "cell_type": "code",
   "execution_count": 17,
   "metadata": {},
   "outputs": [
    {
     "data": {
      "text/plain": [
       "{'Adam': ['shoes', 'book', 'shirt'],\n",
       " 'Mary': ['book', 'shampoo'],\n",
       " 'Joe': ['book', 'shirt', 'coat', 'shoes', 'kindle', 'etc'],\n",
       " 'Bob': ['vitamix', 'comb', 'vaccuum'],\n",
       " 'Ana': ['book']}"
      ]
     },
     "execution_count": 17,
     "metadata": {},
     "output_type": "execute_result"
    }
   ],
   "source": [
    "purchases"
   ]
  },
  {
   "cell_type": "code",
   "execution_count": 20,
   "metadata": {},
   "outputs": [
    {
     "data": {
      "text/plain": [
       "['shoes', 'book', 'shirt']"
      ]
     },
     "execution_count": 20,
     "metadata": {},
     "output_type": "execute_result"
    }
   ],
   "source": [
    "# with a nested dictionary, we need TWO levels of slicing\n",
    "purchases_nested['Customer_Orders'][\"Adam\"]"
   ]
  },
  {
   "cell_type": "code",
   "execution_count": 21,
   "metadata": {},
   "outputs": [
    {
     "data": {
      "text/plain": [
       "{'Customer_Orders': {'Adam': ['shoes', 'book', 'shirt'],\n",
       "  'Mary': ['book', 'shampoo'],\n",
       "  'Joe': ['book', 'shirt', 'coat', 'shoes', 'kindle', 'etc'],\n",
       "  'Anm': ['bag', 'socks']},\n",
       " 'Delivery_Schedule': {'Adam': 'Monday',\n",
       "  'Mary': 'Tuesday',\n",
       "  'Joe': 'Wednesday',\n",
       "  'Anm': 'thursday'}}"
      ]
     },
     "execution_count": 21,
     "metadata": {},
     "output_type": "execute_result"
    }
   ],
   "source": [
    "# in the nested purchases dictionary, how can we add a new customer order? hint: remember that we also have to add the delivery date\n",
    "\n",
    "purchases_nested['Customer_Orders'][\"Anm\"] = [\"bag\",\"socks\"]\n",
    "purchases_nested['Delivery_Schedule'][\"Anm\"] = \"thursday\"\n",
    "purchases_nested"
   ]
  },
  {
   "cell_type": "code",
   "execution_count": 22,
   "metadata": {},
   "outputs": [],
   "source": [
    "purchases_nested['Delivery_Schedule'][\"Anm\"] = {\"bag\":\"Thursday\", \"socks\":\"friday\"}"
   ]
  },
  {
   "cell_type": "code",
   "execution_count": 23,
   "metadata": {},
   "outputs": [
    {
     "data": {
      "text/plain": [
       "{'Customer_Orders': {'Adam': ['shoes', 'book', 'shirt'],\n",
       "  'Mary': ['book', 'shampoo'],\n",
       "  'Joe': ['book', 'shirt', 'coat', 'shoes', 'kindle', 'etc'],\n",
       "  'Anm': ['bag', 'socks']},\n",
       " 'Delivery_Schedule': {'Adam': 'Monday',\n",
       "  'Mary': 'Tuesday',\n",
       "  'Joe': 'Wednesday',\n",
       "  'Anm': {'bag': 'Thursday', 'socks': 'friday'}}}"
      ]
     },
     "execution_count": 23,
     "metadata": {},
     "output_type": "execute_result"
    }
   ],
   "source": [
    "purchases_nested"
   ]
  },
  {
   "cell_type": "markdown",
   "metadata": {},
   "source": [
    "### Looping through data "
   ]
  },
  {
   "cell_type": "code",
   "execution_count": 24,
   "metadata": {},
   "outputs": [],
   "source": [
    "# collection objects include Lists, Tuples, Sets, Dictionaries, Strings\n",
    "# For loop\n",
    "# While Loop"
   ]
  },
  {
   "cell_type": "code",
   "execution_count": 33,
   "metadata": {},
   "outputs": [],
   "source": [
    "# Iteration means that we are mechanically isolating each value one by one and making a change to the value\n",
    "customer_purchase_amounts = [100.50, 48.67, 34.78, 51.90, 56.98, 34.23] "
   ]
  },
  {
   "cell_type": "code",
   "execution_count": 32,
   "metadata": {},
   "outputs": [],
   "source": [
    "# Let's say we want to round each value, a manual solution requires a lot of human intervention\n",
    "customer_purchase_amounts[0] = round(100.50)\n",
    "customer_purchase_amounts[1] = round(48.67)\n",
    "customer_purchase_amounts[2] = round(34.78)\n",
    "customer_purchase_amounts[3] = round(51.90)\n",
    "customer_purchase_amounts[4] = round(56.98)\n",
    "customer_purchase_amounts[5] = round(34.23)\n"
   ]
  },
  {
   "cell_type": "code",
   "execution_count": 34,
   "metadata": {},
   "outputs": [
    {
     "name": "stdout",
     "output_type": "stream",
     "text": [
      "100\n",
      "49\n",
      "35\n",
      "52\n",
      "57\n",
      "34\n"
     ]
    }
   ],
   "source": [
    "# the logic says \"for each item in the iterable object, take some action\"\n",
    "for item in customer_purchase_amounts:\n",
    "    print(round(item))"
   ]
  },
  {
   "cell_type": "code",
   "execution_count": 38,
   "metadata": {},
   "outputs": [
    {
     "name": "stdout",
     "output_type": "stream",
     "text": [
      "100\n",
      "49\n",
      "35\n",
      "52\n",
      "57\n",
      "34\n"
     ]
    }
   ],
   "source": [
    "# most of the time we use \"for i in ___\" as the syntax\n",
    "for i in customer_purchase_amounts:\n",
    "    print(round(i))"
   ]
  },
  {
   "cell_type": "code",
   "execution_count": 39,
   "metadata": {},
   "outputs": [
    {
     "data": {
      "text/plain": [
       "[100.5, 48.67, 34.78, 51.9, 56.98, 34.23]"
      ]
     },
     "execution_count": 39,
     "metadata": {},
     "output_type": "execute_result"
    }
   ],
   "source": [
    "customer_purchase_amounts"
   ]
  },
  {
   "cell_type": "code",
   "execution_count": 42,
   "metadata": {},
   "outputs": [],
   "source": [
    "rounded_values = []\n",
    "for i in customer_purchase_amounts:\n",
    "    rounded_values.append(round(i))"
   ]
  },
  {
   "cell_type": "code",
   "execution_count": 43,
   "metadata": {},
   "outputs": [
    {
     "data": {
      "text/plain": [
       "[100, 49, 35, 52, 57, 34]"
      ]
     },
     "execution_count": 43,
     "metadata": {},
     "output_type": "execute_result"
    }
   ],
   "source": [
    "rounded_values"
   ]
  },
  {
   "cell_type": "code",
   "execution_count": 44,
   "metadata": {},
   "outputs": [
    {
     "data": {
      "text/plain": [
       "[100.5, 48.67, 34.78, 51.9, 56.98, 34.23]"
      ]
     },
     "execution_count": 44,
     "metadata": {},
     "output_type": "execute_result"
    }
   ],
   "source": [
    "customer_purchase_amounts"
   ]
  },
  {
   "cell_type": "code",
   "execution_count": 48,
   "metadata": {},
   "outputs": [
    {
     "data": {
      "text/plain": [
       "[100, 49, 35, 52, 57, 34]"
      ]
     },
     "execution_count": 48,
     "metadata": {},
     "output_type": "execute_result"
    }
   ],
   "source": [
    "# how can we use the loop, to replace the list values with the ROUNDED values IN PLACE?\n",
    "customer_purchase_amounts = [100.50, 48.67, 34.78, 51.90, 56.98, 34.23]\n",
    "\n",
    "count = 0\n",
    "for i in customer_purchase_amounts:\n",
    "    customer_purchase_amounts[count]= round(i)\n",
    "    count+=1\n",
    "customer_purchase_amounts"
   ]
  },
  {
   "cell_type": "code",
   "execution_count": 47,
   "metadata": {},
   "outputs": [
    {
     "name": "stdout",
     "output_type": "stream",
     "text": [
      "[100, 49, 35, 52, 57, 34]\n"
     ]
    }
   ],
   "source": [
    "customer_purchase_amounts = [100.50, 48.67, 34.78, 51.90, 56.98, 34.23]\n",
    "\n",
    "for i in range(len(customer_purchase_amounts)):\n",
    "    customer_purchase_amounts[i] = round(customer_purchase_amounts[i])\n",
    "\n",
    "print(customer_purchase_amounts)"
   ]
  },
  {
   "cell_type": "code",
   "execution_count": 51,
   "metadata": {},
   "outputs": [
    {
     "name": "stdout",
     "output_type": "stream",
     "text": [
      "0\n",
      "1\n",
      "2\n",
      "3\n",
      "4\n",
      "5\n"
     ]
    }
   ],
   "source": [
    "customer_purchase_amounts = [100.50, 48.67, 34.78, 51.90, 56.98, 34.23]\n",
    "\n",
    "for i in range(len(customer_purchase_amounts)):\n",
    "    print(i)\n"
   ]
  },
  {
   "cell_type": "code",
   "execution_count": 54,
   "metadata": {},
   "outputs": [
    {
     "data": {
      "text/plain": [
       "[100, 49, 35, 52, 57, 34.23]"
      ]
     },
     "execution_count": 54,
     "metadata": {},
     "output_type": "execute_result"
    }
   ],
   "source": [
    "customer_purchase_amounts = [100.50, 48.67, 34.78, 51.90, 56.98, 34.23]\n",
    "\n",
    "for i in range(0,len(customer_purchase_amounts)-1):\n",
    "    customer_purchase_amounts[i] = round(customer_purchase_amounts[i])\n",
    "\n",
    "customer_purchase_amounts"
   ]
  },
  {
   "cell_type": "code",
   "execution_count": 56,
   "metadata": {},
   "outputs": [
    {
     "name": "stdout",
     "output_type": "stream",
     "text": [
      "0\n",
      "1\n",
      "2\n",
      "3\n",
      "4\n"
     ]
    }
   ],
   "source": [
    "for i in range(0,len(customer_purchase_amounts)-1):\n",
    "    print(i)"
   ]
  },
  {
   "cell_type": "code",
   "execution_count": 58,
   "metadata": {},
   "outputs": [
    {
     "data": {
      "text/plain": [
       "0"
      ]
     },
     "execution_count": 58,
     "metadata": {},
     "output_type": "execute_result"
    }
   ],
   "source": [
    "customer_purchase_amounts.index(100)"
   ]
  },
  {
   "cell_type": "code",
   "execution_count": 60,
   "metadata": {},
   "outputs": [
    {
     "data": {
      "text/plain": [
       "2"
      ]
     },
     "execution_count": 60,
     "metadata": {},
     "output_type": "execute_result"
    }
   ],
   "source": [
    "customer_purchase_amounts.index(35)"
   ]
  },
  {
   "cell_type": "code",
   "execution_count": 59,
   "metadata": {},
   "outputs": [
    {
     "data": {
      "text/plain": [
       "[100, 49, 35, 52, 57, 34]"
      ]
     },
     "execution_count": 59,
     "metadata": {},
     "output_type": "execute_result"
    }
   ],
   "source": [
    "# NOTE: this method will NOT work if you don't have unique values, because index() always finds the first vaue\n",
    "\n",
    "customer_purchase_amounts = [100.50, 48.67, 34.78, 51.90, 56.98, 34.23]\n",
    "\n",
    "for i in customer_purchase_amounts:\n",
    "    customer_purchase_amounts[customer_purchase_amounts.index(i)] = round(i)\n",
    "\n",
    "customer_purchase_amounts"
   ]
  },
  {
   "cell_type": "code",
   "execution_count": 65,
   "metadata": {},
   "outputs": [
    {
     "data": {
      "text/plain": [
       "[2, 4, 6, 8, 10]"
      ]
     },
     "execution_count": 65,
     "metadata": {},
     "output_type": "execute_result"
    }
   ],
   "source": [
    "# looping through a tuple, is very similar to a list\n",
    "tuple1 = (1,2,3,4,5)\n",
    "list1 = []\n",
    "for i in tuple1:\n",
    "    list1.append(i*2)\n",
    "\n",
    "list1"
   ]
  },
  {
   "cell_type": "code",
   "execution_count": 66,
   "metadata": {},
   "outputs": [
    {
     "name": "stdout",
     "output_type": "stream",
     "text": [
      "ON\n",
      "MB\n",
      "SK\n",
      "BC\n",
      "QB\n",
      "PEI\n"
     ]
    }
   ],
   "source": [
    "# looping through dictionaries\n",
    "# the simple loop notation will ONLY return the KEYS of the dictionary, not the values\n",
    "for i in dict1:\n",
    "    print(i)"
   ]
  },
  {
   "cell_type": "code",
   "execution_count": 68,
   "metadata": {},
   "outputs": [
    {
     "name": "stdout",
     "output_type": "stream",
     "text": [
      "('ON', 'Toronto')\n",
      "('MB', 'Winnipeg')\n",
      "('SK', 'Regina')\n",
      "('BC', 'Victoria')\n",
      "('QB', 'Quebec City')\n",
      "('PEI', 'Charlottetown')\n"
     ]
    }
   ],
   "source": [
    "# to return both the keys and values, we need to loop through the dict1.items() attribute\n",
    "for i in dict1.items():\n",
    "    print(i)"
   ]
  },
  {
   "cell_type": "code",
   "execution_count": 76,
   "metadata": {},
   "outputs": [
    {
     "name": "stdout",
     "output_type": "stream",
     "text": [
      "('on', 'Toronto')\n",
      "('mb', 'Winnipeg')\n",
      "('sk', 'Regina')\n",
      "('bc', 'Victoria')\n",
      "('qb', 'Quebec City')\n",
      "('pei', 'Charlottetown')\n"
     ]
    }
   ],
   "source": [
    "# to change a value in one of the tuples, we first need to convert it to a list\n",
    "for i in dict1.items():\n",
    "    list(i) # convert the tuples to a list format\n",
    "    list(i)[0] # isolate the first position\n",
    "    print(tuple([list(i)[0].lower(), list(i)[1]])) # if we are making a change, then we need to chain a few functions together including converting a list\n",
    "    "
   ]
  },
  {
   "cell_type": "code",
   "execution_count": 116,
   "metadata": {},
   "outputs": [],
   "source": [
    "# let's add a second city to each province\n",
    "# the function we need to write will need to isolate each value, based on the key, and replace it with a list of multiple cities\n",
    "cities = [[\"Toronto\",\"Ottawa\"], [\"Winnipeg\", \"Churchill\"], [\"Regina\", \"Saskatoon\"]\n",
    "          , [\"Victoria\", \"Vancouver\"], ['Quebec City', \"Montreal\"], ['Charlottetown','Cornwall']]\n",
    "\n",
    "dict1 = {'ON': 'Toronto',\n",
    " 'MB': 'Winnipeg',\n",
    " 'SK': 'Regina',\n",
    " 'BC': 'Victoria',\n",
    " 'QB': 'Quebec City',\n",
    " 'PEI': 'Charlottetown'}"
   ]
  },
  {
   "cell_type": "code",
   "execution_count": null,
   "metadata": {},
   "outputs": [],
   "source": [
    "# create a list of all keys"
   ]
  },
  {
   "cell_type": "code",
   "execution_count": 111,
   "metadata": {},
   "outputs": [
    {
     "name": "stdout",
     "output_type": "stream",
     "text": [
      "ON Toronto\n",
      "MB Winnipeg\n",
      "SK Regina\n",
      "BC Victoria\n",
      "QB Quebec City\n",
      "PEI Charlottetown\n"
     ]
    }
   ],
   "source": []
  },
  {
   "cell_type": "code",
   "execution_count": 83,
   "metadata": {},
   "outputs": [
    {
     "name": "stdout",
     "output_type": "stream",
     "text": [
      "['Toronto']\n",
      "['Toronto', 'Winnipeg']\n",
      "['Toronto', 'Winnipeg', 'Regina']\n",
      "['Toronto', 'Winnipeg', 'Regina', 'Victoria']\n",
      "['Toronto', 'Winnipeg', 'Regina', 'Victoria', 'Quebec City']\n",
      "['Toronto', 'Winnipeg', 'Regina', 'Victoria', 'Quebec City', 'Charlottetown']\n"
     ]
    }
   ],
   "source": [
    "list1 = []\n",
    "for i in dict1.items():\n",
    "    list1.append(list(i)[1])\n",
    "    print(list1)"
   ]
  },
  {
   "cell_type": "code",
   "execution_count": 84,
   "metadata": {},
   "outputs": [
    {
     "data": {
      "text/plain": [
       "['Toronto', 'Winnipeg', 'Regina', 'Victoria', 'Quebec City', 'Charlottetown']"
      ]
     },
     "execution_count": 84,
     "metadata": {},
     "output_type": "execute_result"
    }
   ],
   "source": [
    "list1"
   ]
  },
  {
   "cell_type": "code",
   "execution_count": 117,
   "metadata": {},
   "outputs": [
    {
     "name": "stdout",
     "output_type": "stream",
     "text": [
      "{'ON': ['Toronto', 'Ottawa'], 'MB': ['Winnipeg', 'Churchill'], 'SK': ['Regina', 'Saskatoon'], 'BC': ['Victoria', 'Vancouver'], 'QB': ['Quebec City', 'Montreal'], 'PEI': ['Charlottetown', 'Cornwall']}\n"
     ]
    }
   ],
   "source": [
    "for province,capital in dict1.items():\n",
    "    for each_combo in cities:\n",
    "        if capital in each_combo:\n",
    "            dict1[province] = each_combo\n",
    "            # break\n",
    "print(dict1)\n"
   ]
  },
  {
   "cell_type": "code",
   "execution_count": 112,
   "metadata": {},
   "outputs": [
    {
     "name": "stdout",
     "output_type": "stream",
     "text": [
      "{'ON': ['Toronto', 'Ottawa'], 'MB': ['Winnipeg', 'Churchill'], 'SK': ['Regina', 'Saskatoon'], 'BC': ['Victoria', 'Vancouver'], 'QB': ['Quebec City', 'Montreal'], 'PEI': ['Charlottetown', 'Cornwall']}\n"
     ]
    }
   ],
   "source": [
    "for province,capital in dict1.items():\n",
    "       for each_combo in cities:\n",
    "              if capital in each_combo:\n",
    "                     dict1[province] = each_combo\n",
    "print(dict1)"
   ]
  },
  {
   "cell_type": "code",
   "execution_count": 102,
   "metadata": {},
   "outputs": [
    {
     "data": {
      "text/plain": [
       "dict_items([('ON', 'Toronto'), ('MB', 'Winnipeg'), ('SK', 'Regina'), ('BC', 'Victoria'), ('QB', 'Quebec City'), ('PEI', 'Charlottetown')])"
      ]
     },
     "execution_count": 102,
     "metadata": {},
     "output_type": "execute_result"
    }
   ],
   "source": [
    "dict1.items()"
   ]
  },
  {
   "cell_type": "code",
   "execution_count": 122,
   "metadata": {},
   "outputs": [
    {
     "name": "stdout",
     "output_type": "stream",
     "text": [
      "x is 500\n"
     ]
    }
   ],
   "source": [
    "x = 500\n",
    "\n",
    "if x > 500:\n",
    "    print(\"X is high\")\n",
    "elif x < 500:\n",
    "    print(\"X is low\")\n",
    "else:\n",
    "    print(\"x is 500\")"
   ]
  },
  {
   "cell_type": "code",
   "execution_count": 128,
   "metadata": {},
   "outputs": [
    {
     "data": {
      "text/plain": [
       "{'Adam': ['shoes', 'book', 'shirt'],\n",
       " 'Mary': ['book', 'shampoo'],\n",
       " 'Joe': ['book', 'shirt', 'coat', 'shoes', 'kindle', 'etc'],\n",
       " 'Anm': ['bag', 'socks']}"
      ]
     },
     "execution_count": 128,
     "metadata": {},
     "output_type": "execute_result"
    }
   ],
   "source": [
    "purchases_nested['Customer_Orders']"
   ]
  },
  {
   "cell_type": "code",
   "execution_count": 138,
   "metadata": {},
   "outputs": [
    {
     "name": "stdout",
     "output_type": "stream",
     "text": [
      "['shoes', 'book', 'shirt']\n",
      "1\n",
      "1\n",
      "1\n",
      "['book', 'shampoo']\n",
      "2\n",
      "2\n",
      "['book', 'shirt', 'coat', 'shoes', 'kindle', 'etc']\n",
      "3\n",
      "2\n",
      "6\n",
      "['bag', 'socks']\n",
      "8\n"
     ]
    }
   ],
   "source": [
    "# let's count the number of people who bought a book\n",
    "\n",
    "counter_book = 0\n",
    "counter_shirt = 0\n",
    "everything_else = 0\n",
    "\n",
    "for a, b in purchases_nested['Customer_Orders'].items():\n",
    "    print(b)\n",
    "    if 'book' in b:\n",
    "        counter_book += 1\n",
    "        print(counter_book)\n",
    "    \n",
    "    if 'shirt' in b:\n",
    "        counter_shirt +=1\n",
    "        print(counter_shirt)\n",
    "    everything_else += len(b)\n",
    "    print(everything_else - counter_book - counter_shirt)\n",
    "\n"
   ]
  },
  {
   "cell_type": "code",
   "execution_count": 139,
   "metadata": {},
   "outputs": [
    {
     "name": "stdout",
     "output_type": "stream",
     "text": [
      "['shoes', 'book', 'shirt']\n",
      "1\n",
      "['book', 'shampoo']\n",
      "['book', 'shirt', 'coat', 'shoes', 'kindle', 'etc']\n",
      "2\n",
      "['bag', 'socks']\n"
     ]
    }
   ],
   "source": [
    "# let's count the number of people who bought a book\n",
    "\n",
    "counter_book_and_shirt = 0\n",
    "\n",
    "for a, b in purchases_nested['Customer_Orders'].items():\n",
    "    print(b)\n",
    "    if 'book' in b and 'shirt' in b:\n",
    "        counter_book_and_shirt += 1\n",
    "        print(counter_book_and_shirt)"
   ]
  },
  {
   "cell_type": "code",
   "execution_count": 141,
   "metadata": {},
   "outputs": [
    {
     "name": "stdout",
     "output_type": "stream",
     "text": [
      "['shoes', 'book', 'shirt']\n",
      "['book', 'shampoo']\n",
      "1\n",
      "['book', 'shirt', 'coat', 'shoes', 'kindle', 'etc']\n",
      "['bag', 'socks']\n",
      "2\n"
     ]
    }
   ],
   "source": [
    "# let's count the number of people who bought a book\n",
    "\n",
    "counter_book_and_shirt = 0\n",
    "\n",
    "for a, b in purchases_nested['Customer_Orders'].items():\n",
    "    print(b)\n",
    "    if 'bag' in b or 'shampoo' in b:\n",
    "        counter_book_and_shirt += 1\n",
    "        print(counter_book_and_shirt)"
   ]
  },
  {
   "cell_type": "code",
   "execution_count": 142,
   "metadata": {},
   "outputs": [
    {
     "data": {
      "text/plain": [
       "{'Customer_Orders': {'Adam': ['shoes', 'book', 'shirt'],\n",
       "  'Mary': ['book', 'shampoo'],\n",
       "  'Joe': ['book', 'shirt', 'coat', 'shoes', 'kindle', 'etc'],\n",
       "  'Anm': ['bag', 'socks']},\n",
       " 'Delivery_Schedule': {'Adam': 'Monday',\n",
       "  'Mary': 'Tuesday',\n",
       "  'Joe': 'Wednesday',\n",
       "  'Anm': {'bag': 'Thursday', 'socks': 'friday'}}}"
      ]
     },
     "execution_count": 142,
     "metadata": {},
     "output_type": "execute_result"
    }
   ],
   "source": [
    "# Defining Custom Functions\n",
    "purchases_nested"
   ]
  },
  {
   "cell_type": "code",
   "execution_count": 143,
   "metadata": {},
   "outputs": [],
   "source": [
    "purchases_jan = {'Customer_Orders': {'Adam': ['shoes', 'apples', 'shirt'],\n",
    "  'Mary': ['book', 'conditioner'],\n",
    "  'Joe': ['book', 'socks', 'coat', 'shoes', 'kindle', 'etc'],\n",
    "  'Anm': ['bag', 'coat', 'bananas']},\n",
    " 'Delivery_Schedule': {'Adam': 'Monday',\n",
    "  'Mary': 'Tuesday',\n",
    "  'Joe': 'Wednesday',\n",
    "  'Anm': {'bag': 'Thursday', 'socks': 'friday'}}}"
   ]
  },
  {
   "cell_type": "code",
   "execution_count": 144,
   "metadata": {},
   "outputs": [],
   "source": [
    "purchases_feb = {'Customer_Orders': {'Adam': ['shoes', 'apples', 'book', 'computer'],\n",
    "  'Mary': ['book', 'conditioner', 'shirt'],\n",
    "  'Joe': ['book', 'socks', 'coat', 'shoes', 'kindle', 'computer mouse'],\n",
    "  'Anm': ['bag', 'coat', 'bananas', 'apples']},\n",
    " 'Delivery_Schedule': {'Adam': 'Monday',\n",
    "  'Mary': 'Tuesday',\n",
    "  'Joe': 'Wednesday',\n",
    "  'Anm': {'bag': 'Thursday', 'socks': 'friday'}}}"
   ]
  },
  {
   "cell_type": "code",
   "execution_count": 145,
   "metadata": {},
   "outputs": [
    {
     "name": "stdout",
     "output_type": "stream",
     "text": [
      "['shoes', 'apples', 'shirt']\n",
      "1\n",
      "2\n",
      "['book', 'conditioner']\n",
      "1\n",
      "3\n",
      "['book', 'socks', 'coat', 'shoes', 'kindle', 'etc']\n",
      "2\n",
      "8\n",
      "['bag', 'coat', 'bananas']\n",
      "11\n"
     ]
    }
   ],
   "source": [
    "# let's count the number of people who bought a book\n",
    "\n",
    "counter_book = 0\n",
    "counter_shirt = 0\n",
    "everything_else = 0\n",
    "\n",
    "for a, b in purchases_jan['Customer_Orders'].items():\n",
    "    print(b)\n",
    "    if 'book' in b:\n",
    "        counter_book += 1\n",
    "        print(counter_book)\n",
    "    \n",
    "    if 'shirt' in b:\n",
    "        counter_shirt +=1\n",
    "        print(counter_shirt)\n",
    "    everything_else += len(b)\n",
    "    print(everything_else - counter_book - counter_shirt)"
   ]
  },
  {
   "cell_type": "code",
   "execution_count": 146,
   "metadata": {},
   "outputs": [
    {
     "name": "stdout",
     "output_type": "stream",
     "text": [
      "['shoes', 'apples', 'book', 'computer']\n",
      "1\n",
      "3\n",
      "['book', 'conditioner', 'shirt']\n",
      "2\n",
      "1\n",
      "4\n",
      "['book', 'socks', 'coat', 'shoes', 'kindle', 'computer mouse']\n",
      "3\n",
      "9\n",
      "['bag', 'coat', 'bananas', 'apples']\n",
      "13\n"
     ]
    }
   ],
   "source": [
    "# let's count the number of people who bought a book\n",
    "\n",
    "counter_book = 0\n",
    "counter_shirt = 0\n",
    "everything_else = 0\n",
    "\n",
    "for a, b in purchases_feb['Customer_Orders'].items():\n",
    "    print(b)\n",
    "    if 'book' in b:\n",
    "        counter_book += 1\n",
    "        print(counter_book)\n",
    "    \n",
    "    if 'shirt' in b:\n",
    "        counter_shirt +=1\n",
    "        print(counter_shirt)\n",
    "    everything_else += len(b)\n",
    "    print(everything_else - counter_book - counter_shirt)"
   ]
  },
  {
   "cell_type": "code",
   "execution_count": 147,
   "metadata": {},
   "outputs": [],
   "source": [
    "# the purpose of custom functions is to store repetitive code in a custom function, so execution is faster and writing the code is more efficient\n",
    "def book_and_shirt_counter(x):\n",
    "    counter_book = 0\n",
    "    counter_shirt = 0\n",
    "    everything_else = 0\n",
    "\n",
    "    for a, b in x['Customer_Orders'].items():\n",
    "        if 'book' in b:\n",
    "            counter_book += 1\n",
    "    \n",
    "        if 'shirt' in b:\n",
    "            counter_shirt +=1\n",
    "        everything_else += len(b)\n",
    "    print('Total_Shirts: ', counter_shirt)\n",
    "    print('Total_Books: ', counter_book)        \n",
    "    print('Everything_else: ', everything_else - counter_book - counter_shirt)"
   ]
  },
  {
   "cell_type": "code",
   "execution_count": 148,
   "metadata": {},
   "outputs": [
    {
     "name": "stdout",
     "output_type": "stream",
     "text": [
      "Total_Shirts:  1\n",
      "Total_Books:  3\n",
      "Everything_else:  13\n"
     ]
    }
   ],
   "source": [
    "book_and_shirt_counter(purchases_feb)"
   ]
  },
  {
   "cell_type": "code",
   "execution_count": 149,
   "metadata": {},
   "outputs": [
    {
     "name": "stdout",
     "output_type": "stream",
     "text": [
      "Total_Shirts:  1\n",
      "Total_Books:  2\n",
      "Everything_else:  11\n"
     ]
    }
   ],
   "source": [
    "book_and_shirt_counter(purchases_jan)"
   ]
  },
  {
   "cell_type": "code",
   "execution_count": 150,
   "metadata": {},
   "outputs": [
    {
     "name": "stdout",
     "output_type": "stream",
     "text": [
      "Total_Shirts:  2\n",
      "Total_Books:  3\n",
      "Everything_else:  8\n"
     ]
    }
   ],
   "source": [
    "book_and_shirt_counter(purchases_nested)"
   ]
  },
  {
   "cell_type": "code",
   "execution_count": 151,
   "metadata": {},
   "outputs": [],
   "source": [
    "# how could you define a function to find the MEDIAN value of a list?\n",
    "# use if statements, list position slicing\n",
    "\n",
    "def find_median(x): \n",
    "    x.sort() # in place sorting of the list\n",
    "    list_length = len(x)\n",
    "    if list_length % 2 == 0: # even list\n",
    "        first_position = list_length // 2\n",
    "        second_position = (list_length // 2)-1\n",
    "        median = (x[first_position] + x[second_position]) / 2\n",
    "\n",
    "    else: # odd numbered list\n",
    "        median = x[list_length // 2]\n",
    "    \n",
    "    return median\n"
   ]
  },
  {
   "cell_type": "code",
   "execution_count": 152,
   "metadata": {},
   "outputs": [
    {
     "data": {
      "text/plain": [
       "14.5"
      ]
     },
     "execution_count": 152,
     "metadata": {},
     "output_type": "execute_result"
    }
   ],
   "source": [
    "random_list = [15, 58, 2, 35, 14, 7, 9, 150, 28, 4]\n",
    "find_median(random_list)\n"
   ]
  },
  {
   "cell_type": "code",
   "execution_count": 153,
   "metadata": {},
   "outputs": [
    {
     "data": {
      "text/plain": [
       "14"
      ]
     },
     "execution_count": 153,
     "metadata": {},
     "output_type": "execute_result"
    }
   ],
   "source": [
    "odd_list = [15, 58, 2, 35, 14, 7, 9, 150, 4]\n",
    "find_median(odd_list)"
   ]
  },
  {
   "cell_type": "code",
   "execution_count": null,
   "metadata": {},
   "outputs": [],
   "source": []
  }
 ],
 "metadata": {
  "kernelspec": {
   "display_name": "Python 3",
   "language": "python",
   "name": "python3"
  },
  "language_info": {
   "codemirror_mode": {
    "name": "ipython",
    "version": 3
   },
   "file_extension": ".py",
   "mimetype": "text/x-python",
   "name": "python",
   "nbconvert_exporter": "python",
   "pygments_lexer": "ipython3",
   "version": "3.11.4"
  }
 },
 "nbformat": 4,
 "nbformat_minor": 2
}
