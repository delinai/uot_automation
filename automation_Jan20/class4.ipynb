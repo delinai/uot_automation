{
 "cells": [
  {
   "cell_type": "markdown",
   "metadata": {},
   "source": [
    "### Defining classes in Python"
   ]
  },
  {
   "cell_type": "code",
   "execution_count": 1,
   "metadata": {},
   "outputs": [],
   "source": [
    "list1 = [1,2,3,4]"
   ]
  },
  {
   "cell_type": "code",
   "execution_count": 2,
   "metadata": {},
   "outputs": [],
   "source": [
    "import numpy as np"
   ]
  },
  {
   "cell_type": "code",
   "execution_count": 3,
   "metadata": {},
   "outputs": [],
   "source": [
    "array1 = np.array(list1)"
   ]
  },
  {
   "cell_type": "code",
   "execution_count": 5,
   "metadata": {},
   "outputs": [
    {
     "data": {
      "text/plain": [
       "4"
      ]
     },
     "execution_count": 5,
     "metadata": {},
     "output_type": "execute_result"
    }
   ],
   "source": [
    "array1.size"
   ]
  },
  {
   "cell_type": "code",
   "execution_count": null,
   "metadata": {},
   "outputs": [],
   "source": [
    "list1.append()"
   ]
  },
  {
   "cell_type": "code",
   "execution_count": 33,
   "metadata": {},
   "outputs": [],
   "source": [
    "class Dog:\n",
    "    def __init__(self, name, age):\n",
    "        self.name = name\n",
    "        self.age = age\n",
    "\n",
    "    def speak(self):\n",
    "        return f\"{self.name} say woof!\" "
   ]
  },
  {
   "cell_type": "code",
   "execution_count": 34,
   "metadata": {},
   "outputs": [],
   "source": [
    "buddy = Dog(\"Buddy\", 4) "
   ]
  },
  {
   "cell_type": "code",
   "execution_count": 35,
   "metadata": {},
   "outputs": [
    {
     "data": {
      "text/plain": [
       "'Buddy'"
      ]
     },
     "execution_count": 35,
     "metadata": {},
     "output_type": "execute_result"
    }
   ],
   "source": [
    "buddy.name"
   ]
  },
  {
   "cell_type": "code",
   "execution_count": 36,
   "metadata": {},
   "outputs": [
    {
     "data": {
      "text/plain": [
       "4"
      ]
     },
     "execution_count": 36,
     "metadata": {},
     "output_type": "execute_result"
    }
   ],
   "source": [
    "buddy.age"
   ]
  },
  {
   "cell_type": "code",
   "execution_count": 37,
   "metadata": {},
   "outputs": [
    {
     "data": {
      "text/plain": [
       "'Buddy say woof!'"
      ]
     },
     "execution_count": 37,
     "metadata": {},
     "output_type": "execute_result"
    }
   ],
   "source": [
    "buddy.speak()"
   ]
  },
  {
   "cell_type": "code",
   "execution_count": null,
   "metadata": {},
   "outputs": [],
   "source": [
    "class Husky:\n",
    "     def __init__(self, name, age):\n",
    "        self.name = name\n",
    "        self.age = age\n",
    "\n",
    "    def speak(self):\n",
    "        return f\"{self.name} say woooooo!\" "
   ]
  },
  {
   "cell_type": "code",
   "execution_count": 38,
   "metadata": {},
   "outputs": [],
   "source": [
    "class Husky(Dog):\n",
    "    def speak(self):\n",
    "        return f\"{self.name} say wooooo\""
   ]
  },
  {
   "cell_type": "code",
   "execution_count": 39,
   "metadata": {},
   "outputs": [],
   "source": [
    "my_husky = Husky(\"Riddick\", 10)\n"
   ]
  },
  {
   "cell_type": "code",
   "execution_count": 40,
   "metadata": {},
   "outputs": [
    {
     "data": {
      "text/plain": [
       "'Riddick say wooooo'"
      ]
     },
     "execution_count": 40,
     "metadata": {},
     "output_type": "execute_result"
    }
   ],
   "source": [
    "my_husky.speak()"
   ]
  },
  {
   "cell_type": "markdown",
   "metadata": {},
   "source": [
    "### File Handling"
   ]
  },
  {
   "cell_type": "code",
   "execution_count": 42,
   "metadata": {},
   "outputs": [],
   "source": [
    "# Creating a brand new file with the \"w\" parameter\n",
    "with open('/Users/delinaivanova/Library/CloudStorage/OneDrive-Personal/UoT/Micro Courses/Python Programming for Automation/Old/example.txt', 'w') as f:\n",
    "    f.write('Hello')"
   ]
  },
  {
   "cell_type": "code",
   "execution_count": 1,
   "metadata": {},
   "outputs": [],
   "source": [
    "# appending to a file with the \"a\" parameter\n",
    "with open('/Users/delinaivanova/Library/CloudStorage/OneDrive-Personal/UoT/Micro Courses/Python Programming for Automation/Old/example.txt', 'a') as f:\n",
    "    f.write('\\nHow are you')"
   ]
  },
  {
   "cell_type": "code",
   "execution_count": 1,
   "metadata": {},
   "outputs": [],
   "source": [
    "with open('/Users/delinaivanova/Library/CloudStorage/OneDrive-Personal/UoT/Micro Courses/Python Programming for Automation/Old/example.txt', 'a') as f:\n",
    "    f.write('\\nI am well')"
   ]
  },
  {
   "cell_type": "code",
   "execution_count": 2,
   "metadata": {},
   "outputs": [
    {
     "name": "stdout",
     "output_type": "stream",
     "text": [
      "HelloHow are you\n",
      "How are you\n",
      "I am well\n"
     ]
    }
   ],
   "source": [
    "# reading from a file\n",
    "with open('/Users/delinaivanova/Library/CloudStorage/OneDrive-Personal/UoT/Micro Courses/Python Programming for Automation/Old/example.txt', 'r') as f:\n",
    "    content = f.read()\n",
    "    print(content)"
   ]
  },
  {
   "cell_type": "code",
   "execution_count": 3,
   "metadata": {},
   "outputs": [],
   "source": [
    "import csv"
   ]
  },
  {
   "cell_type": "code",
   "execution_count": 5,
   "metadata": {},
   "outputs": [],
   "source": [
    "customers = [['ID','Name','Email']\n",
    "             , [1001,'John Doe','john@email.com']\n",
    "             ,[1002,'Jane Doe', 'jane@email.com']]"
   ]
  },
  {
   "cell_type": "code",
   "execution_count": 6,
   "metadata": {},
   "outputs": [],
   "source": [
    "with open('/Users/delinaivanova/Desktop/customers.csv','w', newline='') as f:\n",
    "    writer = csv.writer(f)\n",
    "    writer.writerows(customers)"
   ]
  },
  {
   "cell_type": "code",
   "execution_count": 9,
   "metadata": {},
   "outputs": [
    {
     "name": "stdout",
     "output_type": "stream",
     "text": [
      "ID, Name, Email\n",
      "1001, John Doe, john@email.com\n",
      "1002, Jane Doe, jane@email.com\n"
     ]
    }
   ],
   "source": [
    "with open('/Users/delinaivanova/Desktop/customers.csv','r') as f:\n",
    "    reader = csv.reader(f)\n",
    "    for row in reader:\n",
    "        print(', '.join(row))"
   ]
  },
  {
   "cell_type": "markdown",
   "metadata": {},
   "source": [
    "### Small end to end example of classes and file manipulation"
   ]
  },
  {
   "cell_type": "code",
   "execution_count": 10,
   "metadata": {},
   "outputs": [],
   "source": [
    "class Product:\n",
    "    def __init__(self, product_id, name, quantity, unit_price):\n",
    "        self.product_id = product_id\n",
    "        self.name = name\n",
    "        self.quantity = quantity\n",
    "        self.unit_price = unit_price\n",
    "    \n",
    "    def add_inventory(self, amount):\n",
    "        self.quantity += amount\n",
    "\n",
    "    def remove_inventory(self, amount):\n",
    "        if amount <= self.quantity:\n",
    "            self.quantity -= amount\n",
    "        else:\n",
    "            print(f\"Not enough stock of {self.name}\")\n",
    "    \n",
    "    def inventory_value(self):\n",
    "        return self.quantity * self.unit_price\n",
    "    \n",
    "    def quantity_remaining(self):\n",
    "        return self.quantity"
   ]
  },
  {
   "cell_type": "code",
   "execution_count": 11,
   "metadata": {},
   "outputs": [],
   "source": [
    "bananas = Product(1001, \"Bananas\", 1000, 0.10)"
   ]
  },
  {
   "cell_type": "code",
   "execution_count": 12,
   "metadata": {},
   "outputs": [],
   "source": [
    "bananas.add_inventory(50)"
   ]
  },
  {
   "cell_type": "code",
   "execution_count": 13,
   "metadata": {},
   "outputs": [
    {
     "data": {
      "text/plain": [
       "1050"
      ]
     },
     "execution_count": 13,
     "metadata": {},
     "output_type": "execute_result"
    }
   ],
   "source": [
    "bananas.quantity"
   ]
  },
  {
   "cell_type": "code",
   "execution_count": 15,
   "metadata": {},
   "outputs": [
    {
     "data": {
      "text/plain": [
       "105.0"
      ]
     },
     "execution_count": 15,
     "metadata": {},
     "output_type": "execute_result"
    }
   ],
   "source": [
    "bananas.inventory_value()"
   ]
  },
  {
   "cell_type": "code",
   "execution_count": 19,
   "metadata": {},
   "outputs": [],
   "source": [
    "inventory_file = [['product_id', 'name', 'quantity', 'unit_price'],\n",
    "                  ['P001','Laptop',10,1000],\n",
    "                  ['P001','Smartphone',100,1500],\n",
    "                  ['P003','Tablet',15,500]]\n",
    "with open('/Users/delinaivanova/Desktop/inventory.csv','w', newline='') as f:\n",
    "    writer = csv.writer(f)\n",
    "    writer.writerows(inventory_file)"
   ]
  },
  {
   "cell_type": "code",
   "execution_count": 46,
   "metadata": {},
   "outputs": [],
   "source": [
    "def read_inventory(file_name):\n",
    "    global products # Make products global variable so we can access it\n",
    "    products = []\n",
    "    with open(file_name,'r') as f:\n",
    "        reader = csv.reader(f)\n",
    "        next(reader) # Skip the first row, which is our header\n",
    "        for row in reader:\n",
    "            product_id, name, quantity, unit_price = row[0], row[1], row[2], row[3]\n",
    "            products.append(Product(product_id, name, int(quantity), float(unit_price)))\n",
    "    return products   \n",
    "     \n",
    "        "
   ]
  },
  {
   "cell_type": "code",
   "execution_count": 47,
   "metadata": {},
   "outputs": [
    {
     "data": {
      "text/plain": [
       "[<__main__.Product at 0x11435e950>,\n",
       " <__main__.Product at 0x10fe86650>,\n",
       " <__main__.Product at 0x114478290>]"
      ]
     },
     "execution_count": 47,
     "metadata": {},
     "output_type": "execute_result"
    }
   ],
   "source": [
    "# Read file and add products to a list\n",
    "file_name = '/Users/delinaivanova/Desktop/inventory.csv'\n",
    "read_inventory(file_name)"
   ]
  },
  {
   "cell_type": "code",
   "execution_count": 53,
   "metadata": {},
   "outputs": [
    {
     "name": "stdout",
     "output_type": "stream",
     "text": [
      "Laptop\n",
      "10000.0\n"
     ]
    }
   ],
   "source": [
    "# Access each product, and access attributes or methods based on the class\n",
    "print(products[0].name)\n",
    "print(products[0].inventory_value())"
   ]
  },
  {
   "cell_type": "code",
   "execution_count": null,
   "metadata": {},
   "outputs": [],
   "source": []
  }
 ],
 "metadata": {
  "kernelspec": {
   "display_name": "Python 3",
   "language": "python",
   "name": "python3"
  },
  "language_info": {
   "codemirror_mode": {
    "name": "ipython",
    "version": 3
   },
   "file_extension": ".py",
   "mimetype": "text/x-python",
   "name": "python",
   "nbconvert_exporter": "python",
   "pygments_lexer": "ipython3",
   "version": "3.11.4"
  }
 },
 "nbformat": 4,
 "nbformat_minor": 2
}
