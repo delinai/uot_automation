{
 "cells": [
  {
   "cell_type": "code",
   "execution_count": null,
   "metadata": {},
   "outputs": [],
   "source": [
    "# AGENDA FOR TODAY\n",
    "# sequential objects\n",
    "# slicing of sequential objects and navigating by position\n",
    "# specific function related to classes these objects come from\n",
    "# iteration, conditionals, and custom functions"
   ]
  },
  {
   "cell_type": "code",
   "execution_count": 1,
   "metadata": {},
   "outputs": [],
   "source": [
    "# String\n",
    "variable = 'x'\n",
    "variable = 'multiple letters'"
   ]
  },
  {
   "cell_type": "code",
   "execution_count": 2,
   "metadata": {},
   "outputs": [
    {
     "data": {
      "text/plain": [
       "'m'"
      ]
     },
     "execution_count": 2,
     "metadata": {},
     "output_type": "execute_result"
    }
   ],
   "source": [
    "# Using slicing to manipulate strings\n",
    "# Python begins counting at position 0\n",
    "# For slicing we always use square brackets []\n",
    "variable[0]"
   ]
  },
  {
   "cell_type": "code",
   "execution_count": 3,
   "metadata": {},
   "outputs": [
    {
     "data": {
      "text/plain": [
       "'mul'"
      ]
     },
     "execution_count": 3,
     "metadata": {},
     "output_type": "execute_result"
    }
   ],
   "source": [
    "# to return the first 3 values of the string, we can start at position 0 and slice UP TO, but NOT INCLUDING position 3\n",
    "# the position on the right hand of the colon symbol (:) is exclusive\n",
    "variable[0:3]"
   ]
  },
  {
   "cell_type": "code",
   "execution_count": 4,
   "metadata": {},
   "outputs": [
    {
     "data": {
      "text/plain": [
       "'s'"
      ]
     },
     "execution_count": 4,
     "metadata": {},
     "output_type": "execute_result"
    }
   ],
   "source": [
    "# negative positions allows us to slice from the ending point\n",
    "variable[-1]"
   ]
  },
  {
   "cell_type": "code",
   "execution_count": 5,
   "metadata": {},
   "outputs": [
    {
     "data": {
      "text/plain": [
       "'er'"
      ]
     },
     "execution_count": 5,
     "metadata": {},
     "output_type": "execute_result"
    }
   ],
   "source": [
    "# when slicing from the end, we start with the left-most position; since the range is UP TO, but NOT INCLUDING, the last value is excluded\n",
    "variable[-3:-1]"
   ]
  },
  {
   "cell_type": "code",
   "execution_count": 6,
   "metadata": {},
   "outputs": [
    {
     "data": {
      "text/plain": [
       "'ers'"
      ]
     },
     "execution_count": 6,
     "metadata": {},
     "output_type": "execute_result"
    }
   ],
   "source": [
    "# you can also slice by giving a starting point with a colon (:), which will return everything until the end\n",
    "# in this example we are returning everything starting at position -3 until the end\n",
    "variable[-3:]"
   ]
  },
  {
   "cell_type": "code",
   "execution_count": 7,
   "metadata": {},
   "outputs": [
    {
     "data": {
      "text/plain": [
       "'ple letters'"
      ]
     },
     "execution_count": 7,
     "metadata": {},
     "output_type": "execute_result"
    }
   ],
   "source": [
    "variable[5:]"
   ]
  },
  {
   "cell_type": "code",
   "execution_count": 8,
   "metadata": {},
   "outputs": [
    {
     "data": {
      "text/plain": [
       "'multip'"
      ]
     },
     "execution_count": 8,
     "metadata": {},
     "output_type": "execute_result"
    }
   ],
   "source": [
    "# We can also do the opposite; if you don't specify a starting point, the slice will start at the beginning\n",
    "variable[:6]"
   ]
  },
  {
   "cell_type": "code",
   "execution_count": 9,
   "metadata": {},
   "outputs": [],
   "source": [
    "area = \"ON\"\n",
    "product_name = \"prod_345\""
   ]
  },
  {
   "cell_type": "code",
   "execution_count": 10,
   "metadata": {},
   "outputs": [],
   "source": [
    "# Let's say we want to concatenate two strings\n",
    "product_code = area + product_name"
   ]
  },
  {
   "cell_type": "code",
   "execution_count": 11,
   "metadata": {},
   "outputs": [
    {
     "data": {
      "text/plain": [
       "'ONprod_345'"
      ]
     },
     "execution_count": 11,
     "metadata": {},
     "output_type": "execute_result"
    }
   ],
   "source": [
    "product_code"
   ]
  },
  {
   "cell_type": "code",
   "execution_count": 13,
   "metadata": {},
   "outputs": [
    {
     "data": {
      "text/plain": [
       "'ON_prod_345'"
      ]
     },
     "execution_count": 13,
     "metadata": {},
     "output_type": "execute_result"
    }
   ],
   "source": [
    "# Second example of adding underscore between area + product_name\n",
    "product_code = area + \"_\" + product_name\n",
    "product_code"
   ]
  },
  {
   "cell_type": "code",
   "execution_count": 14,
   "metadata": {},
   "outputs": [],
   "source": [
    "# Replacing specific sections of the string\n",
    "product = \"ON Prod 75\""
   ]
  },
  {
   "cell_type": "code",
   "execution_count": 15,
   "metadata": {},
   "outputs": [
    {
     "data": {
      "text/plain": [
       "'BC Prod 75'"
      ]
     },
     "execution_count": 15,
     "metadata": {},
     "output_type": "execute_result"
    }
   ],
   "source": [
    "updated_product = product.replace(\"ON\",\"BC\")\n",
    "updated_product"
   ]
  },
  {
   "cell_type": "code",
   "execution_count": 16,
   "metadata": {},
   "outputs": [],
   "source": [
    "list_of_provinces = \"AB, ON, MB, SK, BC, PEI, NB, NS, QB\""
   ]
  },
  {
   "cell_type": "code",
   "execution_count": 18,
   "metadata": {},
   "outputs": [],
   "source": [
    "# clean up the province list\n",
    "no_comma_list = list_of_provinces.replace(\",\",\"\")"
   ]
  },
  {
   "cell_type": "code",
   "execution_count": 21,
   "metadata": {},
   "outputs": [
    {
     "data": {
      "text/plain": [
       "['AB', 'ON', 'MB', 'SK', 'BC', 'PEI', 'NB', 'NS', 'QB']"
      ]
     },
     "execution_count": 21,
     "metadata": {},
     "output_type": "execute_result"
    }
   ],
   "source": [
    "# Now we can use the split function to split the string into a LIST of strings representing each province\n",
    "list_of_provinces2 = no_comma_list.split(\" \")\n",
    "list_of_provinces2"
   ]
  },
  {
   "cell_type": "code",
   "execution_count": 24,
   "metadata": {},
   "outputs": [
    {
     "data": {
      "text/plain": [
       "['AB', 'ON', 'MB', 'SK', 'BC', 'PEI', 'NB', 'NS', 'QB']"
      ]
     },
     "execution_count": 24,
     "metadata": {},
     "output_type": "execute_result"
    }
   ],
   "source": [
    "# or split directly by splitting on the \", \"\n",
    "list_of_provinces.split(\", \")"
   ]
  },
  {
   "cell_type": "code",
   "execution_count": 26,
   "metadata": {},
   "outputs": [
    {
     "data": {
      "text/plain": [
       "['AB', ' ON', ' BC']"
      ]
     },
     "execution_count": 26,
     "metadata": {},
     "output_type": "execute_result"
    }
   ],
   "source": [
    "# in a more complex scenario, you may need to use replace to clean up the string before you can split\n",
    "complex_string = \"AB, &london, ON, %special, BC\"\n",
    "complex_string = complex_string.replace(\"&london, \",\"\")\n",
    "complex_string = complex_string.replace(\"%special, \",\"\")\n",
    "complex_string.split(\",\")"
   ]
  },
  {
   "cell_type": "code",
   "execution_count": 29,
   "metadata": {},
   "outputs": [],
   "source": [
    "# remove leading and lagging whitespace\n",
    "product_code = \"   ON product 123 new    \""
   ]
  },
  {
   "cell_type": "code",
   "execution_count": 30,
   "metadata": {},
   "outputs": [
    {
     "data": {
      "text/plain": [
       "'ON product 123 new'"
      ]
     },
     "execution_count": 30,
     "metadata": {},
     "output_type": "execute_result"
    }
   ],
   "source": [
    "# the strip function will remove that\n",
    "product_code.strip()"
   ]
  },
  {
   "cell_type": "code",
   "execution_count": 31,
   "metadata": {},
   "outputs": [
    {
     "data": {
      "text/plain": [
       "'ONproduct123new'"
      ]
     },
     "execution_count": 31,
     "metadata": {},
     "output_type": "execute_result"
    }
   ],
   "source": [
    "# combining strip() and replace() will remove all whitespaces\n",
    "product_code=product_code.strip()\n",
    "product_code=product_code.replace(\" \", \"\")\n",
    "product_code"
   ]
  },
  {
   "cell_type": "code",
   "execution_count": 34,
   "metadata": {},
   "outputs": [
    {
     "data": {
      "text/plain": [
       "'ON product 123 new'"
      ]
     },
     "execution_count": 34,
     "metadata": {},
     "output_type": "execute_result"
    }
   ],
   "source": [
    "#remove white space (leading and lagging)\n",
    "product_code = \"     ON product 123 new    \"\n",
    "#strip will remove leading and lagging white space\n",
    "product_code = product_code.strip()\n",
    "product_code"
   ]
  },
  {
   "cell_type": "code",
   "execution_count": 35,
   "metadata": {},
   "outputs": [],
   "source": [
    "# some changes are INPLACE changes (meaning they will permanently alter your object)\n",
    "# others are NOT inplace changes, meaning the alteration is temporary and if you want to save it, you need to overwrite your object\n",
    "\n",
    "product_code_orig = \"ON_123_45_product_17\" "
   ]
  },
  {
   "cell_type": "code",
   "execution_count": 38,
   "metadata": {},
   "outputs": [
    {
     "data": {
      "text/plain": [
       "'ON'"
      ]
     },
     "execution_count": 38,
     "metadata": {},
     "output_type": "execute_result"
    }
   ],
   "source": [
    "# In this example we are combining the replace function with a slicing operation\n",
    "product_code_orig.replace(\"_\",\" \")[0:2]"
   ]
  },
  {
   "cell_type": "code",
   "execution_count": 42,
   "metadata": {},
   "outputs": [
    {
     "data": {
      "text/plain": [
       "12"
      ]
     },
     "execution_count": 42,
     "metadata": {},
     "output_type": "execute_result"
    }
   ],
   "source": [
    "# string objects also have a find() function to identify the position of a particular value\n",
    "# let's say the province is in the middle of the string, and maybe strings have varying lengths\n",
    "# I need to find the location of the province code, so I can slice just that portion of the string\n",
    "product_code_orig = \"prod_123_45_ON_17\" \n",
    "product_code_second = \"prod_3456_BC_9\"\n",
    "product_code_orig.find(\"ON\") # the find() function helps identify the starting position of a substring"
   ]
  },
  {
   "cell_type": "code",
   "execution_count": 48,
   "metadata": {},
   "outputs": [
    {
     "name": "stdout",
     "output_type": "stream",
     "text": [
      "ON\n",
      "BC\n"
     ]
    }
   ],
   "source": [
    "# I cannot hardcode the starting position of the province, if my product codes have varying lengths\n",
    "print(product_code_orig[12:14])\n",
    "print(product_code_second[10:12])"
   ]
  },
  {
   "cell_type": "code",
   "execution_count": 46,
   "metadata": {},
   "outputs": [
    {
     "data": {
      "text/plain": [
       "12"
      ]
     },
     "execution_count": 46,
     "metadata": {},
     "output_type": "execute_result"
    }
   ],
   "source": [
    "product_code_orig.find(\"ON\")"
   ]
  },
  {
   "cell_type": "code",
   "execution_count": 45,
   "metadata": {},
   "outputs": [
    {
     "name": "stdout",
     "output_type": "stream",
     "text": [
      "ON\n",
      "BC\n"
     ]
    }
   ],
   "source": [
    "# instead, I can embed the find() function in the slicing operation\n",
    "# we need to make BOTH sides of slice dynamic\n",
    "print(product_code_orig[product_code_orig.find(\"ON\"):product_code_orig.find(\"ON\")+2])\n",
    "print(product_code_second[product_code_second.find(\"BC\"):product_code_second.find(\"BC\")+2])"
   ]
  },
  {
   "cell_type": "code",
   "execution_count": 49,
   "metadata": {},
   "outputs": [
    {
     "data": {
      "text/plain": [
       "True"
      ]
     },
     "execution_count": 49,
     "metadata": {},
     "output_type": "execute_result"
    }
   ],
   "source": [
    "# check the string type\n",
    "text = \"12546\"\n",
    "text.isdigit()"
   ]
  },
  {
   "cell_type": "code",
   "execution_count": 50,
   "metadata": {},
   "outputs": [
    {
     "data": {
      "text/plain": [
       "True"
      ]
     },
     "execution_count": 50,
     "metadata": {},
     "output_type": "execute_result"
    }
   ],
   "source": [
    "text2 = \"edr234\"\n",
    "text2.isalnum()"
   ]
  },
  {
   "cell_type": "code",
   "execution_count": 51,
   "metadata": {},
   "outputs": [
    {
     "data": {
      "text/plain": [
       "'HELLO HOW ARE YOU'"
      ]
     },
     "execution_count": 51,
     "metadata": {},
     "output_type": "execute_result"
    }
   ],
   "source": [
    "# Python is case sensitive, convert to lower or upper case using the lower() and upper() functions\n",
    "text = \"hello how are you\"\n",
    "text.upper()"
   ]
  },
  {
   "cell_type": "code",
   "execution_count": 52,
   "metadata": {},
   "outputs": [
    {
     "data": {
      "text/plain": [
       "'hello how are you'"
      ]
     },
     "execution_count": 52,
     "metadata": {},
     "output_type": "execute_result"
    }
   ],
   "source": [
    "text.lower()"
   ]
  },
  {
   "cell_type": "code",
   "execution_count": 53,
   "metadata": {},
   "outputs": [
    {
     "data": {
      "text/plain": [
       "'Hello How Are You'"
      ]
     },
     "execution_count": 53,
     "metadata": {},
     "output_type": "execute_result"
    }
   ],
   "source": [
    "# title() will capitalize the first letter of each word\n",
    "text.title()"
   ]
  },
  {
   "cell_type": "code",
   "execution_count": 56,
   "metadata": {},
   "outputs": [],
   "source": [
    "# since python is case sensitive, having the same word in different cases can cause challenges in cleaning\n",
    "# best practice is to make everything lower, upper, or title case so all programs will work\n",
    "string1 = \"ontario\"\n",
    "string2 = \"Ontario\""
   ]
  },
  {
   "cell_type": "code",
   "execution_count": 57,
   "metadata": {},
   "outputs": [
    {
     "data": {
      "text/plain": [
       "False"
      ]
     },
     "execution_count": 57,
     "metadata": {},
     "output_type": "execute_result"
    }
   ],
   "source": [
    "# since the case is different in each one, these two words are not considered the same\n",
    "string1 == string2"
   ]
  },
  {
   "cell_type": "code",
   "execution_count": 59,
   "metadata": {},
   "outputs": [
    {
     "data": {
      "text/plain": [
       "True"
      ]
     },
     "execution_count": 59,
     "metadata": {},
     "output_type": "execute_result"
    }
   ],
   "source": [
    "# if we make them both lowercase, they will be the same\n",
    "string1.lower() == string2.lower()"
   ]
  },
  {
   "cell_type": "markdown",
   "metadata": {},
   "source": [
    "## Lists and list operations"
   ]
  },
  {
   "cell_type": "code",
   "execution_count": 62,
   "metadata": {},
   "outputs": [],
   "source": [
    "# create a list - lists use square brackets to be defined []\n",
    "# create a list of customer account balances\n",
    "account_balances = [250, 150, 25, 380, 456, 987, 254, 64] # a list of integers\n",
    "customer_names = [\"Joe\", \"Marie\", \"Bob\", \"Sam\", \"Sarah\", \"Finn\", \"Mike\", \"Ryan\"] # a list of strings\n"
   ]
  },
  {
   "cell_type": "code",
   "execution_count": 63,
   "metadata": {},
   "outputs": [
    {
     "data": {
      "text/plain": [
       "list"
      ]
     },
     "execution_count": 63,
     "metadata": {},
     "output_type": "execute_result"
    }
   ],
   "source": [
    "# another way to confirm the type of object you are working with is to use the type() function\n",
    "type(account_balances)"
   ]
  },
  {
   "cell_type": "code",
   "execution_count": 64,
   "metadata": {},
   "outputs": [
    {
     "ename": "AttributeError",
     "evalue": "'list' object has no attribute 'lower'",
     "output_type": "error",
     "traceback": [
      "\u001b[0;31m---------------------------------------------------------------------------\u001b[0m",
      "\u001b[0;31mAttributeError\u001b[0m                            Traceback (most recent call last)",
      "Cell \u001b[0;32mIn[64], line 1\u001b[0m\n\u001b[0;32m----> 1\u001b[0m \u001b[43mcustomer_names\u001b[49m\u001b[38;5;241;43m.\u001b[39;49m\u001b[43mlower\u001b[49m()\n",
      "\u001b[0;31mAttributeError\u001b[0m: 'list' object has no attribute 'lower'"
     ]
    }
   ],
   "source": [
    "# each object type will give us access to different functions (also called \"methods\")\n",
    "# as you can see, we cannot use a string method on a list object \n",
    "customer_names.lower()"
   ]
  },
  {
   "cell_type": "code",
   "execution_count": 68,
   "metadata": {},
   "outputs": [
    {
     "data": {
      "text/plain": [
       "'Joe'"
      ]
     },
     "execution_count": 68,
     "metadata": {},
     "output_type": "execute_result"
    }
   ],
   "source": [
    "# some operations are object agnostic, and apply to a category of object types\n",
    "# for example, slicing can be applied to all sequential objects\n",
    "# for example, we can slice a list in the exact same way as a string\n",
    "customer_names[0]"
   ]
  },
  {
   "cell_type": "code",
   "execution_count": 66,
   "metadata": {},
   "outputs": [
    {
     "data": {
      "text/plain": [
       "'joe'"
      ]
     },
     "execution_count": 66,
     "metadata": {},
     "output_type": "execute_result"
    }
   ],
   "source": [
    "# when isolating a single item from a list, the output will be that item type. in the example below, this is a string\n",
    "# this means, we can now use string methods on this item\n",
    "\n",
    "customer_names[0].lower() # here i'm applying the string method to a single string"
   ]
  },
  {
   "cell_type": "code",
   "execution_count": 69,
   "metadata": {},
   "outputs": [
    {
     "data": {
      "text/plain": [
       "['Joe', 'Marie', 'Bob', 'Sam']"
      ]
     },
     "execution_count": 69,
     "metadata": {},
     "output_type": "execute_result"
    }
   ],
   "source": [
    "# if i slice more than one object, then the output will be a smaller list\n",
    "customer_names[0:4]"
   ]
  },
  {
   "cell_type": "code",
   "execution_count": 70,
   "metadata": {},
   "outputs": [],
   "source": [
    "# let's start with the append function\n",
    "# unlike string operations, all of the list operations are INPLACE > meaning, they make a permanent change to your list\n",
    "# the append() function adds INDIVIDUAL items to the end of your list\n",
    "customer_names.append(\"Patrick\")"
   ]
  },
  {
   "cell_type": "code",
   "execution_count": 71,
   "metadata": {},
   "outputs": [
    {
     "data": {
      "text/plain": [
       "['Joe', 'Marie', 'Bob', 'Sam', 'Sarah', 'Finn', 'Mike', 'Ryan', 'Patrick']"
      ]
     },
     "execution_count": 71,
     "metadata": {},
     "output_type": "execute_result"
    }
   ],
   "source": [
    "customer_names"
   ]
  },
  {
   "cell_type": "code",
   "execution_count": 72,
   "metadata": {},
   "outputs": [],
   "source": [
    "# the extend() function allows you to add MULTIPLE items to your list\n",
    "customer_names.extend(['Ann', 'Sharon', \"David\"]) # when adding multiple items, we need to put the items themselves in a LIST"
   ]
  },
  {
   "cell_type": "code",
   "execution_count": 73,
   "metadata": {},
   "outputs": [
    {
     "data": {
      "text/plain": [
       "['Joe',\n",
       " 'Marie',\n",
       " 'Bob',\n",
       " 'Sam',\n",
       " 'Sarah',\n",
       " 'Finn',\n",
       " 'Mike',\n",
       " 'Ryan',\n",
       " 'Patrick',\n",
       " 'Ann',\n",
       " 'Sharon',\n",
       " 'David']"
      ]
     },
     "execution_count": 73,
     "metadata": {},
     "output_type": "execute_result"
    }
   ],
   "source": [
    "customer_names"
   ]
  },
  {
   "cell_type": "code",
   "execution_count": 74,
   "metadata": {},
   "outputs": [],
   "source": [
    "# insert() allows us to add a value in a SPECIFIC POSITION\n",
    "# let's insert a value in position 2 which is the 3rd position\n",
    "customer_names.insert(2, \"inserted\")"
   ]
  },
  {
   "cell_type": "code",
   "execution_count": 76,
   "metadata": {},
   "outputs": [
    {
     "data": {
      "text/plain": [
       "['Joe',\n",
       " 'Marie',\n",
       " 'inserted',\n",
       " 'Bob',\n",
       " 'Sam',\n",
       " 'Sarah',\n",
       " 'Finn',\n",
       " 'Mike',\n",
       " 'Ryan',\n",
       " 'Patrick',\n",
       " 'Ann',\n",
       " 'Sharon',\n",
       " 'David']"
      ]
     },
     "execution_count": 76,
     "metadata": {},
     "output_type": "execute_result"
    }
   ],
   "source": [
    "customer_names"
   ]
  },
  {
   "cell_type": "code",
   "execution_count": 77,
   "metadata": {},
   "outputs": [
    {
     "data": {
      "text/plain": [
       "'David'"
      ]
     },
     "execution_count": 77,
     "metadata": {},
     "output_type": "execute_result"
    }
   ],
   "source": [
    "# remove based on position first\n",
    "customer_names.pop(-1)"
   ]
  },
  {
   "cell_type": "code",
   "execution_count": 78,
   "metadata": {},
   "outputs": [
    {
     "data": {
      "text/plain": [
       "['Joe',\n",
       " 'Marie',\n",
       " 'inserted',\n",
       " 'Bob',\n",
       " 'Sam',\n",
       " 'Sarah',\n",
       " 'Finn',\n",
       " 'Mike',\n",
       " 'Ryan',\n",
       " 'Patrick',\n",
       " 'Ann',\n",
       " 'Sharon']"
      ]
     },
     "execution_count": 78,
     "metadata": {},
     "output_type": "execute_result"
    }
   ],
   "source": [
    "customer_names"
   ]
  },
  {
   "cell_type": "code",
   "execution_count": 79,
   "metadata": {},
   "outputs": [],
   "source": [
    "# remove based on value\n",
    "customer_names.remove('inserted')"
   ]
  },
  {
   "cell_type": "code",
   "execution_count": 80,
   "metadata": {},
   "outputs": [
    {
     "data": {
      "text/plain": [
       "['Joe',\n",
       " 'Marie',\n",
       " 'Bob',\n",
       " 'Sam',\n",
       " 'Sarah',\n",
       " 'Finn',\n",
       " 'Mike',\n",
       " 'Ryan',\n",
       " 'Patrick',\n",
       " 'Ann',\n",
       " 'Sharon']"
      ]
     },
     "execution_count": 80,
     "metadata": {},
     "output_type": "execute_result"
    }
   ],
   "source": [
    "customer_names"
   ]
  },
  {
   "cell_type": "code",
   "execution_count": 82,
   "metadata": {},
   "outputs": [],
   "source": [
    "account_balances.remove(250)"
   ]
  },
  {
   "cell_type": "code",
   "execution_count": 83,
   "metadata": {},
   "outputs": [
    {
     "data": {
      "text/plain": [
       "[150, 25, 380, 456, 987, 254, 64]"
      ]
     },
     "execution_count": 83,
     "metadata": {},
     "output_type": "execute_result"
    }
   ],
   "source": [
    "account_balances"
   ]
  },
  {
   "cell_type": "code",
   "execution_count": 84,
   "metadata": {},
   "outputs": [],
   "source": [
    "customer_names.insert(-1,'g')"
   ]
  },
  {
   "cell_type": "code",
   "execution_count": 85,
   "metadata": {},
   "outputs": [
    {
     "data": {
      "text/plain": [
       "['Joe',\n",
       " 'Marie',\n",
       " 'Bob',\n",
       " 'Sam',\n",
       " 'Sarah',\n",
       " 'Finn',\n",
       " 'Mike',\n",
       " 'Ryan',\n",
       " 'Patrick',\n",
       " 'Ann',\n",
       " 'g',\n",
       " 'Sharon']"
      ]
     },
     "execution_count": 85,
     "metadata": {},
     "output_type": "execute_result"
    }
   ],
   "source": [
    "customer_names"
   ]
  },
  {
   "cell_type": "code",
   "execution_count": 87,
   "metadata": {},
   "outputs": [
    {
     "data": {
      "text/plain": [
       "10"
      ]
     },
     "execution_count": 87,
     "metadata": {},
     "output_type": "execute_result"
    }
   ],
   "source": [
    "# finding the POSITION of a particular value\n",
    "customer_names.index('g')"
   ]
  },
  {
   "cell_type": "code",
   "execution_count": 90,
   "metadata": {},
   "outputs": [
    {
     "data": {
      "text/plain": [
       "3"
      ]
     },
     "execution_count": 90,
     "metadata": {},
     "output_type": "execute_result"
    }
   ],
   "source": [
    "customer_names.index('Bob')"
   ]
  },
  {
   "cell_type": "code",
   "execution_count": 88,
   "metadata": {},
   "outputs": [],
   "source": [
    "# for example, let's say we want to insert a new value in the position where Bob currently is, but we don't know that position\n",
    "# we can use the index() function\n",
    "customer_names.insert(customer_names.index('Bob'),\"new_name\")"
   ]
  },
  {
   "cell_type": "code",
   "execution_count": 89,
   "metadata": {},
   "outputs": [
    {
     "data": {
      "text/plain": [
       "['Joe',\n",
       " 'Marie',\n",
       " 'new_name',\n",
       " 'Bob',\n",
       " 'Sam',\n",
       " 'Sarah',\n",
       " 'Finn',\n",
       " 'Mike',\n",
       " 'Ryan',\n",
       " 'Patrick',\n",
       " 'Ann',\n",
       " 'g',\n",
       " 'Sharon']"
      ]
     },
     "execution_count": 89,
     "metadata": {},
     "output_type": "execute_result"
    }
   ],
   "source": [
    "customer_names"
   ]
  },
  {
   "cell_type": "code",
   "execution_count": 92,
   "metadata": {},
   "outputs": [],
   "source": [
    "#let's append a new customer with the same name as a prior one\n",
    "customer_names.append('Sarah')"
   ]
  },
  {
   "cell_type": "code",
   "execution_count": 93,
   "metadata": {},
   "outputs": [
    {
     "data": {
      "text/plain": [
       "2"
      ]
     },
     "execution_count": 93,
     "metadata": {},
     "output_type": "execute_result"
    }
   ],
   "source": [
    "customer_names.count('Sarah')"
   ]
  },
  {
   "cell_type": "code",
   "execution_count": 94,
   "metadata": {},
   "outputs": [
    {
     "data": {
      "text/plain": [
       "5"
      ]
     },
     "execution_count": 94,
     "metadata": {},
     "output_type": "execute_result"
    }
   ],
   "source": [
    "# let's use the index() function to find Sarah\n",
    "customer_names.index('Sarah')"
   ]
  },
  {
   "cell_type": "code",
   "execution_count": 96,
   "metadata": {},
   "outputs": [
    {
     "data": {
      "text/plain": [
       "['Joe',\n",
       " 'Marie',\n",
       " 'new_name',\n",
       " 'Bob',\n",
       " 'Sam',\n",
       " 'Sarah',\n",
       " 'Finn',\n",
       " 'Mike',\n",
       " 'Ryan',\n",
       " 'Patrick',\n",
       " 'Ann',\n",
       " 'g',\n",
       " 'Sharon',\n",
       " 'Sarah']"
      ]
     },
     "execution_count": 96,
     "metadata": {},
     "output_type": "execute_result"
    }
   ],
   "source": [
    "customer_names"
   ]
  },
  {
   "cell_type": "code",
   "execution_count": 97,
   "metadata": {},
   "outputs": [],
   "source": [
    "# sort() will return the list in alphabetical order\n",
    "customer_names.sort()"
   ]
  },
  {
   "cell_type": "code",
   "execution_count": 98,
   "metadata": {},
   "outputs": [
    {
     "data": {
      "text/plain": [
       "['Ann',\n",
       " 'Bob',\n",
       " 'Finn',\n",
       " 'Joe',\n",
       " 'Marie',\n",
       " 'Mike',\n",
       " 'Patrick',\n",
       " 'Ryan',\n",
       " 'Sam',\n",
       " 'Sarah',\n",
       " 'Sarah',\n",
       " 'Sharon',\n",
       " 'g',\n",
       " 'new_name']"
      ]
     },
     "execution_count": 98,
     "metadata": {},
     "output_type": "execute_result"
    }
   ],
   "source": [
    "customer_names"
   ]
  },
  {
   "cell_type": "code",
   "execution_count": 99,
   "metadata": {},
   "outputs": [],
   "source": [
    "# reverse() will reverse the list\n",
    "# the reverse() simply returns the REVERSE of the list, regardless of order\n",
    "customer_names.reverse()"
   ]
  },
  {
   "cell_type": "code",
   "execution_count": 100,
   "metadata": {},
   "outputs": [
    {
     "data": {
      "text/plain": [
       "['new_name',\n",
       " 'g',\n",
       " 'Sharon',\n",
       " 'Sarah',\n",
       " 'Sarah',\n",
       " 'Sam',\n",
       " 'Ryan',\n",
       " 'Patrick',\n",
       " 'Mike',\n",
       " 'Marie',\n",
       " 'Joe',\n",
       " 'Finn',\n",
       " 'Bob',\n",
       " 'Ann']"
      ]
     },
     "execution_count": 100,
     "metadata": {},
     "output_type": "execute_result"
    }
   ],
   "source": [
    "customer_names"
   ]
  },
  {
   "cell_type": "code",
   "execution_count": 101,
   "metadata": {},
   "outputs": [
    {
     "data": {
      "text/plain": [
       "[987, 456, 380, 254, 150, 64, 25]"
      ]
     },
     "execution_count": 101,
     "metadata": {},
     "output_type": "execute_result"
    }
   ],
   "source": [
    "# if you want to organize the list from largest to smallest (or reverse alphabetical), use reverse=True as a param in the sort() function\n",
    "account_balances.sort(reverse=True)\n",
    "account_balances"
   ]
  },
  {
   "cell_type": "code",
   "execution_count": 102,
   "metadata": {},
   "outputs": [],
   "source": [
    "# let's say we want to make a copy of the list to edit a new version\n",
    "# if we simply set a new variable equal to an existing variable, essentially we are creating a new reference to the SAME object\n",
    "# any edits applied to the new reference, will ALSO be applied to the original, as demonstrated below\n",
    "account_balances2 = account_balances"
   ]
  },
  {
   "cell_type": "code",
   "execution_count": 103,
   "metadata": {},
   "outputs": [
    {
     "data": {
      "text/plain": [
       "[987, 456, 380, 254, 150, 64, 25]"
      ]
     },
     "execution_count": 103,
     "metadata": {},
     "output_type": "execute_result"
    }
   ],
   "source": [
    "account_balances"
   ]
  },
  {
   "cell_type": "code",
   "execution_count": 104,
   "metadata": {},
   "outputs": [],
   "source": [
    "account_balances2.append(17)"
   ]
  },
  {
   "cell_type": "code",
   "execution_count": 105,
   "metadata": {},
   "outputs": [
    {
     "name": "stdout",
     "output_type": "stream",
     "text": [
      "[987, 456, 380, 254, 150, 64, 25, 17]\n",
      "[987, 456, 380, 254, 150, 64, 25, 17]\n"
     ]
    }
   ],
   "source": [
    "print(account_balances)\n",
    "print(account_balances2)"
   ]
  },
  {
   "cell_type": "code",
   "execution_count": 106,
   "metadata": {},
   "outputs": [],
   "source": [
    "# to combat this, we use the copy() function to create a shallow copy of the list so we can make edits\n",
    "account_balances2 = account_balances.copy()"
   ]
  },
  {
   "cell_type": "code",
   "execution_count": 107,
   "metadata": {},
   "outputs": [],
   "source": [
    "account_balances2.append(10)"
   ]
  },
  {
   "cell_type": "code",
   "execution_count": 108,
   "metadata": {},
   "outputs": [
    {
     "name": "stdout",
     "output_type": "stream",
     "text": [
      "[987, 456, 380, 254, 150, 64, 25, 17]\n",
      "[987, 456, 380, 254, 150, 64, 25, 17, 10]\n"
     ]
    }
   ],
   "source": [
    "print(account_balances)\n",
    "print(account_balances2)\n"
   ]
  },
  {
   "cell_type": "code",
   "execution_count": 109,
   "metadata": {},
   "outputs": [],
   "source": [
    "# the copy() function is only a SHALLOW copy, because it creates a copy of the MAIN list that we're copying\n",
    "# in the case where we have sub-lists (or nested lists), these will continue to point to the original versions\n",
    "original_list = [[1,2,3],[4,5,6]]"
   ]
  },
  {
   "cell_type": "code",
   "execution_count": 110,
   "metadata": {},
   "outputs": [],
   "source": [
    "copy = original_list.copy()"
   ]
  },
  {
   "cell_type": "code",
   "execution_count": 112,
   "metadata": {},
   "outputs": [],
   "source": [
    "# therefore, when we edit a nested list, the change is reflected in both the original and shallow copy\n",
    "original_list[0][0] = 'new_value'"
   ]
  },
  {
   "cell_type": "code",
   "execution_count": 113,
   "metadata": {},
   "outputs": [
    {
     "data": {
      "text/plain": [
       "[['new_value', 2, 3], [4, 5, 6]]"
      ]
     },
     "execution_count": 113,
     "metadata": {},
     "output_type": "execute_result"
    }
   ],
   "source": [
    "original_list"
   ]
  },
  {
   "cell_type": "code",
   "execution_count": 114,
   "metadata": {},
   "outputs": [
    {
     "data": {
      "text/plain": [
       "[['new_value', 2, 3], [4, 5, 6]]"
      ]
     },
     "execution_count": 114,
     "metadata": {},
     "output_type": "execute_result"
    }
   ],
   "source": [
    "copy"
   ]
  },
  {
   "cell_type": "code",
   "execution_count": 116,
   "metadata": {},
   "outputs": [],
   "source": [
    "# since lists don't offer a replace() function, like strings, we can simply use item assignment to replace a value\n",
    "# isolate the value you want to relplace, and set equal to a new value\n",
    "customer_names[3] = 'Mariah'"
   ]
  },
  {
   "cell_type": "code",
   "execution_count": 117,
   "metadata": {},
   "outputs": [
    {
     "data": {
      "text/plain": [
       "['new_name',\n",
       " 'g',\n",
       " 'Sharon',\n",
       " 'Mariah',\n",
       " 'Sarah',\n",
       " 'Sam',\n",
       " 'Ryan',\n",
       " 'Patrick',\n",
       " 'Mike',\n",
       " 'Marie',\n",
       " 'Joe',\n",
       " 'Finn',\n",
       " 'Bob',\n",
       " 'Ann']"
      ]
     },
     "execution_count": 117,
     "metadata": {},
     "output_type": "execute_result"
    }
   ],
   "source": [
    "customer_names"
   ]
  },
  {
   "cell_type": "code",
   "execution_count": 118,
   "metadata": {},
   "outputs": [],
   "source": [
    "# now let's look at tuples. Python defines a tuple with ROUND brackets ()\n",
    "tuple1 = (15, 25, 85, 68)\n",
    "tuple2 = ('name', 'address', 'age')"
   ]
  },
  {
   "cell_type": "code",
   "execution_count": 119,
   "metadata": {},
   "outputs": [
    {
     "data": {
      "text/plain": [
       "tuple"
      ]
     },
     "execution_count": 119,
     "metadata": {},
     "output_type": "execute_result"
    }
   ],
   "source": [
    "type(tuple1)"
   ]
  },
  {
   "cell_type": "code",
   "execution_count": 120,
   "metadata": {},
   "outputs": [
    {
     "data": {
      "text/plain": [
       "list"
      ]
     },
     "execution_count": 120,
     "metadata": {},
     "output_type": "execute_result"
    }
   ],
   "source": [
    "type(customer_names)"
   ]
  },
  {
   "cell_type": "code",
   "execution_count": 121,
   "metadata": {},
   "outputs": [
    {
     "data": {
      "text/plain": [
       "15"
      ]
     },
     "execution_count": 121,
     "metadata": {},
     "output_type": "execute_result"
    }
   ],
   "source": [
    "# we can still slice a tuple, the same way as a list and a string\n",
    "tuple1[0]"
   ]
  },
  {
   "cell_type": "code",
   "execution_count": 122,
   "metadata": {},
   "outputs": [
    {
     "data": {
      "text/plain": [
       "0"
      ]
     },
     "execution_count": 122,
     "metadata": {},
     "output_type": "execute_result"
    }
   ],
   "source": [
    "# we can access the index() function to show us the position of a value\n",
    "tuple1.index(15)"
   ]
  },
  {
   "cell_type": "code",
   "execution_count": 123,
   "metadata": {},
   "outputs": [
    {
     "data": {
      "text/plain": [
       "1"
      ]
     },
     "execution_count": 123,
     "metadata": {},
     "output_type": "execute_result"
    }
   ],
   "source": [
    "# we can also access the count() function in tuples\n",
    "tuple1.count(15)"
   ]
  },
  {
   "cell_type": "code",
   "execution_count": 124,
   "metadata": {},
   "outputs": [
    {
     "ename": "TypeError",
     "evalue": "'tuple' object does not support item assignment",
     "output_type": "error",
     "traceback": [
      "\u001b[0;31m---------------------------------------------------------------------------\u001b[0m",
      "\u001b[0;31mTypeError\u001b[0m                                 Traceback (most recent call last)",
      "Cell \u001b[0;32mIn[124], line 3\u001b[0m\n\u001b[1;32m      1\u001b[0m \u001b[38;5;66;03m# outside of count() and index(), tuples don't give us any more functions\u001b[39;00m\n\u001b[1;32m      2\u001b[0m \u001b[38;5;66;03m# we also CANNOT replace values in tuples. They do not support item assignment\u001b[39;00m\n\u001b[0;32m----> 3\u001b[0m \u001b[43mtuple1\u001b[49m\u001b[43m[\u001b[49m\u001b[38;5;241;43m0\u001b[39;49m\u001b[43m]\u001b[49m \u001b[38;5;241m=\u001b[39m \u001b[38;5;241m25\u001b[39m\n",
      "\u001b[0;31mTypeError\u001b[0m: 'tuple' object does not support item assignment"
     ]
    }
   ],
   "source": [
    "# outside of count() and index(), tuples don't give us any more functions\n",
    "# we also CANNOT replace values in tuples. They do not support item assignment\n",
    "tuple1[0] = 25"
   ]
  },
  {
   "cell_type": "code",
   "execution_count": 125,
   "metadata": {},
   "outputs": [
    {
     "ename": "AttributeError",
     "evalue": "'tuple' object has no attribute 'copy'",
     "output_type": "error",
     "traceback": [
      "\u001b[0;31m---------------------------------------------------------------------------\u001b[0m",
      "\u001b[0;31mAttributeError\u001b[0m                            Traceback (most recent call last)",
      "Cell \u001b[0;32mIn[125], line 1\u001b[0m\n\u001b[0;32m----> 1\u001b[0m \u001b[43mtuple1\u001b[49m\u001b[38;5;241;43m.\u001b[39;49m\u001b[43mcopy\u001b[49m()\n",
      "\u001b[0;31mAttributeError\u001b[0m: 'tuple' object has no attribute 'copy'"
     ]
    }
   ],
   "source": [
    "# we also cannot COPY tuples\n",
    "tuple1.copy()"
   ]
  },
  {
   "cell_type": "code",
   "execution_count": 126,
   "metadata": {},
   "outputs": [],
   "source": [
    "# tuples are IMMUTABLE objects, while lists and strings are MUTABLE objects\n",
    "# tuples, because they are immutable, are more efficient objects. Meaning, they take less memory to process and store\n",
    "\n",
    "tuple1 = (45,85,98,75,89,57,24,65)"
   ]
  },
  {
   "cell_type": "code",
   "execution_count": 128,
   "metadata": {},
   "outputs": [],
   "source": [
    "# tuples are IMMUTABLE objects, while lists and strings are MUTABLE objects\n",
    "# tuples, because they are immutable, are more efficient objects. Meaning, they take less memory to process and store\n",
    "\n",
    "list1 = [45,85,98,75,89,57,24,65]"
   ]
  },
  {
   "cell_type": "code",
   "execution_count": 134,
   "metadata": {},
   "outputs": [],
   "source": [
    "# the last sequential object we will cover today is called a SET. A set uses curly brackets {}\n",
    "all_customers = {\"Sarah\",\"Marie\",\"Angela\",'John',\"Bob\",'Sam'}\n",
    "active_customers = {\"Sarah\",'Marie','John'}\n",
    "churned_customers = {\"Frank\", \"James\", \"Bob\", \"Sam\"}"
   ]
  },
  {
   "cell_type": "code",
   "execution_count": 130,
   "metadata": {},
   "outputs": [],
   "source": [
    "#sets can ONLY hold unique values. Let's say you have a list of duplicates\n",
    "list1 = [15, 15, 25, 25, 78, 89]"
   ]
  },
  {
   "cell_type": "code",
   "execution_count": 131,
   "metadata": {},
   "outputs": [
    {
     "data": {
      "text/plain": [
       "{15, 25, 78, 89}"
      ]
     },
     "execution_count": 131,
     "metadata": {},
     "output_type": "execute_result"
    }
   ],
   "source": [
    "# if you convert the list to a SET, only the unique values will remain\n",
    "set(list1)"
   ]
  },
  {
   "cell_type": "code",
   "execution_count": 132,
   "metadata": {},
   "outputs": [
    {
     "data": {
      "text/plain": [
       "{'Angela', 'Bob', 'Sam'}"
      ]
     },
     "execution_count": 132,
     "metadata": {},
     "output_type": "execute_result"
    }
   ],
   "source": [
    "# with sets we can identify similarities and differences between collections\n",
    "# let's find INACTIVE customers in our customer base\n",
    "# the difference() function, when applied to the all_customers set, will return ALL customers who exist in all_customers but NOT in active_customers\n",
    "all_customers.difference(active_customers)"
   ]
  },
  {
   "cell_type": "code",
   "execution_count": 133,
   "metadata": {},
   "outputs": [
    {
     "data": {
      "text/plain": [
       "{'John', 'Marie', 'Sarah'}"
      ]
     },
     "execution_count": 133,
     "metadata": {},
     "output_type": "execute_result"
    }
   ],
   "source": [
    "# let's find customers in the all_customers SET who ALSO appear in the active_customers\n",
    "all_customers.intersection(active_customers)"
   ]
  },
  {
   "cell_type": "code",
   "execution_count": 135,
   "metadata": {},
   "outputs": [
    {
     "data": {
      "text/plain": [
       "{'Bob', 'Sam'}"
      ]
     },
     "execution_count": 135,
     "metadata": {},
     "output_type": "execute_result"
    }
   ],
   "source": [
    "all_customers.intersection(churned_customers)"
   ]
  },
  {
   "cell_type": "code",
   "execution_count": 136,
   "metadata": {},
   "outputs": [],
   "source": [
    "# sets are MUTABLE objects, so you can make similar changes as you can with lists; however remember that sets don't support duplicate values\n",
    "# to add a new value to a SET, we use add() -- the equivalent for a list object is append()\n",
    "all_customers.add(\"Jack\")"
   ]
  },
  {
   "cell_type": "code",
   "execution_count": 137,
   "metadata": {},
   "outputs": [
    {
     "data": {
      "text/plain": [
       "{'Angela', 'Bob', 'Jack', 'John', 'Marie', 'Sam', 'Sarah'}"
      ]
     },
     "execution_count": 137,
     "metadata": {},
     "output_type": "execute_result"
    }
   ],
   "source": [
    "# the SET is also automatically sorted smallest>largest or alphabetical, so newly added items are positioned accordingly\n",
    "all_customers"
   ]
  },
  {
   "cell_type": "code",
   "execution_count": 138,
   "metadata": {},
   "outputs": [
    {
     "data": {
      "text/plain": [
       "{'Angela', 'Bob', 'Jack', 'John', 'Marie', 'Sam', 'Sarah'}"
      ]
     },
     "execution_count": 138,
     "metadata": {},
     "output_type": "execute_result"
    }
   ],
   "source": [
    "# union() will combine two sets while removing duplicates\n",
    "all_customers.union(active_customers)"
   ]
  },
  {
   "cell_type": "code",
   "execution_count": 139,
   "metadata": {},
   "outputs": [
    {
     "data": {
      "text/plain": [
       "{'Angela', 'Bob', 'Frank', 'Jack', 'James', 'John', 'Marie', 'Sam', 'Sarah'}"
      ]
     },
     "execution_count": 139,
     "metadata": {},
     "output_type": "execute_result"
    }
   ],
   "source": [
    "churned_customers.union(all_customers)"
   ]
  },
  {
   "cell_type": "code",
   "execution_count": 140,
   "metadata": {},
   "outputs": [
    {
     "data": {
      "text/plain": [
       "True"
      ]
     },
     "execution_count": 140,
     "metadata": {},
     "output_type": "execute_result"
    }
   ],
   "source": [
    "# check if a set is part of a bigger set (or included in a bigger set)\n",
    "active_customers.issubset(all_customers)"
   ]
  },
  {
   "cell_type": "code",
   "execution_count": 141,
   "metadata": {},
   "outputs": [
    {
     "data": {
      "text/plain": [
       "True"
      ]
     },
     "execution_count": 141,
     "metadata": {},
     "output_type": "execute_result"
    }
   ],
   "source": [
    "# use issuperset() to check if a set containts a smaller set\n",
    "all_customers.issuperset(active_customers)"
   ]
  },
  {
   "cell_type": "code",
   "execution_count": 142,
   "metadata": {},
   "outputs": [
    {
     "data": {
      "text/plain": [
       "False"
      ]
     },
     "execution_count": 142,
     "metadata": {},
     "output_type": "execute_result"
    }
   ],
   "source": [
    "all_customers.issuperset(churned_customers)"
   ]
  },
  {
   "cell_type": "code",
   "execution_count": null,
   "metadata": {},
   "outputs": [],
   "source": []
  }
 ],
 "metadata": {
  "kernelspec": {
   "display_name": "Python 3",
   "language": "python",
   "name": "python3"
  },
  "language_info": {
   "codemirror_mode": {
    "name": "ipython",
    "version": 3
   },
   "file_extension": ".py",
   "mimetype": "text/x-python",
   "name": "python",
   "nbconvert_exporter": "python",
   "pygments_lexer": "ipython3",
   "version": "3.11.4"
  }
 },
 "nbformat": 4,
 "nbformat_minor": 2
}
