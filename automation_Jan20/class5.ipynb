{
 "cells": [
  {
   "cell_type": "markdown",
   "metadata": {},
   "source": [
    "### Case Study - program logic\n",
    "\n",
    "- Read the file using the csv reader, create the shipments object and add all the rows in the shipments object\n",
    "- Convert datetime into a datetime data type so it's not a string\n",
    "- Then you need to calculate the number of missing product as a %, then the number of bad product also as a %... to each list, we will add two columns"
   ]
  },
  {
   "cell_type": "code",
   "execution_count": 1,
   "metadata": {},
   "outputs": [],
   "source": [
    "import csv"
   ]
  },
  {
   "cell_type": "code",
   "execution_count": 34,
   "metadata": {},
   "outputs": [],
   "source": [
    "# Create class\n",
    "class Shipments:\n",
    "    def __init__(self, date_received, ingredient, supplier, num_boxes, units_per_box, sample_count1\\\n",
    "            , sample_count2, sample_count3, rej_1, rej_2, rej_3):\n",
    "        self.date_received = date_received\n",
    "        self.ingredient = ingredient\n",
    "        self.supplier = supplier\n",
    "        self.num_boxes = int(num_boxes)\n",
    "        self.units_per_box = int(units_per_box)\n",
    "        self.sample_count1 = int(sample_count1)\n",
    "        self.sample_count2 = int(sample_count2)\n",
    "        self.sample_count3 = int(sample_count3)\n",
    "        self.rej_1 = int(rej_1)\n",
    "        self.rej_2 = int(rej_2)\n",
    "        self.rej_3 = int(rej_3)\n",
    "        self.total_rejections = (self.rej_1 + self.rej_2 + self.rej_3)/(self.units_per_box*self.num_boxes)*100\n",
    "        self.all_data = (self.date_received, self.ingredient, self.supplier, self.num_boxes)\n",
    "   \n"
   ]
  },
  {
   "cell_type": "code",
   "execution_count": 35,
   "metadata": {},
   "outputs": [],
   "source": [
    "def read_shipments(file_name):\n",
    "    global shipments # Make shipments global variable so we can access it\n",
    "    shipments = []\n",
    "    with open(file_name,'r') as f:\n",
    "        reader = csv.reader(f)\n",
    "        next(reader) # Skip the first row, which is our header\n",
    "        for row in reader:\n",
    "            date_received, ingredient, supplier, num_boxes, units_per_box, sample_count1\\\n",
    "            , sample_count2, sample_count3, rej_1, rej_2, rej_3 = row[0], row[1], row[2], row[3], row[4],row[5],row[6],row[7],row[8],row[9],row[10]\n",
    "            shipments.append(Shipments(date_received, ingredient, supplier, num_boxes, units_per_box, sample_count1\\\n",
    "            , sample_count2, sample_count3, rej_1, rej_2, rej_3))\n",
    "    return shipments   "
   ]
  },
  {
   "cell_type": "code",
   "execution_count": 36,
   "metadata": {},
   "outputs": [
    {
     "data": {
      "text/plain": [
       "[<__main__.Shipments at 0x111a9f810>,\n",
       " <__main__.Shipments at 0x111a9d810>,\n",
       " <__main__.Shipments at 0x111a9c390>,\n",
       " <__main__.Shipments at 0x10d3cc050>,\n",
       " <__main__.Shipments at 0x111a9eb10>,\n",
       " <__main__.Shipments at 0x111a9e950>,\n",
       " <__main__.Shipments at 0x111a5add0>,\n",
       " <__main__.Shipments at 0x111a59150>,\n",
       " <__main__.Shipments at 0x111a5a950>,\n",
       " <__main__.Shipments at 0x111a5a9d0>,\n",
       " <__main__.Shipments at 0x111a9b950>,\n",
       " <__main__.Shipments at 0x111a9b450>,\n",
       " <__main__.Shipments at 0x111a9bb90>,\n",
       " <__main__.Shipments at 0x111a98fd0>,\n",
       " <__main__.Shipments at 0x111a9be90>,\n",
       " <__main__.Shipments at 0x111a9b210>,\n",
       " <__main__.Shipments at 0x111a98090>]"
      ]
     },
     "execution_count": 36,
     "metadata": {},
     "output_type": "execute_result"
    }
   ],
   "source": [
    "read_shipments('/Users/delinaivanova/Downloads/3967_Module 5_Data File_rejections.csv')"
   ]
  },
  {
   "cell_type": "code",
   "execution_count": 38,
   "metadata": {},
   "outputs": [
    {
     "data": {
      "text/plain": [
       "('10-Jun-21', 'tomato_cherry', 'ABC Vegetables', 10)"
      ]
     },
     "execution_count": 38,
     "metadata": {},
     "output_type": "execute_result"
    }
   ],
   "source": [
    "shipments[0].all_data"
   ]
  },
  {
   "cell_type": "code",
   "execution_count": 39,
   "metadata": {},
   "outputs": [
    {
     "name": "stdout",
     "output_type": "stream",
     "text": [
      "('10-Jun-21', 'tomato_cherry', 'ABC Vegetables', 10)\n",
      "('10-Jun-21', 'tomato_cherry', 'Tomato Land', 20)\n",
      "('10-Jun-21', 'tomato_vine', 'Tomato Land', 25)\n",
      "('10-Jun-21', 'tomato_vine', 'ABC Vegetables', 10)\n",
      "('10-Jun-21', 'cucumber_english', 'ABC Vegetables', 14)\n",
      "('10-Jun-21', 'cucumber_pickle', 'Dill Farms', 15)\n",
      "('11-Jun-21', 'bananas_organic', 'Banana Farms Inc', 24)\n",
      "('11-Jun-21', 'bananas_organic', 'ABC Vegetables', 26)\n",
      "('11-Jun-21', 'bananas_organic', 'Banana Farms Inc', 20)\n",
      "('11-Jun-21', 'apples_gala', 'Orchard Inc', 20)\n",
      "('11-Jun-21', 'apples_gala', 'Orchard Inc', 5)\n",
      "('11-Jun-21', 'apples_gs', 'Orchard Inc', 1)\n",
      "('13-Jun-21', 'apples_gala', 'Apple Farm', 20)\n",
      "('13-Jun-21', 'oranges_california', 'Cali Fruits', 20)\n",
      "('13-Jun-21', 'oranges_california', 'ABC Vegetables', 40)\n"
     ]
    }
   ],
   "source": [
    "for i in range(15):\n",
    "    print(shipments[i].all_data)"
   ]
  },
  {
   "cell_type": "code",
   "execution_count": 27,
   "metadata": {},
   "outputs": [
    {
     "name": "stdout",
     "output_type": "stream",
     "text": [
      "date_received, ingredient_name, supplier, number_of_cases, units_per_case, sample_case_count1, sample_case_count2, sample_case_count3, sample_case_rejections1, sample_case_rejections2, sample_case_rejections3\n",
      "10-Jun-21, tomato_cherry, ABC Vegetables, 10, 100, 95, 100, 110, 5, 3, 5\n",
      "10-Jun-21, tomato_cherry, Tomato Land, 20, 500, 440, 480, 500, 10, 0, 25\n",
      "10-Jun-21, tomato_vine, Tomato Land, 25, 100, 100, 100, 100, 0, 0, 0\n",
      "10-Jun-21, tomato_vine, ABC Vegetables, 10, 100, 100, 98, 101, 0, 0, 0\n",
      "10-Jun-21, cucumber_english, ABC Vegetables, 14, 50, 51, 50, 51, 10, 0, 0\n",
      "10-Jun-21, cucumber_pickle, Dill Farms, 15, 50, 50, 50, 50, 0, 0, 0\n",
      "11-Jun-21, bananas_organic, Banana Farms Inc, 24, 40, 40, 40, 40, 0, 0, 0\n",
      "11-Jun-21, bananas_organic, ABC Vegetables, 26, 30, 30, 28, 29, 0, 3, 0\n",
      "11-Jun-21, bananas_organic, Banana Farms Inc, 20, 30, 30, 30, 30, 0, 0, 0\n",
      "11-Jun-21, apples_gala, Orchard Inc, 20, 90, 90, 94, 90, 1, 4, 5\n",
      "11-Jun-21, apples_gala, Orchard Inc, 5, 90, 90, 90, 90, 0, 0, 3\n",
      "11-Jun-21, apples_gs, Orchard Inc, 1, 80, 80, 82, 80, 2, 0, 5\n",
      "13-Jun-21, apples_gala, Apple Farm, 20, 90, 90, 90, 90, 0, 0, 0\n",
      "13-Jun-21, oranges_california, Cali Fruits, 20, 90, 90, 90, 90, 4, 0, 0\n",
      "13-Jun-21, oranges_california, ABC Vegetables, 40, 100, 100, 102, 101, 0, 0, 3\n",
      "13-Jun-21, grapes_red, Cali Fruits, 20, 35, 30, 35, 30, 4, 0, 0\n",
      "13-Jun-21, grapes_green, Cali Fruits, 10, 35, 35, 35, 30, 5, 5, 3\n"
     ]
    }
   ],
   "source": [
    "with open('/Users/delinaivanova/Downloads/3967_Module 5_Data File_rejections.csv','r') as f:\n",
    "    reader = csv.reader(f)\n",
    "    for row in reader:\n",
    "        print(', '.join(row))"
   ]
  },
  {
   "cell_type": "code",
   "execution_count": null,
   "metadata": {},
   "outputs": [],
   "source": []
  }
 ],
 "metadata": {
  "kernelspec": {
   "display_name": "Python 3",
   "language": "python",
   "name": "python3"
  },
  "language_info": {
   "codemirror_mode": {
    "name": "ipython",
    "version": 3
   },
   "file_extension": ".py",
   "mimetype": "text/x-python",
   "name": "python",
   "nbconvert_exporter": "python",
   "pygments_lexer": "ipython3",
   "version": "3.11.4"
  }
 },
 "nbformat": 4,
 "nbformat_minor": 2
}
