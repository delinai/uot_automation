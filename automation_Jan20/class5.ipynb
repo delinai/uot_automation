{
 "cells": [
  {
   "cell_type": "markdown",
   "metadata": {},
   "source": [
    "### Case Study - program logic\n",
    "\n",
    "- Read the file using the csv reader, create the shipments object and add all the rows in the shipments object\n",
    "- Convert datetime into a datetime data type so it's not a string\n",
    "- Then you need to calculate the number of missing product as a %, then the number of bad product also as a %... to each list, we will add two columns"
   ]
  },
  {
   "cell_type": "code",
   "execution_count": 1,
   "metadata": {},
   "outputs": [],
   "source": [
    "import csv"
   ]
  },
  {
   "cell_type": "code",
   "execution_count": 34,
   "metadata": {},
   "outputs": [],
   "source": [
    "# Create class\n",
    "class Shipments:\n",
    "    def __init__(self, date_received, ingredient, supplier, num_boxes, units_per_box, sample_count1\\\n",
    "            , sample_count2, sample_count3, rej_1, rej_2, rej_3):\n",
    "        self.date_received = date_received\n",
    "        self.ingredient = ingredient\n",
    "        self.supplier = supplier\n",
    "        self.num_boxes = int(num_boxes)\n",
    "        self.units_per_box = int(units_per_box)\n",
    "        self.sample_count1 = int(sample_count1)\n",
    "        self.sample_count2 = int(sample_count2)\n",
    "        self.sample_count3 = int(sample_count3)\n",
    "        self.rej_1 = int(rej_1)\n",
    "        self.rej_2 = int(rej_2)\n",
    "        self.rej_3 = int(rej_3)\n",
    "        self.total_rejections = (self.rej_1 + self.rej_2 + self.rej_3)/(self.units_per_box*self.num_boxes)*100\n",
    "        self.all_data = (self.date_received, self.ingredient, self.supplier, self.num_boxes)\n",
    "   \n"
   ]
  },
  {
   "cell_type": "code",
   "execution_count": 35,
   "metadata": {},
   "outputs": [],
   "source": [
    "def read_shipments(file_name):\n",
    "    global shipments # Make shipments global variable so we can access it\n",
    "    shipments = []\n",
    "    with open(file_name,'r') as f:\n",
    "        reader = csv.reader(f)\n",
    "        next(reader) # Skip the first row, which is our header\n",
    "        for row in reader:\n",
    "            date_received, ingredient, supplier, num_boxes, units_per_box, sample_count1\\\n",
    "            , sample_count2, sample_count3, rej_1, rej_2, rej_3 = row[0], row[1], row[2], row[3], row[4],row[5],row[6],row[7],row[8],row[9],row[10]\n",
    "            shipments.append(Shipments(date_received, ingredient, supplier, num_boxes, units_per_box, sample_count1\\\n",
    "            , sample_count2, sample_count3, rej_1, rej_2, rej_3))\n",
    "    return shipments   "
   ]
  },
  {
   "cell_type": "code",
   "execution_count": 36,
   "metadata": {},
   "outputs": [
    {
     "data": {
      "text/plain": [
       "[<__main__.Shipments at 0x111a9f810>,\n",
       " <__main__.Shipments at 0x111a9d810>,\n",
       " <__main__.Shipments at 0x111a9c390>,\n",
       " <__main__.Shipments at 0x10d3cc050>,\n",
       " <__main__.Shipments at 0x111a9eb10>,\n",
       " <__main__.Shipments at 0x111a9e950>,\n",
       " <__main__.Shipments at 0x111a5add0>,\n",
       " <__main__.Shipments at 0x111a59150>,\n",
       " <__main__.Shipments at 0x111a5a950>,\n",
       " <__main__.Shipments at 0x111a5a9d0>,\n",
       " <__main__.Shipments at 0x111a9b950>,\n",
       " <__main__.Shipments at 0x111a9b450>,\n",
       " <__main__.Shipments at 0x111a9bb90>,\n",
       " <__main__.Shipments at 0x111a98fd0>,\n",
       " <__main__.Shipments at 0x111a9be90>,\n",
       " <__main__.Shipments at 0x111a9b210>,\n",
       " <__main__.Shipments at 0x111a98090>]"
      ]
     },
     "execution_count": 36,
     "metadata": {},
     "output_type": "execute_result"
    }
   ],
   "source": [
    "read_shipments('/Users/delinaivanova/Downloads/3967_Module 5_Data File_rejections.csv')"
   ]
  },
  {
   "cell_type": "code",
   "execution_count": 38,
   "metadata": {},
   "outputs": [
    {
     "data": {
      "text/plain": [
       "('10-Jun-21', 'tomato_cherry', 'ABC Vegetables', 10)"
      ]
     },
     "execution_count": 38,
     "metadata": {},
     "output_type": "execute_result"
    }
   ],
   "source": [
    "shipments[0].all_data"
   ]
  },
  {
   "cell_type": "code",
   "execution_count": 48,
   "metadata": {},
   "outputs": [
    {
     "name": "stdout",
     "output_type": "stream",
     "text": [
      "10-Jun-21 tomato_cherry ABC Vegetables 1.3\n",
      "10-Jun-21 tomato_cherry Tomato Land 0.35000000000000003\n",
      "10-Jun-21 tomato_vine Tomato Land 0.0\n",
      "10-Jun-21 tomato_vine ABC Vegetables 0.0\n",
      "10-Jun-21 cucumber_english ABC Vegetables 1.4285714285714286\n",
      "10-Jun-21 cucumber_pickle Dill Farms 0.0\n",
      "11-Jun-21 bananas_organic Banana Farms Inc 0.0\n",
      "11-Jun-21 bananas_organic ABC Vegetables 0.38461538461538464\n",
      "11-Jun-21 bananas_organic Banana Farms Inc 0.0\n",
      "11-Jun-21 apples_gala Orchard Inc 0.5555555555555556\n",
      "11-Jun-21 apples_gala Orchard Inc 0.6666666666666667\n",
      "11-Jun-21 apples_gs Orchard Inc 8.75\n",
      "13-Jun-21 apples_gala Apple Farm 0.0\n",
      "13-Jun-21 oranges_california Cali Fruits 0.2222222222222222\n",
      "13-Jun-21 oranges_california ABC Vegetables 0.075\n"
     ]
    }
   ],
   "source": [
    "for i in range(15):\n",
    "    print(shipments[i].date_received, shipments[i].ingredient, shipments[i].supplier,shipments[i].total_rejections)\n"
   ]
  },
  {
   "cell_type": "code",
   "execution_count": 51,
   "metadata": {},
   "outputs": [],
   "source": [
    "consolidated_rejections = {}\n",
    "\n",
    "for i in shipments:\n",
    "    # create a unique key which captures the date + supplier\n",
    "    \n",
    "    if i.total_rejections > 0:\n",
    "        key = (i.date_received, i.supplier)\n",
    "\n",
    "        if key not in consolidated_rejections:\n",
    "            consolidated_rejections[key] = []\n",
    "    \n",
    "        consolidated_rejections[key].append((i.ingredient, i.total_rejections))\n",
    "\n",
    "\n"
   ]
  },
  {
   "cell_type": "code",
   "execution_count": 50,
   "metadata": {},
   "outputs": [
    {
     "data": {
      "text/plain": [
       "{('10-Jun-21', 'ABC Vegetables'): [('tomato_cherry', 1.3),\n",
       "  ('tomato_vine', 0.0),\n",
       "  ('cucumber_english', 1.4285714285714286)],\n",
       " ('10-Jun-21', 'Tomato Land'): [('tomato_cherry', 0.35000000000000003),\n",
       "  ('tomato_vine', 0.0)],\n",
       " ('10-Jun-21', 'Dill Farms'): [('cucumber_pickle', 0.0)],\n",
       " ('11-Jun-21', 'Banana Farms Inc'): [('bananas_organic', 0.0),\n",
       "  ('bananas_organic', 0.0)],\n",
       " ('11-Jun-21', 'ABC Vegetables'): [('bananas_organic', 0.38461538461538464)],\n",
       " ('11-Jun-21', 'Orchard Inc'): [('apples_gala', 0.5555555555555556),\n",
       "  ('apples_gala', 0.6666666666666667),\n",
       "  ('apples_gs', 8.75)],\n",
       " ('13-Jun-21', 'Apple Farm'): [('apples_gala', 0.0)],\n",
       " ('13-Jun-21', 'Cali Fruits'): [('oranges_california', 0.2222222222222222),\n",
       "  ('grapes_red', 0.5714285714285714),\n",
       "  ('grapes_green', 3.7142857142857144)],\n",
       " ('13-Jun-21', 'ABC Vegetables'): [('oranges_california', 0.075)]}"
      ]
     },
     "execution_count": 50,
     "metadata": {},
     "output_type": "execute_result"
    }
   ],
   "source": [
    "consolidated_rejections"
   ]
  },
  {
   "cell_type": "code",
   "execution_count": 56,
   "metadata": {},
   "outputs": [
    {
     "name": "stdout",
     "output_type": "stream",
     "text": [
      "10-Jun-21\n",
      "ABC Vegetables\n",
      "[('tomato_cherry', 1.3), ('cucumber_english', 1.4285714285714286)]\n",
      "10-Jun-21\n",
      "Tomato Land\n",
      "[('tomato_cherry', 0.35000000000000003)]\n",
      "11-Jun-21\n",
      "ABC Vegetables\n",
      "[('bananas_organic', 0.38461538461538464)]\n",
      "11-Jun-21\n",
      "Orchard Inc\n",
      "[('apples_gala', 0.5555555555555556), ('apples_gala', 0.6666666666666667), ('apples_gs', 8.75)]\n",
      "13-Jun-21\n",
      "Cali Fruits\n",
      "[('oranges_california', 0.2222222222222222), ('grapes_red', 0.5714285714285714), ('grapes_green', 3.7142857142857144)]\n",
      "13-Jun-21\n",
      "ABC Vegetables\n",
      "[('oranges_california', 0.075)]\n"
     ]
    }
   ],
   "source": [
    "for (a,c),b in consolidated_rejections.items():\n",
    "    print(a)\n",
    "    print(c)\n",
    "    print(b)"
   ]
  },
  {
   "cell_type": "code",
   "execution_count": 57,
   "metadata": {},
   "outputs": [],
   "source": [
    "# Write our files to send to suppliers\n",
    "\n",
    "output_folder = '/Users/delinaivanova/Library/CloudStorage/OneDrive-Personal/UoT/Micro Courses/Python Programming for Automation/Emails_to_Suppliers'"
   ]
  },
  {
   "cell_type": "code",
   "execution_count": 58,
   "metadata": {},
   "outputs": [
    {
     "name": "stdout",
     "output_type": "stream",
     "text": [
      "written_file: /Users/delinaivanova/Library/CloudStorage/OneDrive-Personal/UoT/Micro Courses/Python Programming for Automation/Emails_to_Suppliers//ABC_Vegetables_10_Jun_21.txt\n",
      "written_file: /Users/delinaivanova/Library/CloudStorage/OneDrive-Personal/UoT/Micro Courses/Python Programming for Automation/Emails_to_Suppliers//Tomato_Land_10_Jun_21.txt\n",
      "written_file: /Users/delinaivanova/Library/CloudStorage/OneDrive-Personal/UoT/Micro Courses/Python Programming for Automation/Emails_to_Suppliers//ABC_Vegetables_11_Jun_21.txt\n",
      "written_file: /Users/delinaivanova/Library/CloudStorage/OneDrive-Personal/UoT/Micro Courses/Python Programming for Automation/Emails_to_Suppliers//Orchard_Inc_11_Jun_21.txt\n",
      "written_file: /Users/delinaivanova/Library/CloudStorage/OneDrive-Personal/UoT/Micro Courses/Python Programming for Automation/Emails_to_Suppliers//Cali_Fruits_13_Jun_21.txt\n",
      "written_file: /Users/delinaivanova/Library/CloudStorage/OneDrive-Personal/UoT/Micro Courses/Python Programming for Automation/Emails_to_Suppliers//ABC_Vegetables_13_Jun_21.txt\n"
     ]
    }
   ],
   "source": [
    "for (date,supplier),rejections in consolidated_rejections.items():\n",
    "    supplier_clean = supplier.replace(' ','_').replace('/','_')\n",
    "    date_clean = date.replace('-','_')\n",
    "\n",
    "    file_name = f\"{supplier_clean}_{date_clean}.txt\"\n",
    "    file_path = f\"{output_folder}/{file_name}\"\n",
    "\n",
    "    # add content of the file\n",
    "\n",
    "    summary_lines = [\n",
    "        f\"Summary of rejected products for {supplier} on {date}\\n\",\n",
    "        f\"{'Product Code':<20}{'Quantity Rejected':<20}\\n\",\n",
    "        f\"{'-'*40}\\n\"]+[\n",
    "            f\"{product_code:<20}{quantity_rejected:<20}\\n\" for product_code, quantity_rejected in rejections\n",
    "        ]\n",
    "    \n",
    "    with open(file_path,'w') as f:\n",
    "        f.writelines(summary_lines)\n",
    "\n",
    "    print(f\"written_file: {file_path}\")"
   ]
  },
  {
   "cell_type": "code",
   "execution_count": null,
   "metadata": {},
   "outputs": [],
   "source": []
  },
  {
   "cell_type": "code",
   "execution_count": null,
   "metadata": {},
   "outputs": [],
   "source": []
  },
  {
   "cell_type": "code",
   "execution_count": 27,
   "metadata": {},
   "outputs": [
    {
     "name": "stdout",
     "output_type": "stream",
     "text": [
      "date_received, ingredient_name, supplier, number_of_cases, units_per_case, sample_case_count1, sample_case_count2, sample_case_count3, sample_case_rejections1, sample_case_rejections2, sample_case_rejections3\n",
      "10-Jun-21, tomato_cherry, ABC Vegetables, 10, 100, 95, 100, 110, 5, 3, 5\n",
      "10-Jun-21, tomato_cherry, Tomato Land, 20, 500, 440, 480, 500, 10, 0, 25\n",
      "10-Jun-21, tomato_vine, Tomato Land, 25, 100, 100, 100, 100, 0, 0, 0\n",
      "10-Jun-21, tomato_vine, ABC Vegetables, 10, 100, 100, 98, 101, 0, 0, 0\n",
      "10-Jun-21, cucumber_english, ABC Vegetables, 14, 50, 51, 50, 51, 10, 0, 0\n",
      "10-Jun-21, cucumber_pickle, Dill Farms, 15, 50, 50, 50, 50, 0, 0, 0\n",
      "11-Jun-21, bananas_organic, Banana Farms Inc, 24, 40, 40, 40, 40, 0, 0, 0\n",
      "11-Jun-21, bananas_organic, ABC Vegetables, 26, 30, 30, 28, 29, 0, 3, 0\n",
      "11-Jun-21, bananas_organic, Banana Farms Inc, 20, 30, 30, 30, 30, 0, 0, 0\n",
      "11-Jun-21, apples_gala, Orchard Inc, 20, 90, 90, 94, 90, 1, 4, 5\n",
      "11-Jun-21, apples_gala, Orchard Inc, 5, 90, 90, 90, 90, 0, 0, 3\n",
      "11-Jun-21, apples_gs, Orchard Inc, 1, 80, 80, 82, 80, 2, 0, 5\n",
      "13-Jun-21, apples_gala, Apple Farm, 20, 90, 90, 90, 90, 0, 0, 0\n",
      "13-Jun-21, oranges_california, Cali Fruits, 20, 90, 90, 90, 90, 4, 0, 0\n",
      "13-Jun-21, oranges_california, ABC Vegetables, 40, 100, 100, 102, 101, 0, 0, 3\n",
      "13-Jun-21, grapes_red, Cali Fruits, 20, 35, 30, 35, 30, 4, 0, 0\n",
      "13-Jun-21, grapes_green, Cali Fruits, 10, 35, 35, 35, 30, 5, 5, 3\n"
     ]
    }
   ],
   "source": [
    "with open('/Users/delinaivanova/Downloads/3967_Module 5_Data File_rejections.csv','r') as f:\n",
    "    reader = csv.reader(f)\n",
    "    for row in reader:\n",
    "        print(', '.join(row))"
   ]
  },
  {
   "cell_type": "code",
   "execution_count": null,
   "metadata": {},
   "outputs": [],
   "source": []
  },
  {
   "cell_type": "code",
   "execution_count": null,
   "metadata": {},
   "outputs": [],
   "source": []
  },
  {
   "cell_type": "code",
   "execution_count": null,
   "metadata": {},
   "outputs": [],
   "source": []
  },
  {
   "cell_type": "code",
   "execution_count": null,
   "metadata": {},
   "outputs": [],
   "source": []
  },
  {
   "cell_type": "code",
   "execution_count": null,
   "metadata": {},
   "outputs": [],
   "source": []
  }
 ],
 "metadata": {
  "kernelspec": {
   "display_name": "Python 3",
   "language": "python",
   "name": "python3"
  },
  "language_info": {
   "codemirror_mode": {
    "name": "ipython",
    "version": 3
   },
   "file_extension": ".py",
   "mimetype": "text/x-python",
   "name": "python",
   "nbconvert_exporter": "python",
   "pygments_lexer": "ipython3",
   "version": "3.11.4"
  }
 },
 "nbformat": 4,
 "nbformat_minor": 2
}
