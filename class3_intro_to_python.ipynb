{
 "cells": [
  {
   "cell_type": "code",
   "execution_count": 1,
   "metadata": {},
   "outputs": [],
   "source": [
    "# refresh custom functions\n",
    "\n",
    "def interactions(a, b):\n",
    "    add = a + b\n",
    "    sub = a - b\n",
    "    prod = a * b\n",
    "    div = a / b\n",
    "\n",
    "    return add, abs(sub), prod, div"
   ]
  },
  {
   "cell_type": "code",
   "execution_count": 2,
   "metadata": {},
   "outputs": [
    {
     "data": {
      "text/plain": [
       "(10, 4, 21, 2.3333333333333335)"
      ]
     },
     "execution_count": 2,
     "metadata": {},
     "output_type": "execute_result"
    }
   ],
   "source": [
    "interactions(7,3)"
   ]
  },
  {
   "cell_type": "code",
   "execution_count": 3,
   "metadata": {},
   "outputs": [
    {
     "ename": "TypeError",
     "evalue": "interactions() missing 1 required positional argument: 'b'",
     "output_type": "error",
     "traceback": [
      "\u001b[0;31m---------------------------------------------------------------------------\u001b[0m",
      "\u001b[0;31mTypeError\u001b[0m                                 Traceback (most recent call last)",
      "Cell \u001b[0;32mIn[3], line 1\u001b[0m\n\u001b[0;32m----> 1\u001b[0m interactions(\u001b[39m8\u001b[39;49m)\n",
      "\u001b[0;31mTypeError\u001b[0m: interactions() missing 1 required positional argument: 'b'"
     ]
    }
   ],
   "source": [
    "interactions(8)"
   ]
  },
  {
   "cell_type": "code",
   "execution_count": 7,
   "metadata": {},
   "outputs": [],
   "source": [
    "# create the function with a default value\n",
    "def interactions(a = 0, b = 1):\n",
    "    add = a + b\n",
    "    sub = a - b\n",
    "    prod = a * b\n",
    "    div = a / b\n",
    "\n",
    "    return add, abs(sub), prod, div"
   ]
  },
  {
   "cell_type": "code",
   "execution_count": 8,
   "metadata": {},
   "outputs": [
    {
     "data": {
      "text/plain": [
       "(9, 7, 8, 8.0)"
      ]
     },
     "execution_count": 8,
     "metadata": {},
     "output_type": "execute_result"
    }
   ],
   "source": [
    "interactions(8)"
   ]
  },
  {
   "cell_type": "code",
   "execution_count": 9,
   "metadata": {},
   "outputs": [
    {
     "data": {
      "text/plain": [
       "(1, 1, 0, 0.0)"
      ]
     },
     "execution_count": 9,
     "metadata": {},
     "output_type": "execute_result"
    }
   ],
   "source": [
    "interactions()"
   ]
  },
  {
   "cell_type": "code",
   "execution_count": 18,
   "metadata": {},
   "outputs": [],
   "source": [
    "def coordinates(point1 = (0,0), point2 = (0,0), point3 = (0,0), point4 = (0,0), newpoint = (0,0)):\n",
    "    if type(newpoint) != tuple:\n",
    "        return 'error'\n",
    "    if newpoint[0] in range(point1[0], point2[0]):\n",
    "        return True\n",
    "    else:\n",
    "        return False\n"
   ]
  },
  {
   "cell_type": "code",
   "execution_count": 19,
   "metadata": {},
   "outputs": [
    {
     "data": {
      "text/plain": [
       "'error'"
      ]
     },
     "execution_count": 19,
     "metadata": {},
     "output_type": "execute_result"
    }
   ],
   "source": [
    "coordinates([1,1],(4,4),(5,6),(7,8),[2,3])"
   ]
  },
  {
   "cell_type": "code",
   "execution_count": 21,
   "metadata": {},
   "outputs": [
    {
     "data": {
      "text/plain": [
       "list"
      ]
     },
     "execution_count": 21,
     "metadata": {},
     "output_type": "execute_result"
    }
   ],
   "source": [
    "# introduce creating classes\n",
    "type([1,2,3,4])"
   ]
  },
  {
   "cell_type": "code",
   "execution_count": 22,
   "metadata": {},
   "outputs": [],
   "source": [
    "list1 = [9,8,9,8,97]"
   ]
  },
  {
   "cell_type": "code",
   "execution_count": 23,
   "metadata": {},
   "outputs": [
    {
     "ename": "AttributeError",
     "evalue": "'tuple' object has no attribute 'sort'",
     "output_type": "error",
     "traceback": [
      "\u001b[0;31m---------------------------------------------------------------------------\u001b[0m",
      "\u001b[0;31mAttributeError\u001b[0m                            Traceback (most recent call last)",
      "Cell \u001b[0;32mIn[23], line 2\u001b[0m\n\u001b[1;32m      1\u001b[0m tuple1 \u001b[39m=\u001b[39m (\u001b[39m8\u001b[39m,\u001b[39m7\u001b[39m,\u001b[39m7\u001b[39m,\u001b[39m8\u001b[39m)\n\u001b[0;32m----> 2\u001b[0m tuple1\u001b[39m.\u001b[39;49msort()\n",
      "\u001b[0;31mAttributeError\u001b[0m: 'tuple' object has no attribute 'sort'"
     ]
    }
   ],
   "source": [
    "tuple1 = (8,7,7,8)\n",
    "tuple1.sort()"
   ]
  },
  {
   "cell_type": "code",
   "execution_count": 26,
   "metadata": {},
   "outputs": [],
   "source": [
    "# declaring a new class called Students\n",
    "class Students:\n",
    "    # define the class attributes\n",
    "    def __init__(self, name, email, age, year_started, class_list):\n",
    "        self.name = str(name)\n",
    "        self.email = str(email)\n",
    "        self.age = int(age)\n",
    "        self.year_started = int(year_started)\n",
    "        self.class_list = list(class_list)\n",
    "\n",
    "    # instance  methods\n",
    "    def years_at_school(self):\n",
    "        print(f\"{self.name} has been at the school for {2023 - self.year_started} years\")\n",
    "    \n",
    "    def first_period(self):\n",
    "        print(self.class_list[0])\n",
    "\n"
   ]
  },
  {
   "cell_type": "code",
   "execution_count": 27,
   "metadata": {},
   "outputs": [],
   "source": [
    "student1 = Students('Amy','amy@hotmail.com',30,2019,['math','english','spanish'])"
   ]
  },
  {
   "cell_type": "code",
   "execution_count": 28,
   "metadata": {},
   "outputs": [
    {
     "name": "stdout",
     "output_type": "stream",
     "text": [
      "Amy has been at the school for 4 years\n"
     ]
    }
   ],
   "source": [
    "student1.years_at_school()"
   ]
  },
  {
   "cell_type": "code",
   "execution_count": 29,
   "metadata": {},
   "outputs": [
    {
     "name": "stdout",
     "output_type": "stream",
     "text": [
      "math\n"
     ]
    }
   ],
   "source": [
    "student1.first_period()"
   ]
  },
  {
   "cell_type": "code",
   "execution_count": 30,
   "metadata": {},
   "outputs": [
    {
     "data": {
      "text/plain": [
       "'Amy'"
      ]
     },
     "execution_count": 30,
     "metadata": {},
     "output_type": "execute_result"
    }
   ],
   "source": [
    "student1.name"
   ]
  },
  {
   "cell_type": "code",
   "execution_count": 32,
   "metadata": {},
   "outputs": [
    {
     "ename": "AttributeError",
     "evalue": "'Students' object has no attribute 'middle_name'",
     "output_type": "error",
     "traceback": [
      "\u001b[0;31m---------------------------------------------------------------------------\u001b[0m",
      "\u001b[0;31mAttributeError\u001b[0m                            Traceback (most recent call last)",
      "Cell \u001b[0;32mIn[32], line 1\u001b[0m\n\u001b[0;32m----> 1\u001b[0m student1\u001b[39m.\u001b[39;49mmiddle_name\n",
      "\u001b[0;31mAttributeError\u001b[0m: 'Students' object has no attribute 'middle_name'"
     ]
    }
   ],
   "source": [
    "student1.middle_name # we did not collect this variable"
   ]
  },
  {
   "cell_type": "code",
   "execution_count": 77,
   "metadata": {},
   "outputs": [],
   "source": [
    "class Client:\n",
    "    count = 0 # class attribute\n",
    "\n",
    "    # create instances of a class\n",
    "    def __init__(self, name, email, phone):\n",
    "        Client.count +=1\n",
    "        self.name = name\n",
    "        self.email = email\n",
    "        self.phone = phone\n",
    "    \n",
    "    # instance method\n",
    "    def print_contact_info(self):\n",
    "        print(self.email, self.name, self.phone)\n",
    "\n",
    "    @classmethod\n",
    "    def num_clients(cls):\n",
    "        return cls.count\n",
    "    \n",
    "    @classmethod\n",
    "    def new_client(cls):\n",
    "        name = input('name:')\n",
    "        email = input('email: ')\n",
    "        phone = input('email: ')\n",
    "        return cls( name, email,phone)\n",
    "    \n"
   ]
  },
  {
   "cell_type": "code",
   "execution_count": 78,
   "metadata": {},
   "outputs": [],
   "source": [
    "client1 = Client.new_client() # define new client using class method"
   ]
  },
  {
   "cell_type": "code",
   "execution_count": 79,
   "metadata": {},
   "outputs": [],
   "source": [
    "client2 = Client.new_client() # define new client using class method"
   ]
  },
  {
   "cell_type": "code",
   "execution_count": 80,
   "metadata": {},
   "outputs": [
    {
     "data": {
      "text/plain": [
       "2"
      ]
     },
     "execution_count": 80,
     "metadata": {},
     "output_type": "execute_result"
    }
   ],
   "source": [
    "# use class method to find the total number of clients / instances in the class\n",
    "Client.num_clients()"
   ]
  },
  {
   "cell_type": "code",
   "execution_count": 81,
   "metadata": {},
   "outputs": [
    {
     "data": {
      "text/plain": [
       "'Sarah'"
      ]
     },
     "execution_count": 81,
     "metadata": {},
     "output_type": "execute_result"
    }
   ],
   "source": [
    "# use instance method to return a specific client attribute\n",
    "client1.name"
   ]
  },
  {
   "cell_type": "code",
   "execution_count": 66,
   "metadata": {},
   "outputs": [],
   "source": [
    "# open files with Python's built-in open() function > must be on your local drive\n",
    "\n",
    "file = open('/Users/local/Downloads/datafile.csv','r+')"
   ]
  },
  {
   "cell_type": "code",
   "execution_count": 67,
   "metadata": {},
   "outputs": [
    {
     "name": "stdout",
     "output_type": "stream",
     "text": [
      "Name,Phone Number,Email,Product,Representative\n",
      "Sarah,123-4567,sarah@email.com,Software,\n",
      "Matt,345-5467,matt@email.com,Hardware,\n",
      "Joe,345-6333,joe@email.com,Software,\n",
      "Michaela,876-8765,michaela@email.com,Hardware,\n"
     ]
    }
   ],
   "source": [
    "print(file.read()) # read data"
   ]
  },
  {
   "cell_type": "code",
   "execution_count": 68,
   "metadata": {},
   "outputs": [
    {
     "data": {
      "text/plain": [
       "38"
      ]
     },
     "execution_count": 68,
     "metadata": {},
     "output_type": "execute_result"
    }
   ],
   "source": [
    "file.write(\"\\nJohn,856-7894,john@email.com,Software\") # add new entry"
   ]
  },
  {
   "cell_type": "code",
   "execution_count": 69,
   "metadata": {},
   "outputs": [],
   "source": [
    "file.close() # close file"
   ]
  },
  {
   "cell_type": "code",
   "execution_count": 70,
   "metadata": {},
   "outputs": [],
   "source": [
    "# use the csv library to translate string into dictionary\n",
    "\n",
    "import csv\n",
    "data = [] # empty list to hold the dictionary for each user\n",
    "\n",
    "with open('/Users/local/Downloads/datafile.csv','r+') as csvfile:\n",
    "    read = csv.DictReader(csvfile)\n",
    "    for row in read:\n",
    "        data.append(row)"
   ]
  },
  {
   "cell_type": "code",
   "execution_count": 71,
   "metadata": {},
   "outputs": [
    {
     "data": {
      "text/plain": [
       "[{'Name': 'Sarah',\n",
       "  'Phone Number': '123-4567',\n",
       "  'Email': 'sarah@email.com',\n",
       "  'Product': 'Software',\n",
       "  'Representative': ''},\n",
       " {'Name': 'Matt',\n",
       "  'Phone Number': '345-5467',\n",
       "  'Email': 'matt@email.com',\n",
       "  'Product': 'Hardware',\n",
       "  'Representative': ''},\n",
       " {'Name': 'Joe',\n",
       "  'Phone Number': '345-6333',\n",
       "  'Email': 'joe@email.com',\n",
       "  'Product': 'Software',\n",
       "  'Representative': ''},\n",
       " {'Name': 'Michaela',\n",
       "  'Phone Number': '876-8765',\n",
       "  'Email': 'michaela@email.com',\n",
       "  'Product': 'Hardware',\n",
       "  'Representative': ''},\n",
       " {'Name': 'John',\n",
       "  'Phone Number': '856-7894',\n",
       "  'Email': 'john@email.com',\n",
       "  'Product': 'Software',\n",
       "  'Representative': None}]"
      ]
     },
     "execution_count": 71,
     "metadata": {},
     "output_type": "execute_result"
    }
   ],
   "source": [
    "data"
   ]
  },
  {
   "cell_type": "code",
   "execution_count": 72,
   "metadata": {},
   "outputs": [],
   "source": [
    "# custom function to store names, phone numbers, emails and products in separate lists\n",
    "\n",
    "customer_names = []\n",
    "phone_numbers = []\n",
    "emails = []\n",
    "products = []\n",
    "\n",
    "def data_organizer(x):\n",
    "    global customer_names\n",
    "    global phone_numbers\n",
    "    global emails\n",
    "    global products\n",
    "\n",
    "    customer_names.append(x['Name'])\n",
    "    phone_numbers.append(x['Phone Number'])\n",
    "    emails.append(x['Email'])\n",
    "    products.append(x['Product'])"
   ]
  },
  {
   "cell_type": "code",
   "execution_count": 73,
   "metadata": {},
   "outputs": [],
   "source": [
    "for i in data:\n",
    "    data_organizer(i)"
   ]
  },
  {
   "cell_type": "code",
   "execution_count": 74,
   "metadata": {},
   "outputs": [
    {
     "data": {
      "text/plain": [
       "['Sarah', 'Matt', 'Joe', 'Michaela', 'John']"
      ]
     },
     "execution_count": 74,
     "metadata": {},
     "output_type": "execute_result"
    }
   ],
   "source": [
    "customer_names"
   ]
  },
  {
   "cell_type": "code",
   "execution_count": null,
   "metadata": {},
   "outputs": [],
   "source": [
    "# or we can use Pandas... more on this, next class\n",
    "# use pip to install the pandas library to your environment\n",
    "pip install pandas"
   ]
  },
  {
   "cell_type": "code",
   "execution_count": 61,
   "metadata": {},
   "outputs": [],
   "source": [
    "import pandas as pd"
   ]
  },
  {
   "cell_type": "code",
   "execution_count": 62,
   "metadata": {},
   "outputs": [],
   "source": [
    "# with pandas we can read a data file right from GitHub\n",
    "df = pd.read_csv('https://raw.githubusercontent.com/delinai/uot_automation/main/datafile.csv')"
   ]
  },
  {
   "cell_type": "code",
   "execution_count": 63,
   "metadata": {},
   "outputs": [
    {
     "data": {
      "text/html": [
       "<div>\n",
       "<style scoped>\n",
       "    .dataframe tbody tr th:only-of-type {\n",
       "        vertical-align: middle;\n",
       "    }\n",
       "\n",
       "    .dataframe tbody tr th {\n",
       "        vertical-align: top;\n",
       "    }\n",
       "\n",
       "    .dataframe thead th {\n",
       "        text-align: right;\n",
       "    }\n",
       "</style>\n",
       "<table border=\"1\" class=\"dataframe\">\n",
       "  <thead>\n",
       "    <tr style=\"text-align: right;\">\n",
       "      <th></th>\n",
       "      <th>Name</th>\n",
       "      <th>Phone Number</th>\n",
       "      <th>Email</th>\n",
       "      <th>Product</th>\n",
       "      <th>Representative</th>\n",
       "    </tr>\n",
       "  </thead>\n",
       "  <tbody>\n",
       "    <tr>\n",
       "      <th>0</th>\n",
       "      <td>Sarah</td>\n",
       "      <td>123-4567</td>\n",
       "      <td>sarah@email.com</td>\n",
       "      <td>Software</td>\n",
       "      <td>NaN</td>\n",
       "    </tr>\n",
       "    <tr>\n",
       "      <th>1</th>\n",
       "      <td>Matt</td>\n",
       "      <td>345-5467</td>\n",
       "      <td>matt@email.com</td>\n",
       "      <td>Hardware</td>\n",
       "      <td>NaN</td>\n",
       "    </tr>\n",
       "    <tr>\n",
       "      <th>2</th>\n",
       "      <td>Joe</td>\n",
       "      <td>345-6333</td>\n",
       "      <td>joe@email.com</td>\n",
       "      <td>Software</td>\n",
       "      <td>NaN</td>\n",
       "    </tr>\n",
       "    <tr>\n",
       "      <th>3</th>\n",
       "      <td>Michaela</td>\n",
       "      <td>876-8765</td>\n",
       "      <td>michaela@email.com</td>\n",
       "      <td>Hardware</td>\n",
       "      <td>NaN</td>\n",
       "    </tr>\n",
       "  </tbody>\n",
       "</table>\n",
       "</div>"
      ],
      "text/plain": [
       "       Name Phone Number               Email   Product  Representative\n",
       "0     Sarah     123-4567     sarah@email.com  Software             NaN\n",
       "1      Matt     345-5467      matt@email.com  Hardware             NaN\n",
       "2       Joe     345-6333       joe@email.com  Software             NaN\n",
       "3  Michaela     876-8765  michaela@email.com  Hardware             NaN"
      ]
     },
     "execution_count": 63,
     "metadata": {},
     "output_type": "execute_result"
    }
   ],
   "source": [
    "df"
   ]
  },
  {
   "cell_type": "code",
   "execution_count": null,
   "metadata": {},
   "outputs": [],
   "source": []
  }
 ],
 "metadata": {
  "kernelspec": {
   "display_name": "Python 3",
   "language": "python",
   "name": "python3"
  },
  "language_info": {
   "codemirror_mode": {
    "name": "ipython",
    "version": 3
   },
   "file_extension": ".py",
   "mimetype": "text/x-python",
   "name": "python",
   "nbconvert_exporter": "python",
   "pygments_lexer": "ipython3",
   "version": "3.9.9"
  },
  "orig_nbformat": 4
 },
 "nbformat": 4,
 "nbformat_minor": 2
}
